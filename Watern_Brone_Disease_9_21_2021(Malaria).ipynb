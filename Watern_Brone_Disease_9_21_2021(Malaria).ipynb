{
  "nbformat": 4,
  "nbformat_minor": 0,
  "metadata": {
    "colab": {
      "name": "Watern_Brone_Disease_9_21_2021(Malaria).ipynb",
      "provenance": [],
      "collapsed_sections": [],
      "toc_visible": true,
      "include_colab_link": true
    },
    "kernelspec": {
      "display_name": "Python 3",
      "language": "python",
      "name": "python3"
    },
    "language_info": {
      "codemirror_mode": {
        "name": "ipython",
        "version": 3
      },
      "file_extension": ".py",
      "mimetype": "text/x-python",
      "name": "python",
      "nbconvert_exporter": "python",
      "pygments_lexer": "ipython3",
      "version": "3.8.3"
    }
  },
  "cells": [
    {
      "cell_type": "markdown",
      "metadata": {
        "id": "view-in-github",
        "colab_type": "text"
      },
      "source": [
        "<a href=\"https://colab.research.google.com/github/hussain0048/Water-borne-diseases/blob/main/Watern_Brone_Disease_9_21_2021(Malaria).ipynb\" target=\"_parent\"><img src=\"https://colab.research.google.com/assets/colab-badge.svg\" alt=\"Open In Colab\"/></a>"
      ]
    },
    {
      "cell_type": "markdown",
      "metadata": {
        "id": "VKWa-lg2Gynj"
      },
      "source": [
        "# **Table of Content**\n",
        "\n",
        "<div class=\"alert alert-block alert-info\" style=\"margin-top: 20px\">\n",
        "    <ol>\n",
        "        <li><a href=\"https://co\">Introduction</a></li>\n",
        "        <li><a href=\"#downloading_data\">Importing libraries</a></li>\n",
        "        <li><a href=\"#Processing\">Processing</a></li>\n",
        "        <li><a href=\"#setting_up_tree\">Splitting Training and Test Set</a></li>\n",
        "        <li><a href=\"#modeling\">Modle Training</a></li>\n",
        "        <li><a href=\"#prediction\">Saving model to disk</a></li>\n",
        "        <li><a href=\"#evaluation\">References</a></li>\n",
        "    </ol>\n",
        "</div>\n",
        "<br>\n",
        "<hr>"
      ]
    },
    {
      "cell_type": "markdown",
      "metadata": {
        "id": "BwlGIq-fgExg"
      },
      "source": [
        "# **1- Introduction**\n",
        " the water-borne diseases are the most common which transmitted in contaminated fresh water, whether in bathing, washing, drinking, or in the preparation of food.. More than one-third of Earth&#39;s accessible renewable freshwater is consumptively used for agricultural, industrial, and\n",
        "domestic purposes. Water-borne diseases are commonly found throughout the world but the\n",
        "condition is more aggravated in developing countries including Pakistan. "
      ]
    },
    {
      "cell_type": "markdown",
      "metadata": {
        "id": "Gpjx_5M_Ma7v"
      },
      "source": [
        "#**2-Importing libraries**"
      ]
    },
    {
      "cell_type": "code",
      "metadata": {
        "id": "-E4TvIVLMa73",
        "scrolled": true
      },
      "source": [
        "import numpy as np \n",
        "import pandas as pd \n",
        "import seaborn as sns \n",
        "import matplotlib.pyplot as plt\n",
        "from prettytable import PrettyTable\n",
        "from sklearn.metrics import roc_curve, auc\n",
        "from mlxtend.plotting import plot_confusion_matrix \n",
        "from sklearn.model_selection import train_test_split\n",
        "from sklearn.metrics import classification_report, confusion_matrix\n",
        "from sklearn.tree import DecisionTreeClassifier\n",
        "from sklearn.ensemble import RandomForestClassifier\n",
        "from sklearn.svm import LinearSVC\n",
        "from sklearn.linear_model import LogisticRegression\n",
        "from sklearn.neighbors import KNeighborsClassifier\n",
        "import warnings\n",
        "warnings.filterwarnings(\"ignore\")"
      ],
      "execution_count": 1,
      "outputs": []
    },
    {
      "cell_type": "code",
      "metadata": {
        "id": "BetwIHqiVbt6"
      },
      "source": [
        "import pandas as pd \n"
      ],
      "execution_count": 2,
      "outputs": []
    },
    {
      "cell_type": "markdown",
      "metadata": {
        "id": "gHoPSZkDivGv"
      },
      "source": [
        "#**3-Processing**\n"
      ]
    },
    {
      "cell_type": "markdown",
      "metadata": {
        "id": "1Vt6LxAxbz6v"
      },
      "source": [
        "## **3.1 Data Reading**"
      ]
    },
    {
      "cell_type": "code",
      "metadata": {
        "id": "K1Cj5cSkCzvl",
        "colab": {
          "base_uri": "https://localhost:8080/"
        },
        "outputId": "ef7fc978-84d4-4141-eb16-c7a2f9156c63"
      },
      "source": [
        "from google.colab import drive\n",
        "drive.mount('/content/drive')"
      ],
      "execution_count": 3,
      "outputs": [
        {
          "output_type": "stream",
          "name": "stdout",
          "text": [
            "Mounted at /content/drive\n"
          ]
        }
      ]
    },
    {
      "cell_type": "code",
      "metadata": {
        "id": "XGN87XMSivGw"
      },
      "source": [
        "df = pd.read_csv('/content/drive/MyDrive/Datasets/Water Brone diesease/Malyria_2-21-2021.csv',encoding = 'latin')"
      ],
      "execution_count": 16,
      "outputs": []
    },
    {
      "cell_type": "code",
      "metadata": {
        "id": "B6-L96xXwnvr",
        "colab": {
          "base_uri": "https://localhost:8080/",
          "height": 343
        },
        "outputId": "5350ba3a-9351-46f7-a8e2-182dcec0fe66"
      },
      "source": [
        "df.head()"
      ],
      "execution_count": 17,
      "outputs": [
        {
          "output_type": "execute_result",
          "data": {
            "text/html": [
              "<div>\n",
              "<style scoped>\n",
              "    .dataframe tbody tr th:only-of-type {\n",
              "        vertical-align: middle;\n",
              "    }\n",
              "\n",
              "    .dataframe tbody tr th {\n",
              "        vertical-align: top;\n",
              "    }\n",
              "\n",
              "    .dataframe thead th {\n",
              "        text-align: right;\n",
              "    }\n",
              "</style>\n",
              "<table border=\"1\" class=\"dataframe\">\n",
              "  <thead>\n",
              "    <tr style=\"text-align: right;\">\n",
              "      <th></th>\n",
              "      <th>Unnamed: 0</th>\n",
              "      <th>SECTION_NO</th>\n",
              "      <th>MRNO</th>\n",
              "      <th>PATIENT_NAME</th>\n",
              "      <th>FATHER_NAME</th>\n",
              "      <th>HUSBAND_NAME</th>\n",
              "      <th>NIC_NEW</th>\n",
              "      <th>REFERRED_FROM</th>\n",
              "      <th>AGE</th>\n",
              "      <th>GENDER</th>\n",
              "      <th>NO_OF_ADMISSION</th>\n",
              "      <th>DISTRICT</th>\n",
              "      <th>TEHSIL</th>\n",
              "      <th>REPORT_VERIFIED</th>\n",
              "      <th>CPT_ID</th>\n",
              "      <th>RESULT_VALUE</th>\n",
              "      <th>CPT_ID.1</th>\n",
              "      <th>SECTION_NO.1</th>\n",
              "      <th>RESULT_TEXT</th>\n",
              "    </tr>\n",
              "  </thead>\n",
              "  <tbody>\n",
              "    <tr>\n",
              "      <th>0</th>\n",
              "      <td>1</td>\n",
              "      <td>K04HEM20123774</td>\n",
              "      <td>K0460000001363</td>\n",
              "      <td>Saqib Mehmood Khan</td>\n",
              "      <td>MUHAMMAD AFSAR KHAN</td>\n",
              "      <td>NaN</td>\n",
              "      <td>1.310163e+12</td>\n",
              "      <td>NaN</td>\n",
              "      <td>34 Year(s)</td>\n",
              "      <td>Male</td>\n",
              "      <td>0</td>\n",
              "      <td>Abbottabad</td>\n",
              "      <td>havelia</td>\n",
              "      <td>11/12/2020 10:46:53 A11P11</td>\n",
              "      <td>1000000000085007</td>\n",
              "      <td>Y</td>\n",
              "      <td>1000000000087207</td>\n",
              "      <td>K04HEM20123774</td>\n",
              "      <td>Negative</td>\n",
              "    </tr>\n",
              "    <tr>\n",
              "      <th>1</th>\n",
              "      <td>2</td>\n",
              "      <td>K04HEM18160758</td>\n",
              "      <td>K0460000001680</td>\n",
              "      <td>Muhammad Iqbal</td>\n",
              "      <td>ABDUR REHMAN</td>\n",
              "      <td>NaN</td>\n",
              "      <td>1.310134e+12</td>\n",
              "      <td>NaN</td>\n",
              "      <td>43 Year(s)</td>\n",
              "      <td>Male</td>\n",
              "      <td>0</td>\n",
              "      <td>Abbottabad</td>\n",
              "      <td>Abbottabad</td>\n",
              "      <td>9/29/2018 9:26:21 A9P9</td>\n",
              "      <td>1000000000087207</td>\n",
              "      <td>Y</td>\n",
              "      <td>1000000000087207</td>\n",
              "      <td>K04HEM18160758</td>\n",
              "      <td>Negative</td>\n",
              "    </tr>\n",
              "    <tr>\n",
              "      <th>2</th>\n",
              "      <td>3</td>\n",
              "      <td>K04HEM18160758</td>\n",
              "      <td>K0460000001680</td>\n",
              "      <td>Muhammad Iqbal</td>\n",
              "      <td>ABDUR REHMAN</td>\n",
              "      <td>NaN</td>\n",
              "      <td>1.310134e+12</td>\n",
              "      <td>NaN</td>\n",
              "      <td>43 Year(s)</td>\n",
              "      <td>Male</td>\n",
              "      <td>0</td>\n",
              "      <td>Abbottabad</td>\n",
              "      <td>Abbottabad</td>\n",
              "      <td>9/29/2018 9:26:07 A9P9</td>\n",
              "      <td>1000000000085007</td>\n",
              "      <td>Y</td>\n",
              "      <td>1000000000087207</td>\n",
              "      <td>K04HEM18160758</td>\n",
              "      <td>Negative</td>\n",
              "    </tr>\n",
              "    <tr>\n",
              "      <th>3</th>\n",
              "      <td>4</td>\n",
              "      <td>K04HEM17056995</td>\n",
              "      <td>K0460000000106</td>\n",
              "      <td>Shahbaz Ahmad</td>\n",
              "      <td>MUMTAZ AHMAD</td>\n",
              "      <td>NaN</td>\n",
              "      <td>4.220136e+12</td>\n",
              "      <td>NaN</td>\n",
              "      <td>28 Year(s)</td>\n",
              "      <td>Male</td>\n",
              "      <td>0</td>\n",
              "      <td>Abbottabad</td>\n",
              "      <td>Abbottabad</td>\n",
              "      <td>5/4/2017 9:48:37 A5P5</td>\n",
              "      <td>1000000000085007</td>\n",
              "      <td>Y</td>\n",
              "      <td>1000000000087207</td>\n",
              "      <td>K04HEM17056995</td>\n",
              "      <td>Negative</td>\n",
              "    </tr>\n",
              "    <tr>\n",
              "      <th>4</th>\n",
              "      <td>5</td>\n",
              "      <td>K04HEM17073233</td>\n",
              "      <td>K0460000000150</td>\n",
              "      <td>Mehfooz Ahmad</td>\n",
              "      <td>HAIDER ZAMAN</td>\n",
              "      <td>NaN</td>\n",
              "      <td>1.310109e+12</td>\n",
              "      <td>NaN</td>\n",
              "      <td>42 Year(s)</td>\n",
              "      <td>Male</td>\n",
              "      <td>0</td>\n",
              "      <td>Abbottabad</td>\n",
              "      <td>Abbottabad</td>\n",
              "      <td>6/3/2017 11:59:38 A6P6</td>\n",
              "      <td>1000000000085007</td>\n",
              "      <td>Y</td>\n",
              "      <td>1000000000087207</td>\n",
              "      <td>K04HEM17073233</td>\n",
              "      <td>Negative</td>\n",
              "    </tr>\n",
              "  </tbody>\n",
              "</table>\n",
              "</div>"
            ],
            "text/plain": [
              "   Unnamed: 0      SECTION_NO  ...    SECTION_NO.1 RESULT_TEXT\n",
              "0           1  K04HEM20123774  ...  K04HEM20123774    Negative\n",
              "1           2  K04HEM18160758  ...  K04HEM18160758    Negative\n",
              "2           3  K04HEM18160758  ...  K04HEM18160758    Negative\n",
              "3           4  K04HEM17056995  ...  K04HEM17056995    Negative\n",
              "4           5  K04HEM17073233  ...  K04HEM17073233    Negative\n",
              "\n",
              "[5 rows x 19 columns]"
            ]
          },
          "metadata": {},
          "execution_count": 17
        }
      ]
    },
    {
      "cell_type": "markdown",
      "metadata": {
        "id": "q3oI8qBEgWQF"
      },
      "source": [
        "## 3.2- **Drop Columns**"
      ]
    },
    {
      "cell_type": "code",
      "metadata": {
        "id": "LUmDSArIT_Gz"
      },
      "source": [
        "df.drop(labels=['Unnamed: 0', 'SECTION_NO', 'MRNO', 'PATIENT_NAME', 'FATHER_NAME',\n",
        "       'HUSBAND_NAME', 'NIC_NEW', 'REFERRED_FROM', 'NO_OF_ADMISSION', 'TEHSIL', 'REPORT_VERIFIED', 'CPT_ID',\n",
        "       'RESULT_VALUE', 'CPT_ID.1', 'SECTION_NO.1'],axis=1,inplace=True)"
      ],
      "execution_count": 5,
      "outputs": []
    },
    {
      "cell_type": "code",
      "metadata": {
        "id": "T885zE0IWN1c"
      },
      "source": [
        "df"
      ],
      "execution_count": null,
      "outputs": []
    },
    {
      "cell_type": "code",
      "metadata": {
        "colab": {
          "base_uri": "https://localhost:8080/",
          "height": 204
        },
        "id": "4z2-2606wuwe",
        "outputId": "80b5e974-7ee9-4bd5-b6de-298d3f2bf972"
      },
      "source": [
        "df.head()"
      ],
      "execution_count": 7,
      "outputs": [
        {
          "output_type": "execute_result",
          "data": {
            "text/html": [
              "<div>\n",
              "<style scoped>\n",
              "    .dataframe tbody tr th:only-of-type {\n",
              "        vertical-align: middle;\n",
              "    }\n",
              "\n",
              "    .dataframe tbody tr th {\n",
              "        vertical-align: top;\n",
              "    }\n",
              "\n",
              "    .dataframe thead th {\n",
              "        text-align: right;\n",
              "    }\n",
              "</style>\n",
              "<table border=\"1\" class=\"dataframe\">\n",
              "  <thead>\n",
              "    <tr style=\"text-align: right;\">\n",
              "      <th></th>\n",
              "      <th>AGE</th>\n",
              "      <th>GENDER</th>\n",
              "      <th>DISTRICT</th>\n",
              "      <th>RESULT_TEXT</th>\n",
              "    </tr>\n",
              "  </thead>\n",
              "  <tbody>\n",
              "    <tr>\n",
              "      <th>0</th>\n",
              "      <td>34 Year(s)</td>\n",
              "      <td>Male</td>\n",
              "      <td>Abbottabad</td>\n",
              "      <td>Negative</td>\n",
              "    </tr>\n",
              "    <tr>\n",
              "      <th>1</th>\n",
              "      <td>43 Year(s)</td>\n",
              "      <td>Male</td>\n",
              "      <td>Abbottabad</td>\n",
              "      <td>Negative</td>\n",
              "    </tr>\n",
              "    <tr>\n",
              "      <th>2</th>\n",
              "      <td>43 Year(s)</td>\n",
              "      <td>Male</td>\n",
              "      <td>Abbottabad</td>\n",
              "      <td>Negative</td>\n",
              "    </tr>\n",
              "    <tr>\n",
              "      <th>3</th>\n",
              "      <td>28 Year(s)</td>\n",
              "      <td>Male</td>\n",
              "      <td>Abbottabad</td>\n",
              "      <td>Negative</td>\n",
              "    </tr>\n",
              "    <tr>\n",
              "      <th>4</th>\n",
              "      <td>42 Year(s)</td>\n",
              "      <td>Male</td>\n",
              "      <td>Abbottabad</td>\n",
              "      <td>Negative</td>\n",
              "    </tr>\n",
              "  </tbody>\n",
              "</table>\n",
              "</div>"
            ],
            "text/plain": [
              "          AGE GENDER    DISTRICT RESULT_TEXT\n",
              "0  34 Year(s)   Male  Abbottabad    Negative\n",
              "1  43 Year(s)   Male  Abbottabad    Negative\n",
              "2  43 Year(s)   Male  Abbottabad    Negative\n",
              "3  28 Year(s)   Male  Abbottabad    Negative\n",
              "4  42 Year(s)   Male  Abbottabad    Negative"
            ]
          },
          "metadata": {},
          "execution_count": 7
        }
      ]
    },
    {
      "cell_type": "markdown",
      "metadata": {
        "id": "ai0YcEsvDhbV"
      },
      "source": [
        "## **3.3 Remove string from Age**"
      ]
    },
    {
      "cell_type": "code",
      "metadata": {
        "id": "_injZ1Ikj9wC"
      },
      "source": [
        "df['Age'] = df['AGE'].str.split().str[0]"
      ],
      "execution_count": 8,
      "outputs": []
    },
    {
      "cell_type": "code",
      "metadata": {
        "colab": {
          "base_uri": "https://localhost:8080/",
          "height": 204
        },
        "id": "r2b-QOEWkhoy",
        "outputId": "7244ec2a-1068-4b09-e2c5-200897e7fcd1"
      },
      "source": [
        "df.head()"
      ],
      "execution_count": 9,
      "outputs": [
        {
          "output_type": "execute_result",
          "data": {
            "text/html": [
              "<div>\n",
              "<style scoped>\n",
              "    .dataframe tbody tr th:only-of-type {\n",
              "        vertical-align: middle;\n",
              "    }\n",
              "\n",
              "    .dataframe tbody tr th {\n",
              "        vertical-align: top;\n",
              "    }\n",
              "\n",
              "    .dataframe thead th {\n",
              "        text-align: right;\n",
              "    }\n",
              "</style>\n",
              "<table border=\"1\" class=\"dataframe\">\n",
              "  <thead>\n",
              "    <tr style=\"text-align: right;\">\n",
              "      <th></th>\n",
              "      <th>AGE</th>\n",
              "      <th>GENDER</th>\n",
              "      <th>DISTRICT</th>\n",
              "      <th>RESULT_TEXT</th>\n",
              "      <th>Age</th>\n",
              "    </tr>\n",
              "  </thead>\n",
              "  <tbody>\n",
              "    <tr>\n",
              "      <th>0</th>\n",
              "      <td>34 Year(s)</td>\n",
              "      <td>Male</td>\n",
              "      <td>Abbottabad</td>\n",
              "      <td>Negative</td>\n",
              "      <td>34</td>\n",
              "    </tr>\n",
              "    <tr>\n",
              "      <th>1</th>\n",
              "      <td>43 Year(s)</td>\n",
              "      <td>Male</td>\n",
              "      <td>Abbottabad</td>\n",
              "      <td>Negative</td>\n",
              "      <td>43</td>\n",
              "    </tr>\n",
              "    <tr>\n",
              "      <th>2</th>\n",
              "      <td>43 Year(s)</td>\n",
              "      <td>Male</td>\n",
              "      <td>Abbottabad</td>\n",
              "      <td>Negative</td>\n",
              "      <td>43</td>\n",
              "    </tr>\n",
              "    <tr>\n",
              "      <th>3</th>\n",
              "      <td>28 Year(s)</td>\n",
              "      <td>Male</td>\n",
              "      <td>Abbottabad</td>\n",
              "      <td>Negative</td>\n",
              "      <td>28</td>\n",
              "    </tr>\n",
              "    <tr>\n",
              "      <th>4</th>\n",
              "      <td>42 Year(s)</td>\n",
              "      <td>Male</td>\n",
              "      <td>Abbottabad</td>\n",
              "      <td>Negative</td>\n",
              "      <td>42</td>\n",
              "    </tr>\n",
              "  </tbody>\n",
              "</table>\n",
              "</div>"
            ],
            "text/plain": [
              "          AGE GENDER    DISTRICT RESULT_TEXT Age\n",
              "0  34 Year(s)   Male  Abbottabad    Negative  34\n",
              "1  43 Year(s)   Male  Abbottabad    Negative  43\n",
              "2  43 Year(s)   Male  Abbottabad    Negative  43\n",
              "3  28 Year(s)   Male  Abbottabad    Negative  28\n",
              "4  42 Year(s)   Male  Abbottabad    Negative  42"
            ]
          },
          "metadata": {},
          "execution_count": 9
        }
      ]
    },
    {
      "cell_type": "code",
      "metadata": {
        "id": "PTRT-Lxs_hsP"
      },
      "source": [
        "df.drop(['AGE'],axis=1,inplace=True)\n"
      ],
      "execution_count": 10,
      "outputs": []
    },
    {
      "cell_type": "code",
      "metadata": {
        "colab": {
          "base_uri": "https://localhost:8080/",
          "height": 419
        },
        "id": "d0UyMcSO_48D",
        "outputId": "01078143-9a92-4967-ad66-649fdd8274da"
      },
      "source": [
        "df"
      ],
      "execution_count": 11,
      "outputs": [
        {
          "output_type": "execute_result",
          "data": {
            "text/html": [
              "<div>\n",
              "<style scoped>\n",
              "    .dataframe tbody tr th:only-of-type {\n",
              "        vertical-align: middle;\n",
              "    }\n",
              "\n",
              "    .dataframe tbody tr th {\n",
              "        vertical-align: top;\n",
              "    }\n",
              "\n",
              "    .dataframe thead th {\n",
              "        text-align: right;\n",
              "    }\n",
              "</style>\n",
              "<table border=\"1\" class=\"dataframe\">\n",
              "  <thead>\n",
              "    <tr style=\"text-align: right;\">\n",
              "      <th></th>\n",
              "      <th>GENDER</th>\n",
              "      <th>DISTRICT</th>\n",
              "      <th>RESULT_TEXT</th>\n",
              "      <th>Age</th>\n",
              "    </tr>\n",
              "  </thead>\n",
              "  <tbody>\n",
              "    <tr>\n",
              "      <th>0</th>\n",
              "      <td>Male</td>\n",
              "      <td>Abbottabad</td>\n",
              "      <td>Negative</td>\n",
              "      <td>34</td>\n",
              "    </tr>\n",
              "    <tr>\n",
              "      <th>1</th>\n",
              "      <td>Male</td>\n",
              "      <td>Abbottabad</td>\n",
              "      <td>Negative</td>\n",
              "      <td>43</td>\n",
              "    </tr>\n",
              "    <tr>\n",
              "      <th>2</th>\n",
              "      <td>Male</td>\n",
              "      <td>Abbottabad</td>\n",
              "      <td>Negative</td>\n",
              "      <td>43</td>\n",
              "    </tr>\n",
              "    <tr>\n",
              "      <th>3</th>\n",
              "      <td>Male</td>\n",
              "      <td>Abbottabad</td>\n",
              "      <td>Negative</td>\n",
              "      <td>28</td>\n",
              "    </tr>\n",
              "    <tr>\n",
              "      <th>4</th>\n",
              "      <td>Male</td>\n",
              "      <td>Abbottabad</td>\n",
              "      <td>Negative</td>\n",
              "      <td>42</td>\n",
              "    </tr>\n",
              "    <tr>\n",
              "      <th>...</th>\n",
              "      <td>...</td>\n",
              "      <td>...</td>\n",
              "      <td>...</td>\n",
              "      <td>...</td>\n",
              "    </tr>\n",
              "    <tr>\n",
              "      <th>22911</th>\n",
              "      <td>Male</td>\n",
              "      <td>Haripur</td>\n",
              "      <td>Negative</td>\n",
              "      <td>13</td>\n",
              "    </tr>\n",
              "    <tr>\n",
              "      <th>22912</th>\n",
              "      <td>Male</td>\n",
              "      <td>Abbottabad</td>\n",
              "      <td>Negative</td>\n",
              "      <td>20</td>\n",
              "    </tr>\n",
              "    <tr>\n",
              "      <th>22913</th>\n",
              "      <td>Male</td>\n",
              "      <td>Abbottabad</td>\n",
              "      <td>Negative</td>\n",
              "      <td>21</td>\n",
              "    </tr>\n",
              "    <tr>\n",
              "      <th>22914</th>\n",
              "      <td>Female</td>\n",
              "      <td>Abbottabad</td>\n",
              "      <td>Negative</td>\n",
              "      <td>45</td>\n",
              "    </tr>\n",
              "    <tr>\n",
              "      <th>22915</th>\n",
              "      <td>Female</td>\n",
              "      <td>Abbottabad</td>\n",
              "      <td>Negative</td>\n",
              "      <td>22</td>\n",
              "    </tr>\n",
              "  </tbody>\n",
              "</table>\n",
              "<p>22916 rows × 4 columns</p>\n",
              "</div>"
            ],
            "text/plain": [
              "       GENDER    DISTRICT RESULT_TEXT Age\n",
              "0        Male  Abbottabad    Negative  34\n",
              "1        Male  Abbottabad    Negative  43\n",
              "2        Male  Abbottabad    Negative  43\n",
              "3        Male  Abbottabad    Negative  28\n",
              "4        Male  Abbottabad    Negative  42\n",
              "...       ...         ...         ...  ..\n",
              "22911    Male     Haripur    Negative  13\n",
              "22912    Male  Abbottabad    Negative  20\n",
              "22913    Male  Abbottabad    Negative  21\n",
              "22914  Female  Abbottabad    Negative  45\n",
              "22915  Female  Abbottabad    Negative  22\n",
              "\n",
              "[22916 rows x 4 columns]"
            ]
          },
          "metadata": {},
          "execution_count": 11
        }
      ]
    },
    {
      "cell_type": "markdown",
      "metadata": {
        "id": "TtDRkJLu27d6"
      },
      "source": [
        "##**3.4 Convert target variable into binary Form**"
      ]
    },
    {
      "cell_type": "code",
      "metadata": {
        "id": "_3NNM8H3QGZ8"
      },
      "source": [
        "df['RESULT_TEXT'].replace({'Negative': 0, 'Positive': 1},inplace = True)\n"
      ],
      "execution_count": 12,
      "outputs": []
    },
    {
      "cell_type": "code",
      "metadata": {
        "id": "mMCjB_NdHCrW"
      },
      "source": [
        "df"
      ],
      "execution_count": null,
      "outputs": []
    },
    {
      "cell_type": "markdown",
      "metadata": {
        "id": "idAk1K8xl2IG"
      },
      "source": [
        "## **3.7- Check unique value** "
      ]
    },
    {
      "cell_type": "code",
      "metadata": {
        "id": "Ri0-PU1imPPB",
        "colab": {
          "base_uri": "https://localhost:8080/"
        },
        "outputId": "4d4723ba-5414-4731-8e6b-280ae0370867"
      },
      "source": [
        "print(df['DISTRICT'].unique())\n"
      ],
      "execution_count": 14,
      "outputs": [
        {
          "output_type": "stream",
          "name": "stdout",
          "text": [
            "['Abbottabad' 'Mansehra' 'Haripur' 'Kohistan' 'Peshawar' 'Batgram' 'Bolan'\n",
            " 'Shangla' 'RahimYar Khan' 'Mardan' 'MUZAFFARABAD' 'Lower Dir' 'DIAMIR'\n",
            " 'ISLAMABAD' 'Lasbela' 'GILGIT' 'Vehari' 'Swat' 'Swabi' 'Tharparkar'\n",
            " 'BAGH' 'UNKNOWN F.A.T.A' 'Mianwali' 'Attock' 'Dadu' 'Charsadda' 'ORAKZAI'\n",
            " 'MIRPUR' 'Lahore' 'KHYBER' 'Upper Dir' 'Hangu' 'KURRAM' 'Zhob' 'POONCH'\n",
            " 'Nowshera' 'Rawalpindi' 'MOHMAND']\n"
          ]
        }
      ]
    },
    {
      "cell_type": "code",
      "metadata": {
        "colab": {
          "base_uri": "https://localhost:8080/"
        },
        "id": "BOhqIxnqmeOQ",
        "outputId": "698a4f9f-cfc3-4e3a-9893-a0d073fe7b13"
      },
      "source": [
        "print(df['GENDER'].unique())"
      ],
      "execution_count": 15,
      "outputs": [
        {
          "output_type": "stream",
          "name": "stdout",
          "text": [
            "['Male' 'Female' 'Neuter']\n"
          ]
        }
      ]
    },
    {
      "cell_type": "markdown",
      "metadata": {
        "id": "c_emrU7L7CC9"
      },
      "source": [
        "##**3.7 Hot Encoding**"
      ]
    },
    {
      "cell_type": "code",
      "metadata": {
        "id": "3X2LonDY5Xny"
      },
      "source": [
        "#Label encoding executed manually\n",
        "DISTRICT_dict = { 'Abbottabad':0, 'Mansehra':1, 'Haripur':2, 'Kohistan':3, 'Peshawar':4, 'Batgram':5, 'Bolan':6, 'Shangla':7, 'RahimYar Khan':8, 'Mardan':9, 'MUZAFFARABAD':10, 'Lower Dir':11, 'DIAMIR':12, 'ISLAMABAD':13, 'Lasbela':14, 'GILGIT':15, 'Vehari':16, 'Swat':17, 'Swabi':18, 'Tharparkar':19,'BAGH':20, 'UNKNOWN F.A.T.A':21, 'Mianwali':22, 'Attock':23, 'Dadu':24, 'Charsadda':25, 'ORAKZAI':26, 'MIRPUR':27, 'KHYBER':28, 'Lahore':29, 'Upper Dir':30, 'Hangu':31, 'KURRAM':32, 'Zhob':33, 'POONCH':34,'Nowshera':35, 'Rawalpindi':36, 'MOHMAND':37}"
      ],
      "execution_count": null,
      "outputs": []
    },
    {
      "cell_type": "code",
      "metadata": {
        "id": "AqPArdT-AKn7"
      },
      "source": [
        "Gender_dict = { 'Male':1, 'Female':2, 'Neuter':3 }"
      ],
      "execution_count": null,
      "outputs": []
    },
    {
      "cell_type": "code",
      "metadata": {
        "id": "nVbwbaquFFEg"
      },
      "source": [
        "df"
      ],
      "execution_count": null,
      "outputs": []
    },
    {
      "cell_type": "code",
      "metadata": {
        "id": "A9iMcH6AFVAM"
      },
      "source": [
        "df['DISTRICT_Encoded']=df['DISTRICT'].map(DISTRICT_dict)"
      ],
      "execution_count": null,
      "outputs": []
    },
    {
      "cell_type": "code",
      "metadata": {
        "id": "E_S77CXkFnFH"
      },
      "source": [
        "df"
      ],
      "execution_count": null,
      "outputs": []
    },
    {
      "cell_type": "code",
      "metadata": {
        "id": "pxzBKRE0F4ue"
      },
      "source": [
        "df['Gender_Encoded']=df['GENDER'].map(Gender_dict)\n"
      ],
      "execution_count": null,
      "outputs": []
    },
    {
      "cell_type": "code",
      "metadata": {
        "colab": {
          "base_uri": "https://localhost:8080/",
          "height": 419
        },
        "id": "EitkY5CIGKYg",
        "outputId": "5f377d75-6567-4de8-e25f-a36bbdd45119"
      },
      "source": [
        "df"
      ],
      "execution_count": null,
      "outputs": [
        {
          "output_type": "execute_result",
          "data": {
            "text/html": [
              "<div>\n",
              "<style scoped>\n",
              "    .dataframe tbody tr th:only-of-type {\n",
              "        vertical-align: middle;\n",
              "    }\n",
              "\n",
              "    .dataframe tbody tr th {\n",
              "        vertical-align: top;\n",
              "    }\n",
              "\n",
              "    .dataframe thead th {\n",
              "        text-align: right;\n",
              "    }\n",
              "</style>\n",
              "<table border=\"1\" class=\"dataframe\">\n",
              "  <thead>\n",
              "    <tr style=\"text-align: right;\">\n",
              "      <th></th>\n",
              "      <th>GENDER</th>\n",
              "      <th>DISTRICT</th>\n",
              "      <th>RESULT_TEXT</th>\n",
              "      <th>Age</th>\n",
              "      <th>DISTRICT_Encoded</th>\n",
              "      <th>Gender_Encoded</th>\n",
              "    </tr>\n",
              "  </thead>\n",
              "  <tbody>\n",
              "    <tr>\n",
              "      <th>0</th>\n",
              "      <td>Male</td>\n",
              "      <td>Abbottabad</td>\n",
              "      <td>0</td>\n",
              "      <td>34</td>\n",
              "      <td>0</td>\n",
              "      <td>1</td>\n",
              "    </tr>\n",
              "    <tr>\n",
              "      <th>1</th>\n",
              "      <td>Male</td>\n",
              "      <td>Abbottabad</td>\n",
              "      <td>0</td>\n",
              "      <td>43</td>\n",
              "      <td>0</td>\n",
              "      <td>1</td>\n",
              "    </tr>\n",
              "    <tr>\n",
              "      <th>2</th>\n",
              "      <td>Male</td>\n",
              "      <td>Abbottabad</td>\n",
              "      <td>0</td>\n",
              "      <td>43</td>\n",
              "      <td>0</td>\n",
              "      <td>1</td>\n",
              "    </tr>\n",
              "    <tr>\n",
              "      <th>3</th>\n",
              "      <td>Male</td>\n",
              "      <td>Abbottabad</td>\n",
              "      <td>0</td>\n",
              "      <td>28</td>\n",
              "      <td>0</td>\n",
              "      <td>1</td>\n",
              "    </tr>\n",
              "    <tr>\n",
              "      <th>4</th>\n",
              "      <td>Male</td>\n",
              "      <td>Abbottabad</td>\n",
              "      <td>0</td>\n",
              "      <td>42</td>\n",
              "      <td>0</td>\n",
              "      <td>1</td>\n",
              "    </tr>\n",
              "    <tr>\n",
              "      <th>...</th>\n",
              "      <td>...</td>\n",
              "      <td>...</td>\n",
              "      <td>...</td>\n",
              "      <td>...</td>\n",
              "      <td>...</td>\n",
              "      <td>...</td>\n",
              "    </tr>\n",
              "    <tr>\n",
              "      <th>22911</th>\n",
              "      <td>Male</td>\n",
              "      <td>Haripur</td>\n",
              "      <td>0</td>\n",
              "      <td>13</td>\n",
              "      <td>2</td>\n",
              "      <td>1</td>\n",
              "    </tr>\n",
              "    <tr>\n",
              "      <th>22912</th>\n",
              "      <td>Male</td>\n",
              "      <td>Abbottabad</td>\n",
              "      <td>0</td>\n",
              "      <td>20</td>\n",
              "      <td>0</td>\n",
              "      <td>1</td>\n",
              "    </tr>\n",
              "    <tr>\n",
              "      <th>22913</th>\n",
              "      <td>Male</td>\n",
              "      <td>Abbottabad</td>\n",
              "      <td>0</td>\n",
              "      <td>21</td>\n",
              "      <td>0</td>\n",
              "      <td>1</td>\n",
              "    </tr>\n",
              "    <tr>\n",
              "      <th>22914</th>\n",
              "      <td>Female</td>\n",
              "      <td>Abbottabad</td>\n",
              "      <td>0</td>\n",
              "      <td>45</td>\n",
              "      <td>0</td>\n",
              "      <td>2</td>\n",
              "    </tr>\n",
              "    <tr>\n",
              "      <th>22915</th>\n",
              "      <td>Female</td>\n",
              "      <td>Abbottabad</td>\n",
              "      <td>0</td>\n",
              "      <td>22</td>\n",
              "      <td>0</td>\n",
              "      <td>2</td>\n",
              "    </tr>\n",
              "  </tbody>\n",
              "</table>\n",
              "<p>22916 rows × 6 columns</p>\n",
              "</div>"
            ],
            "text/plain": [
              "       GENDER    DISTRICT  RESULT_TEXT Age  DISTRICT_Encoded  Gender_Encoded\n",
              "0        Male  Abbottabad            0  34                 0               1\n",
              "1        Male  Abbottabad            0  43                 0               1\n",
              "2        Male  Abbottabad            0  43                 0               1\n",
              "3        Male  Abbottabad            0  28                 0               1\n",
              "4        Male  Abbottabad            0  42                 0               1\n",
              "...       ...         ...          ...  ..               ...             ...\n",
              "22911    Male     Haripur            0  13                 2               1\n",
              "22912    Male  Abbottabad            0  20                 0               1\n",
              "22913    Male  Abbottabad            0  21                 0               1\n",
              "22914  Female  Abbottabad            0  45                 0               2\n",
              "22915  Female  Abbottabad            0  22                 0               2\n",
              "\n",
              "[22916 rows x 6 columns]"
            ]
          },
          "metadata": {},
          "execution_count": 21
        }
      ]
    },
    {
      "cell_type": "code",
      "metadata": {
        "id": "4kX3ghmTGXMF"
      },
      "source": [
        "df = df.drop(['GENDER','DISTRICT'],axis=1)\n"
      ],
      "execution_count": null,
      "outputs": []
    },
    {
      "cell_type": "code",
      "metadata": {
        "id": "a6v0cyV-Gl1I"
      },
      "source": [
        "df"
      ],
      "execution_count": null,
      "outputs": []
    },
    {
      "cell_type": "code",
      "metadata": {
        "id": "tiOLigktJvaY",
        "colab": {
          "base_uri": "https://localhost:8080/"
        },
        "outputId": "19b6f162-1841-4479-b3db-4e23c3061860"
      },
      "source": [
        "df.shape"
      ],
      "execution_count": null,
      "outputs": [
        {
          "output_type": "execute_result",
          "data": {
            "text/plain": [
              "(22916, 4)"
            ]
          },
          "metadata": {},
          "execution_count": 23
        }
      ]
    },
    {
      "cell_type": "markdown",
      "metadata": {
        "id": "Q8nUvo04gXwk"
      },
      "source": [
        "## **3.8 Imbalance problem**"
      ]
    },
    {
      "cell_type": "code",
      "metadata": {
        "id": "XDB8ZCGkgd-r"
      },
      "source": [
        "from sklearn.utils import resample\n",
        "no = df[df.RESULT_TEXT == 0]\n",
        "yes = df[df.RESULT_TEXT == 1]\n",
        "yes_oversampled = resample(yes, replace=True, n_samples=len(no), random_state=123)\n",
        "oversampled = pd.concat([no, yes_oversampled])\n",
        "fig = plt.figure(figsize = (8,5))\n",
        "oversampled.RESULT_TEXT.value_counts(normalize = True).plot(kind='bar', color= ['skyblue','navy'], alpha = 0.9, rot=0)\n",
        "plt.title('Waterbrone Disease status Nagative(0) and Postive(1) after Oversampling (Balanced Dataset)')\n",
        "plt.show()"
      ],
      "execution_count": null,
      "outputs": []
    },
    {
      "cell_type": "code",
      "metadata": {
        "colab": {
          "base_uri": "https://localhost:8080/",
          "height": 419
        },
        "id": "zTBeqc9BK2Ea",
        "outputId": "2c1f4714-11f7-45d4-ffd6-2c45b0b0fd7a"
      },
      "source": [
        "oversampled"
      ],
      "execution_count": null,
      "outputs": [
        {
          "output_type": "execute_result",
          "data": {
            "text/html": [
              "<div>\n",
              "<style scoped>\n",
              "    .dataframe tbody tr th:only-of-type {\n",
              "        vertical-align: middle;\n",
              "    }\n",
              "\n",
              "    .dataframe tbody tr th {\n",
              "        vertical-align: top;\n",
              "    }\n",
              "\n",
              "    .dataframe thead th {\n",
              "        text-align: right;\n",
              "    }\n",
              "</style>\n",
              "<table border=\"1\" class=\"dataframe\">\n",
              "  <thead>\n",
              "    <tr style=\"text-align: right;\">\n",
              "      <th></th>\n",
              "      <th>RESULT_TEXT</th>\n",
              "      <th>Age</th>\n",
              "      <th>DISTRICT_Encoded</th>\n",
              "      <th>Gender_Encoded</th>\n",
              "    </tr>\n",
              "  </thead>\n",
              "  <tbody>\n",
              "    <tr>\n",
              "      <th>0</th>\n",
              "      <td>0</td>\n",
              "      <td>34</td>\n",
              "      <td>0</td>\n",
              "      <td>1</td>\n",
              "    </tr>\n",
              "    <tr>\n",
              "      <th>1</th>\n",
              "      <td>0</td>\n",
              "      <td>43</td>\n",
              "      <td>0</td>\n",
              "      <td>1</td>\n",
              "    </tr>\n",
              "    <tr>\n",
              "      <th>2</th>\n",
              "      <td>0</td>\n",
              "      <td>43</td>\n",
              "      <td>0</td>\n",
              "      <td>1</td>\n",
              "    </tr>\n",
              "    <tr>\n",
              "      <th>3</th>\n",
              "      <td>0</td>\n",
              "      <td>28</td>\n",
              "      <td>0</td>\n",
              "      <td>1</td>\n",
              "    </tr>\n",
              "    <tr>\n",
              "      <th>4</th>\n",
              "      <td>0</td>\n",
              "      <td>42</td>\n",
              "      <td>0</td>\n",
              "      <td>1</td>\n",
              "    </tr>\n",
              "    <tr>\n",
              "      <th>...</th>\n",
              "      <td>...</td>\n",
              "      <td>...</td>\n",
              "      <td>...</td>\n",
              "      <td>...</td>\n",
              "    </tr>\n",
              "    <tr>\n",
              "      <th>13513</th>\n",
              "      <td>1</td>\n",
              "      <td>8</td>\n",
              "      <td>0</td>\n",
              "      <td>1</td>\n",
              "    </tr>\n",
              "    <tr>\n",
              "      <th>8974</th>\n",
              "      <td>1</td>\n",
              "      <td>16</td>\n",
              "      <td>0</td>\n",
              "      <td>1</td>\n",
              "    </tr>\n",
              "    <tr>\n",
              "      <th>18480</th>\n",
              "      <td>1</td>\n",
              "      <td>25</td>\n",
              "      <td>0</td>\n",
              "      <td>1</td>\n",
              "    </tr>\n",
              "    <tr>\n",
              "      <th>20294</th>\n",
              "      <td>1</td>\n",
              "      <td>7</td>\n",
              "      <td>1</td>\n",
              "      <td>2</td>\n",
              "    </tr>\n",
              "    <tr>\n",
              "      <th>1407</th>\n",
              "      <td>1</td>\n",
              "      <td>82</td>\n",
              "      <td>5</td>\n",
              "      <td>1</td>\n",
              "    </tr>\n",
              "  </tbody>\n",
              "</table>\n",
              "<p>45512 rows × 4 columns</p>\n",
              "</div>"
            ],
            "text/plain": [
              "       RESULT_TEXT Age  DISTRICT_Encoded  Gender_Encoded\n",
              "0                0  34                 0               1\n",
              "1                0  43                 0               1\n",
              "2                0  43                 0               1\n",
              "3                0  28                 0               1\n",
              "4                0  42                 0               1\n",
              "...            ...  ..               ...             ...\n",
              "13513            1   8                 0               1\n",
              "8974             1  16                 0               1\n",
              "18480            1  25                 0               1\n",
              "20294            1   7                 1               2\n",
              "1407             1  82                 5               1\n",
              "\n",
              "[45512 rows x 4 columns]"
            ]
          },
          "metadata": {},
          "execution_count": 53
        }
      ]
    },
    {
      "cell_type": "markdown",
      "metadata": {
        "id": "81IRMYGxupOV"
      },
      "source": [
        "# **4-Splitting Training and Test Set**"
      ]
    },
    {
      "cell_type": "code",
      "metadata": {
        "id": "5pcJs0LfeI4Q"
      },
      "source": [
        "X=oversampled.drop('RESULT_TEXT',axis=1)"
      ],
      "execution_count": null,
      "outputs": []
    },
    {
      "cell_type": "code",
      "metadata": {
        "id": "52fY-DzqfFV1"
      },
      "source": [
        "y=oversampled[['RESULT_TEXT']]"
      ],
      "execution_count": null,
      "outputs": []
    },
    {
      "cell_type": "code",
      "metadata": {
        "id": "k1fyz1VYfhP7"
      },
      "source": [
        "# y\n",
        "X"
      ],
      "execution_count": null,
      "outputs": []
    },
    {
      "cell_type": "code",
      "metadata": {
        "id": "CXR6isVQgl8O"
      },
      "source": [
        "y"
      ],
      "execution_count": null,
      "outputs": []
    },
    {
      "cell_type": "code",
      "metadata": {
        "id": "qX6xRBwGivHV"
      },
      "source": [
        "X_train, X_test, y_train, y_test = train_test_split(X, y, test_size=0.30, random_state=100)"
      ],
      "execution_count": null,
      "outputs": []
    },
    {
      "cell_type": "markdown",
      "metadata": {
        "id": "vOY-lsTIvAvL"
      },
      "source": [
        "# **5-Modle Training**"
      ]
    },
    {
      "cell_type": "markdown",
      "metadata": {
        "id": "BmhGaJq6ivHY"
      },
      "source": [
        "## **5.2-Random Forest**"
      ]
    },
    {
      "cell_type": "code",
      "metadata": {
        "id": "RYz_jvGQivHY"
      },
      "source": [
        "Ran_For= RandomForestClassifier(n_estimators=100,max_depth=15, random_state=11,max_leaf_nodes=10)\n",
        "Ran_For= Ran_For.fit(X_train , y_train)\n",
        "Ran_For"
      ],
      "execution_count": null,
      "outputs": []
    },
    {
      "cell_type": "code",
      "metadata": {
        "colab": {
          "base_uri": "https://localhost:8080/"
        },
        "id": "uKbH4wscivHZ",
        "outputId": "9e7c80ec-3012-48e9-f941-99ca5740619b"
      },
      "source": [
        "y_pred1 = Ran_For.predict(X_test)\n",
        "rn=Ran_For.score(X_test, y_test)\n",
        "print('Accuracy score= {:.4f}'.format(Ran_For.score(X_test, y_test)))"
      ],
      "execution_count": null,
      "outputs": [
        {
          "output_type": "stream",
          "name": "stdout",
          "text": [
            "Accuracy score= 0.7484\n"
          ]
        }
      ]
    },
    {
      "cell_type": "markdown",
      "metadata": {
        "id": "pYOWzX56OxS9"
      },
      "source": [
        "## **5.2 Model optimization** "
      ]
    },
    {
      "cell_type": "markdown",
      "metadata": {
        "id": "vf3lwlPXivHa"
      },
      "source": [
        "# **6-Saving model to disk**"
      ]
    },
    {
      "cell_type": "code",
      "metadata": {
        "id": "NOiornCyviuZ"
      },
      "source": [
        "import pickle\n",
        "pickle.dump(Ran_For, open('model_rf3.pkl','wb'))\n"
      ],
      "execution_count": null,
      "outputs": []
    },
    {
      "cell_type": "code",
      "metadata": {
        "id": "aV2BUqhFwC_j"
      },
      "source": [
        "model = pickle.load(open('/content/model_rf3.pkl','rb'))"
      ],
      "execution_count": null,
      "outputs": []
    },
    {
      "cell_type": "code",
      "metadata": {
        "id": "-vgj53ULwGow"
      },
      "source": [
        "print(model.predict([[43, 1, 1]]))"
      ],
      "execution_count": null,
      "outputs": []
    },
    {
      "cell_type": "markdown",
      "metadata": {
        "id": "pK4c8nU4uXqE"
      },
      "source": [
        "#**References**\n",
        "\n",
        "[Random Forest Classification with H2O](https://medium.com/tech-vision/random-forest-classification-with-h2o-python-for-beginners-b31f6e4ccf3c)\n",
        "\n",
        "[Build and deploy your first machine learning web app](https://towardsdatascience.com/build-and-deploy-your-first-machine-learning-web-app-e020db344a99)\n",
        "\n",
        "[krishnaik06/Car-Price-Prediction](https://github.com/krishnaik06/Car-Price-Prediction/blob/master/Untitled.ipynb)\n",
        "\n",
        "[Deploy Machine Learning Model using Flask](https://www.youtube.com/watch?v=UbCWoMf80PY&ab_channel=KrishNaik)\n",
        "\n",
        "[Live- Implementation of End To End Kaggle Machine Learning Project With Deployment\n",
        "](https://www.youtube.com/watch?v=p_tpQSY1aTs&ab_channel=KrishNaik)\n",
        "\n",
        "[Deployment-flask](https://github.com/krishnaik06/Deployment-flask)\n",
        "\n",
        "[Flight-Fare-Prediction-Web-App\n",
        "Public](https://github.com/prakash100198/Flight-Fare-Prediction-Web-App)\n"
      ]
    }
  ]
}