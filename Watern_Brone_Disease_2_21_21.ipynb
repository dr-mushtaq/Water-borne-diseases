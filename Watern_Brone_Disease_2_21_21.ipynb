{
  "nbformat": 4,
  "nbformat_minor": 0,
  "metadata": {
    "kernelspec": {
      "display_name": "Python 3",
      "language": "python",
      "name": "python3"
    },
    "language_info": {
      "codemirror_mode": {
        "name": "ipython",
        "version": 3
      },
      "file_extension": ".py",
      "mimetype": "text/x-python",
      "name": "python",
      "nbconvert_exporter": "python",
      "pygments_lexer": "ipython3",
      "version": "3.8.3"
    },
    "colab": {
      "name": "Watern Brone Disease_2_21_21.ipynb",
      "provenance": [],
      "collapsed_sections": [],
      "toc_visible": true,
      "include_colab_link": true
    }
  },
  "cells": [
    {
      "cell_type": "markdown",
      "metadata": {
        "id": "view-in-github",
        "colab_type": "text"
      },
      "source": [
        "<a href=\"https://colab.research.google.com/github/hussain0048/Water-borne-diseases/blob/main/Watern_Brone_Disease_2_21_21.ipynb\" target=\"_parent\"><img src=\"https://colab.research.google.com/assets/colab-badge.svg\" alt=\"Open In Colab\"/></a>"
      ]
    },
    {
      "cell_type": "markdown",
      "metadata": {
        "id": "BwlGIq-fgExg"
      },
      "source": [
        "# **1- Introduction**\r\n",
        " the water-borne diseases are the most common which transmitted in contaminated fresh water, whether in bathing, washing, drinking, or in the preparation of food.. More than one-third of Earth&#39;s accessible renewable freshwater is consumptively used for agricultural, industrial, and\r\n",
        "domestic purposes. Water-borne diseases are commonly found throughout the world but the\r\n",
        "condition is more aggravated in developing countries including Pakistan. "
      ]
    },
    {
      "cell_type": "markdown",
      "metadata": {
        "id": "Gpjx_5M_Ma7v"
      },
      "source": [
        "#**2-Importing libraries**"
      ]
    },
    {
      "cell_type": "code",
      "metadata": {
        "id": "-E4TvIVLMa73",
        "scrolled": true
      },
      "source": [
        "import numpy as np \n",
        "import pandas as pd \n",
        "import seaborn as sns \n",
        "import matplotlib.pyplot as plt\n",
        "from prettytable import PrettyTable\n",
        "from sklearn.metrics import roc_curve, auc\n",
        "from mlxtend.plotting import plot_confusion_matrix \n",
        "from sklearn.model_selection import train_test_split\n",
        "from sklearn.metrics import classification_report, confusion_matrix\n",
        "from sklearn.tree import DecisionTreeClassifier\n",
        "from sklearn.ensemble import RandomForestClassifier\n",
        "from sklearn.svm import LinearSVC\n",
        "from sklearn.linear_model import LogisticRegression\n",
        "from sklearn.neighbors import KNeighborsClassifier\n",
        "import warnings\n",
        "warnings.filterwarnings(\"ignore\")"
      ],
      "execution_count": 65,
      "outputs": []
    },
    {
      "cell_type": "code",
      "metadata": {
        "id": "BetwIHqiVbt6"
      },
      "source": [
        "import pandas as pd \r\n"
      ],
      "execution_count": 2,
      "outputs": []
    },
    {
      "cell_type": "markdown",
      "metadata": {
        "id": "gHoPSZkDivGv"
      },
      "source": [
        "#**3-Processing**\r\n"
      ]
    },
    {
      "cell_type": "markdown",
      "metadata": {
        "id": "1Vt6LxAxbz6v"
      },
      "source": [
        "## **3.1 Data Reading**"
      ]
    },
    {
      "cell_type": "code",
      "metadata": {
        "id": "K1Cj5cSkCzvl",
        "colab": {
          "base_uri": "https://localhost:8080/"
        },
        "outputId": "916cb5fa-c7d6-442f-99ab-51c07de12eb2"
      },
      "source": [
        "from google.colab import drive\r\n",
        "drive.mount('/content/drive')"
      ],
      "execution_count": 3,
      "outputs": [
        {
          "output_type": "stream",
          "text": [
            "Mounted at /content/drive\n"
          ],
          "name": "stdout"
        }
      ]
    },
    {
      "cell_type": "code",
      "metadata": {
        "id": "XGN87XMSivGw"
      },
      "source": [
        "Train_data = pd.read_csv('/content/drive/MyDrive/Datasets/Water Brone diesease/Malyria_2-21-2021.csv',encoding = 'latin')"
      ],
      "execution_count": 36,
      "outputs": []
    },
    {
      "cell_type": "code",
      "metadata": {
        "colab": {
          "base_uri": "https://localhost:8080/",
          "height": 643
        },
        "id": "B6-L96xXwnvr",
        "outputId": "4cb88e7e-372f-444a-a43a-c5faf79033dd"
      },
      "source": [
        "Train_data"
      ],
      "execution_count": 37,
      "outputs": [
        {
          "output_type": "execute_result",
          "data": {
            "text/html": [
              "<div>\n",
              "<style scoped>\n",
              "    .dataframe tbody tr th:only-of-type {\n",
              "        vertical-align: middle;\n",
              "    }\n",
              "\n",
              "    .dataframe tbody tr th {\n",
              "        vertical-align: top;\n",
              "    }\n",
              "\n",
              "    .dataframe thead th {\n",
              "        text-align: right;\n",
              "    }\n",
              "</style>\n",
              "<table border=\"1\" class=\"dataframe\">\n",
              "  <thead>\n",
              "    <tr style=\"text-align: right;\">\n",
              "      <th></th>\n",
              "      <th>Unnamed: 0</th>\n",
              "      <th>SECTION_NO</th>\n",
              "      <th>MRNO</th>\n",
              "      <th>PATIENT_NAME</th>\n",
              "      <th>FATHER_NAME</th>\n",
              "      <th>HUSBAND_NAME</th>\n",
              "      <th>NIC_NEW</th>\n",
              "      <th>REFERRED_FROM</th>\n",
              "      <th>AGE</th>\n",
              "      <th>GENDER</th>\n",
              "      <th>NO_OF_ADMISSION</th>\n",
              "      <th>DISTRICT</th>\n",
              "      <th>TEHSIL</th>\n",
              "      <th>REPORT_VERIFIED</th>\n",
              "      <th>CPT_ID</th>\n",
              "      <th>RESULT_VALUE</th>\n",
              "      <th>CPT_ID.1</th>\n",
              "      <th>SECTION_NO.1</th>\n",
              "      <th>RESULT_TEXT</th>\n",
              "    </tr>\n",
              "  </thead>\n",
              "  <tbody>\n",
              "    <tr>\n",
              "      <th>0</th>\n",
              "      <td>1</td>\n",
              "      <td>K04HEM20123774</td>\n",
              "      <td>K0460000001363</td>\n",
              "      <td>Saqib Mehmood Khan</td>\n",
              "      <td>MUHAMMAD AFSAR KHAN</td>\n",
              "      <td>NaN</td>\n",
              "      <td>1.310163e+12</td>\n",
              "      <td>NaN</td>\n",
              "      <td>34 Year(s)</td>\n",
              "      <td>Male</td>\n",
              "      <td>0</td>\n",
              "      <td>Abbottabad</td>\n",
              "      <td>havelia</td>\n",
              "      <td>11/12/2020 10:46:53 A11P11</td>\n",
              "      <td>1000000000085007</td>\n",
              "      <td>Y</td>\n",
              "      <td>1000000000087207</td>\n",
              "      <td>K04HEM20123774</td>\n",
              "      <td>Negative</td>\n",
              "    </tr>\n",
              "    <tr>\n",
              "      <th>1</th>\n",
              "      <td>2</td>\n",
              "      <td>K04HEM18160758</td>\n",
              "      <td>K0460000001680</td>\n",
              "      <td>Muhammad Iqbal</td>\n",
              "      <td>ABDUR REHMAN</td>\n",
              "      <td>NaN</td>\n",
              "      <td>1.310134e+12</td>\n",
              "      <td>NaN</td>\n",
              "      <td>43 Year(s)</td>\n",
              "      <td>Male</td>\n",
              "      <td>0</td>\n",
              "      <td>Abbottabad</td>\n",
              "      <td>Abbottabad</td>\n",
              "      <td>9/29/2018 9:26:21 A9P9</td>\n",
              "      <td>1000000000087207</td>\n",
              "      <td>Y</td>\n",
              "      <td>1000000000087207</td>\n",
              "      <td>K04HEM18160758</td>\n",
              "      <td>Negative</td>\n",
              "    </tr>\n",
              "    <tr>\n",
              "      <th>2</th>\n",
              "      <td>3</td>\n",
              "      <td>K04HEM18160758</td>\n",
              "      <td>K0460000001680</td>\n",
              "      <td>Muhammad Iqbal</td>\n",
              "      <td>ABDUR REHMAN</td>\n",
              "      <td>NaN</td>\n",
              "      <td>1.310134e+12</td>\n",
              "      <td>NaN</td>\n",
              "      <td>43 Year(s)</td>\n",
              "      <td>Male</td>\n",
              "      <td>0</td>\n",
              "      <td>Abbottabad</td>\n",
              "      <td>Abbottabad</td>\n",
              "      <td>9/29/2018 9:26:07 A9P9</td>\n",
              "      <td>1000000000085007</td>\n",
              "      <td>Y</td>\n",
              "      <td>1000000000087207</td>\n",
              "      <td>K04HEM18160758</td>\n",
              "      <td>Negative</td>\n",
              "    </tr>\n",
              "    <tr>\n",
              "      <th>3</th>\n",
              "      <td>4</td>\n",
              "      <td>K04HEM17056995</td>\n",
              "      <td>K0460000000106</td>\n",
              "      <td>Shahbaz Ahmad</td>\n",
              "      <td>MUMTAZ AHMAD</td>\n",
              "      <td>NaN</td>\n",
              "      <td>4.220136e+12</td>\n",
              "      <td>NaN</td>\n",
              "      <td>28 Year(s)</td>\n",
              "      <td>Male</td>\n",
              "      <td>0</td>\n",
              "      <td>Abbottabad</td>\n",
              "      <td>Abbottabad</td>\n",
              "      <td>5/4/2017 9:48:37 A5P5</td>\n",
              "      <td>1000000000085007</td>\n",
              "      <td>Y</td>\n",
              "      <td>1000000000087207</td>\n",
              "      <td>K04HEM17056995</td>\n",
              "      <td>Negative</td>\n",
              "    </tr>\n",
              "    <tr>\n",
              "      <th>4</th>\n",
              "      <td>5</td>\n",
              "      <td>K04HEM17073233</td>\n",
              "      <td>K0460000000150</td>\n",
              "      <td>Mehfooz Ahmad</td>\n",
              "      <td>HAIDER ZAMAN</td>\n",
              "      <td>NaN</td>\n",
              "      <td>1.310109e+12</td>\n",
              "      <td>NaN</td>\n",
              "      <td>42 Year(s)</td>\n",
              "      <td>Male</td>\n",
              "      <td>0</td>\n",
              "      <td>Abbottabad</td>\n",
              "      <td>Abbottabad</td>\n",
              "      <td>6/3/2017 11:59:38 A6P6</td>\n",
              "      <td>1000000000085007</td>\n",
              "      <td>Y</td>\n",
              "      <td>1000000000087207</td>\n",
              "      <td>K04HEM17073233</td>\n",
              "      <td>Negative</td>\n",
              "    </tr>\n",
              "    <tr>\n",
              "      <th>...</th>\n",
              "      <td>...</td>\n",
              "      <td>...</td>\n",
              "      <td>...</td>\n",
              "      <td>...</td>\n",
              "      <td>...</td>\n",
              "      <td>...</td>\n",
              "      <td>...</td>\n",
              "      <td>...</td>\n",
              "      <td>...</td>\n",
              "      <td>...</td>\n",
              "      <td>...</td>\n",
              "      <td>...</td>\n",
              "      <td>...</td>\n",
              "      <td>...</td>\n",
              "      <td>...</td>\n",
              "      <td>...</td>\n",
              "      <td>...</td>\n",
              "      <td>...</td>\n",
              "      <td>...</td>\n",
              "    </tr>\n",
              "    <tr>\n",
              "      <th>22911</th>\n",
              "      <td>22912</td>\n",
              "      <td>K04HEM21017730</td>\n",
              "      <td>K0400002457330</td>\n",
              "      <td>Rooh Ul Ameen</td>\n",
              "      <td>ABDUL SALAM</td>\n",
              "      <td>NaN</td>\n",
              "      <td>8.139494e+10</td>\n",
              "      <td>NaN</td>\n",
              "      <td>13 Year(s)</td>\n",
              "      <td>Male</td>\n",
              "      <td>1</td>\n",
              "      <td>Haripur</td>\n",
              "      <td>Haripur</td>\n",
              "      <td>2/10/2021 16:53:12 A2P2</td>\n",
              "      <td>1000000000085060</td>\n",
              "      <td>Y</td>\n",
              "      <td>1000000000087207</td>\n",
              "      <td>K04HEM21017730</td>\n",
              "      <td>Negative</td>\n",
              "    </tr>\n",
              "    <tr>\n",
              "      <th>22912</th>\n",
              "      <td>22913</td>\n",
              "      <td>K04HEM21018207</td>\n",
              "      <td>K0400002459565</td>\n",
              "      <td>Zeshan Rustam</td>\n",
              "      <td>M RUSTAM</td>\n",
              "      <td>NaN</td>\n",
              "      <td>NaN</td>\n",
              "      <td>NaN</td>\n",
              "      <td>20 Year(s)</td>\n",
              "      <td>Male</td>\n",
              "      <td>0</td>\n",
              "      <td>Abbottabad</td>\n",
              "      <td>Abbottabad</td>\n",
              "      <td>2/11/2021 11:49:58 A2P2</td>\n",
              "      <td>1000000000085007</td>\n",
              "      <td>Y</td>\n",
              "      <td>1000000000087207</td>\n",
              "      <td>K04HEM21018207</td>\n",
              "      <td>Negative</td>\n",
              "    </tr>\n",
              "    <tr>\n",
              "      <th>22913</th>\n",
              "      <td>22914</td>\n",
              "      <td>K04HEM21019179</td>\n",
              "      <td>K0400002461645</td>\n",
              "      <td>M Umer</td>\n",
              "      <td>M JUNAID</td>\n",
              "      <td>NaN</td>\n",
              "      <td>NaN</td>\n",
              "      <td>NaN</td>\n",
              "      <td>21 Year(s)</td>\n",
              "      <td>Male</td>\n",
              "      <td>0</td>\n",
              "      <td>Abbottabad</td>\n",
              "      <td>Abbottabad</td>\n",
              "      <td>2/13/2021 11:55:21 A2P2</td>\n",
              "      <td>1000000000087207</td>\n",
              "      <td>Y</td>\n",
              "      <td>1000000000087207</td>\n",
              "      <td>K04HEM21019179</td>\n",
              "      <td>Negative</td>\n",
              "    </tr>\n",
              "    <tr>\n",
              "      <th>22914</th>\n",
              "      <td>22915</td>\n",
              "      <td>K04HEM21021055</td>\n",
              "      <td>K04ACE21027742</td>\n",
              "      <td>Shaheen Akhtar</td>\n",
              "      <td>NaN</td>\n",
              "      <td>M SALEEM</td>\n",
              "      <td>NaN</td>\n",
              "      <td>NaN</td>\n",
              "      <td>45 Year(s)</td>\n",
              "      <td>Female</td>\n",
              "      <td>0</td>\n",
              "      <td>Abbottabad</td>\n",
              "      <td>Abbottabad</td>\n",
              "      <td>2/17/2021 11:09:47 A2P2</td>\n",
              "      <td>1000000000087207</td>\n",
              "      <td>Y</td>\n",
              "      <td>1000000000087207</td>\n",
              "      <td>K04HEM21021055</td>\n",
              "      <td>Negative</td>\n",
              "    </tr>\n",
              "    <tr>\n",
              "      <th>22915</th>\n",
              "      <td>22916</td>\n",
              "      <td>K04HEM21020544</td>\n",
              "      <td>K0400002464110</td>\n",
              "      <td>Fakhraj Bibi</td>\n",
              "      <td>M FAYAZ</td>\n",
              "      <td>NaN</td>\n",
              "      <td>NaN</td>\n",
              "      <td>NaN</td>\n",
              "      <td>22 Year(s)</td>\n",
              "      <td>Female</td>\n",
              "      <td>0</td>\n",
              "      <td>Abbottabad</td>\n",
              "      <td>Abbottabad</td>\n",
              "      <td>2/16/2021 12:37:12 A2P2</td>\n",
              "      <td>1000000000085651</td>\n",
              "      <td>Y</td>\n",
              "      <td>1000000000087207</td>\n",
              "      <td>K04HEM21020544</td>\n",
              "      <td>Negative</td>\n",
              "    </tr>\n",
              "  </tbody>\n",
              "</table>\n",
              "<p>22916 rows × 19 columns</p>\n",
              "</div>"
            ],
            "text/plain": [
              "       Unnamed: 0      SECTION_NO  ...    SECTION_NO.1 RESULT_TEXT\n",
              "0               1  K04HEM20123774  ...  K04HEM20123774    Negative\n",
              "1               2  K04HEM18160758  ...  K04HEM18160758    Negative\n",
              "2               3  K04HEM18160758  ...  K04HEM18160758    Negative\n",
              "3               4  K04HEM17056995  ...  K04HEM17056995    Negative\n",
              "4               5  K04HEM17073233  ...  K04HEM17073233    Negative\n",
              "...           ...             ...  ...             ...         ...\n",
              "22911       22912  K04HEM21017730  ...  K04HEM21017730    Negative\n",
              "22912       22913  K04HEM21018207  ...  K04HEM21018207    Negative\n",
              "22913       22914  K04HEM21019179  ...  K04HEM21019179    Negative\n",
              "22914       22915  K04HEM21021055  ...  K04HEM21021055    Negative\n",
              "22915       22916  K04HEM21020544  ...  K04HEM21020544    Negative\n",
              "\n",
              "[22916 rows x 19 columns]"
            ]
          },
          "metadata": {
            "tags": []
          },
          "execution_count": 37
        }
      ]
    },
    {
      "cell_type": "markdown",
      "metadata": {
        "id": "q3oI8qBEgWQF"
      },
      "source": [
        "## 3.2- **Drop Index Colum**"
      ]
    },
    {
      "cell_type": "code",
      "metadata": {
        "id": "MWbQRZlkWIzC"
      },
      "source": [
        "Train_data=Train_data.reset_index()\r\n",
        "Train_data1=Train_data.drop(columns=['index'])"
      ],
      "execution_count": 38,
      "outputs": []
    },
    {
      "cell_type": "code",
      "metadata": {
        "colab": {
          "base_uri": "https://localhost:8080/",
          "height": 643
        },
        "id": "4z2-2606wuwe",
        "outputId": "7ff93f8c-8ab2-4100-b999-9c1999fbd02b"
      },
      "source": [
        "Train_data1"
      ],
      "execution_count": 39,
      "outputs": [
        {
          "output_type": "execute_result",
          "data": {
            "text/html": [
              "<div>\n",
              "<style scoped>\n",
              "    .dataframe tbody tr th:only-of-type {\n",
              "        vertical-align: middle;\n",
              "    }\n",
              "\n",
              "    .dataframe tbody tr th {\n",
              "        vertical-align: top;\n",
              "    }\n",
              "\n",
              "    .dataframe thead th {\n",
              "        text-align: right;\n",
              "    }\n",
              "</style>\n",
              "<table border=\"1\" class=\"dataframe\">\n",
              "  <thead>\n",
              "    <tr style=\"text-align: right;\">\n",
              "      <th></th>\n",
              "      <th>Unnamed: 0</th>\n",
              "      <th>SECTION_NO</th>\n",
              "      <th>MRNO</th>\n",
              "      <th>PATIENT_NAME</th>\n",
              "      <th>FATHER_NAME</th>\n",
              "      <th>HUSBAND_NAME</th>\n",
              "      <th>NIC_NEW</th>\n",
              "      <th>REFERRED_FROM</th>\n",
              "      <th>AGE</th>\n",
              "      <th>GENDER</th>\n",
              "      <th>NO_OF_ADMISSION</th>\n",
              "      <th>DISTRICT</th>\n",
              "      <th>TEHSIL</th>\n",
              "      <th>REPORT_VERIFIED</th>\n",
              "      <th>CPT_ID</th>\n",
              "      <th>RESULT_VALUE</th>\n",
              "      <th>CPT_ID.1</th>\n",
              "      <th>SECTION_NO.1</th>\n",
              "      <th>RESULT_TEXT</th>\n",
              "    </tr>\n",
              "  </thead>\n",
              "  <tbody>\n",
              "    <tr>\n",
              "      <th>0</th>\n",
              "      <td>1</td>\n",
              "      <td>K04HEM20123774</td>\n",
              "      <td>K0460000001363</td>\n",
              "      <td>Saqib Mehmood Khan</td>\n",
              "      <td>MUHAMMAD AFSAR KHAN</td>\n",
              "      <td>NaN</td>\n",
              "      <td>1.310163e+12</td>\n",
              "      <td>NaN</td>\n",
              "      <td>34 Year(s)</td>\n",
              "      <td>Male</td>\n",
              "      <td>0</td>\n",
              "      <td>Abbottabad</td>\n",
              "      <td>havelia</td>\n",
              "      <td>11/12/2020 10:46:53 A11P11</td>\n",
              "      <td>1000000000085007</td>\n",
              "      <td>Y</td>\n",
              "      <td>1000000000087207</td>\n",
              "      <td>K04HEM20123774</td>\n",
              "      <td>Negative</td>\n",
              "    </tr>\n",
              "    <tr>\n",
              "      <th>1</th>\n",
              "      <td>2</td>\n",
              "      <td>K04HEM18160758</td>\n",
              "      <td>K0460000001680</td>\n",
              "      <td>Muhammad Iqbal</td>\n",
              "      <td>ABDUR REHMAN</td>\n",
              "      <td>NaN</td>\n",
              "      <td>1.310134e+12</td>\n",
              "      <td>NaN</td>\n",
              "      <td>43 Year(s)</td>\n",
              "      <td>Male</td>\n",
              "      <td>0</td>\n",
              "      <td>Abbottabad</td>\n",
              "      <td>Abbottabad</td>\n",
              "      <td>9/29/2018 9:26:21 A9P9</td>\n",
              "      <td>1000000000087207</td>\n",
              "      <td>Y</td>\n",
              "      <td>1000000000087207</td>\n",
              "      <td>K04HEM18160758</td>\n",
              "      <td>Negative</td>\n",
              "    </tr>\n",
              "    <tr>\n",
              "      <th>2</th>\n",
              "      <td>3</td>\n",
              "      <td>K04HEM18160758</td>\n",
              "      <td>K0460000001680</td>\n",
              "      <td>Muhammad Iqbal</td>\n",
              "      <td>ABDUR REHMAN</td>\n",
              "      <td>NaN</td>\n",
              "      <td>1.310134e+12</td>\n",
              "      <td>NaN</td>\n",
              "      <td>43 Year(s)</td>\n",
              "      <td>Male</td>\n",
              "      <td>0</td>\n",
              "      <td>Abbottabad</td>\n",
              "      <td>Abbottabad</td>\n",
              "      <td>9/29/2018 9:26:07 A9P9</td>\n",
              "      <td>1000000000085007</td>\n",
              "      <td>Y</td>\n",
              "      <td>1000000000087207</td>\n",
              "      <td>K04HEM18160758</td>\n",
              "      <td>Negative</td>\n",
              "    </tr>\n",
              "    <tr>\n",
              "      <th>3</th>\n",
              "      <td>4</td>\n",
              "      <td>K04HEM17056995</td>\n",
              "      <td>K0460000000106</td>\n",
              "      <td>Shahbaz Ahmad</td>\n",
              "      <td>MUMTAZ AHMAD</td>\n",
              "      <td>NaN</td>\n",
              "      <td>4.220136e+12</td>\n",
              "      <td>NaN</td>\n",
              "      <td>28 Year(s)</td>\n",
              "      <td>Male</td>\n",
              "      <td>0</td>\n",
              "      <td>Abbottabad</td>\n",
              "      <td>Abbottabad</td>\n",
              "      <td>5/4/2017 9:48:37 A5P5</td>\n",
              "      <td>1000000000085007</td>\n",
              "      <td>Y</td>\n",
              "      <td>1000000000087207</td>\n",
              "      <td>K04HEM17056995</td>\n",
              "      <td>Negative</td>\n",
              "    </tr>\n",
              "    <tr>\n",
              "      <th>4</th>\n",
              "      <td>5</td>\n",
              "      <td>K04HEM17073233</td>\n",
              "      <td>K0460000000150</td>\n",
              "      <td>Mehfooz Ahmad</td>\n",
              "      <td>HAIDER ZAMAN</td>\n",
              "      <td>NaN</td>\n",
              "      <td>1.310109e+12</td>\n",
              "      <td>NaN</td>\n",
              "      <td>42 Year(s)</td>\n",
              "      <td>Male</td>\n",
              "      <td>0</td>\n",
              "      <td>Abbottabad</td>\n",
              "      <td>Abbottabad</td>\n",
              "      <td>6/3/2017 11:59:38 A6P6</td>\n",
              "      <td>1000000000085007</td>\n",
              "      <td>Y</td>\n",
              "      <td>1000000000087207</td>\n",
              "      <td>K04HEM17073233</td>\n",
              "      <td>Negative</td>\n",
              "    </tr>\n",
              "    <tr>\n",
              "      <th>...</th>\n",
              "      <td>...</td>\n",
              "      <td>...</td>\n",
              "      <td>...</td>\n",
              "      <td>...</td>\n",
              "      <td>...</td>\n",
              "      <td>...</td>\n",
              "      <td>...</td>\n",
              "      <td>...</td>\n",
              "      <td>...</td>\n",
              "      <td>...</td>\n",
              "      <td>...</td>\n",
              "      <td>...</td>\n",
              "      <td>...</td>\n",
              "      <td>...</td>\n",
              "      <td>...</td>\n",
              "      <td>...</td>\n",
              "      <td>...</td>\n",
              "      <td>...</td>\n",
              "      <td>...</td>\n",
              "    </tr>\n",
              "    <tr>\n",
              "      <th>22911</th>\n",
              "      <td>22912</td>\n",
              "      <td>K04HEM21017730</td>\n",
              "      <td>K0400002457330</td>\n",
              "      <td>Rooh Ul Ameen</td>\n",
              "      <td>ABDUL SALAM</td>\n",
              "      <td>NaN</td>\n",
              "      <td>8.139494e+10</td>\n",
              "      <td>NaN</td>\n",
              "      <td>13 Year(s)</td>\n",
              "      <td>Male</td>\n",
              "      <td>1</td>\n",
              "      <td>Haripur</td>\n",
              "      <td>Haripur</td>\n",
              "      <td>2/10/2021 16:53:12 A2P2</td>\n",
              "      <td>1000000000085060</td>\n",
              "      <td>Y</td>\n",
              "      <td>1000000000087207</td>\n",
              "      <td>K04HEM21017730</td>\n",
              "      <td>Negative</td>\n",
              "    </tr>\n",
              "    <tr>\n",
              "      <th>22912</th>\n",
              "      <td>22913</td>\n",
              "      <td>K04HEM21018207</td>\n",
              "      <td>K0400002459565</td>\n",
              "      <td>Zeshan Rustam</td>\n",
              "      <td>M RUSTAM</td>\n",
              "      <td>NaN</td>\n",
              "      <td>NaN</td>\n",
              "      <td>NaN</td>\n",
              "      <td>20 Year(s)</td>\n",
              "      <td>Male</td>\n",
              "      <td>0</td>\n",
              "      <td>Abbottabad</td>\n",
              "      <td>Abbottabad</td>\n",
              "      <td>2/11/2021 11:49:58 A2P2</td>\n",
              "      <td>1000000000085007</td>\n",
              "      <td>Y</td>\n",
              "      <td>1000000000087207</td>\n",
              "      <td>K04HEM21018207</td>\n",
              "      <td>Negative</td>\n",
              "    </tr>\n",
              "    <tr>\n",
              "      <th>22913</th>\n",
              "      <td>22914</td>\n",
              "      <td>K04HEM21019179</td>\n",
              "      <td>K0400002461645</td>\n",
              "      <td>M Umer</td>\n",
              "      <td>M JUNAID</td>\n",
              "      <td>NaN</td>\n",
              "      <td>NaN</td>\n",
              "      <td>NaN</td>\n",
              "      <td>21 Year(s)</td>\n",
              "      <td>Male</td>\n",
              "      <td>0</td>\n",
              "      <td>Abbottabad</td>\n",
              "      <td>Abbottabad</td>\n",
              "      <td>2/13/2021 11:55:21 A2P2</td>\n",
              "      <td>1000000000087207</td>\n",
              "      <td>Y</td>\n",
              "      <td>1000000000087207</td>\n",
              "      <td>K04HEM21019179</td>\n",
              "      <td>Negative</td>\n",
              "    </tr>\n",
              "    <tr>\n",
              "      <th>22914</th>\n",
              "      <td>22915</td>\n",
              "      <td>K04HEM21021055</td>\n",
              "      <td>K04ACE21027742</td>\n",
              "      <td>Shaheen Akhtar</td>\n",
              "      <td>NaN</td>\n",
              "      <td>M SALEEM</td>\n",
              "      <td>NaN</td>\n",
              "      <td>NaN</td>\n",
              "      <td>45 Year(s)</td>\n",
              "      <td>Female</td>\n",
              "      <td>0</td>\n",
              "      <td>Abbottabad</td>\n",
              "      <td>Abbottabad</td>\n",
              "      <td>2/17/2021 11:09:47 A2P2</td>\n",
              "      <td>1000000000087207</td>\n",
              "      <td>Y</td>\n",
              "      <td>1000000000087207</td>\n",
              "      <td>K04HEM21021055</td>\n",
              "      <td>Negative</td>\n",
              "    </tr>\n",
              "    <tr>\n",
              "      <th>22915</th>\n",
              "      <td>22916</td>\n",
              "      <td>K04HEM21020544</td>\n",
              "      <td>K0400002464110</td>\n",
              "      <td>Fakhraj Bibi</td>\n",
              "      <td>M FAYAZ</td>\n",
              "      <td>NaN</td>\n",
              "      <td>NaN</td>\n",
              "      <td>NaN</td>\n",
              "      <td>22 Year(s)</td>\n",
              "      <td>Female</td>\n",
              "      <td>0</td>\n",
              "      <td>Abbottabad</td>\n",
              "      <td>Abbottabad</td>\n",
              "      <td>2/16/2021 12:37:12 A2P2</td>\n",
              "      <td>1000000000085651</td>\n",
              "      <td>Y</td>\n",
              "      <td>1000000000087207</td>\n",
              "      <td>K04HEM21020544</td>\n",
              "      <td>Negative</td>\n",
              "    </tr>\n",
              "  </tbody>\n",
              "</table>\n",
              "<p>22916 rows × 19 columns</p>\n",
              "</div>"
            ],
            "text/plain": [
              "       Unnamed: 0      SECTION_NO  ...    SECTION_NO.1 RESULT_TEXT\n",
              "0               1  K04HEM20123774  ...  K04HEM20123774    Negative\n",
              "1               2  K04HEM18160758  ...  K04HEM18160758    Negative\n",
              "2               3  K04HEM18160758  ...  K04HEM18160758    Negative\n",
              "3               4  K04HEM17056995  ...  K04HEM17056995    Negative\n",
              "4               5  K04HEM17073233  ...  K04HEM17073233    Negative\n",
              "...           ...             ...  ...             ...         ...\n",
              "22911       22912  K04HEM21017730  ...  K04HEM21017730    Negative\n",
              "22912       22913  K04HEM21018207  ...  K04HEM21018207    Negative\n",
              "22913       22914  K04HEM21019179  ...  K04HEM21019179    Negative\n",
              "22914       22915  K04HEM21021055  ...  K04HEM21021055    Negative\n",
              "22915       22916  K04HEM21020544  ...  K04HEM21020544    Negative\n",
              "\n",
              "[22916 rows x 19 columns]"
            ]
          },
          "metadata": {
            "tags": []
          },
          "execution_count": 39
        }
      ]
    },
    {
      "cell_type": "markdown",
      "metadata": {
        "id": "P_jf97wAha9D"
      },
      "source": [
        "##**3.3- Drop input features**"
      ]
    },
    {
      "cell_type": "code",
      "metadata": {
        "id": "X7bUpgkyW3FQ"
      },
      "source": [
        "New5=Train_data1.drop(Train_data1.columns[[0,1,3,4,5,6,7,10,17]], axis=1, inplace=True)"
      ],
      "execution_count": 40,
      "outputs": []
    },
    {
      "cell_type": "code",
      "metadata": {
        "id": "KFcz6908YWms"
      },
      "source": [
        "Train_data1"
      ],
      "execution_count": null,
      "outputs": []
    },
    {
      "cell_type": "code",
      "metadata": {
        "id": "MxTg7dl3ZAUG",
        "colab": {
          "base_uri": "https://localhost:8080/"
        },
        "outputId": "eb32272d-a670-4d52-c5b8-e45c96ccedd0"
      },
      "source": [
        "Train_data1.columns"
      ],
      "execution_count": 42,
      "outputs": [
        {
          "output_type": "execute_result",
          "data": {
            "text/plain": [
              "Index(['MRNO', 'AGE', 'GENDER', 'DISTRICT', 'TEHSIL', 'REPORT_VERIFIED',\n",
              "       'CPT_ID', 'RESULT_VALUE', 'CPT_ID.1', 'RESULT_TEXT'],\n",
              "      dtype='object')"
            ]
          },
          "metadata": {
            "tags": []
          },
          "execution_count": 42
        }
      ]
    },
    {
      "cell_type": "markdown",
      "metadata": {
        "id": "TtDRkJLu27d6"
      },
      "source": [
        "##**3.4 Convert target variable into binary Form**"
      ]
    },
    {
      "cell_type": "code",
      "metadata": {
        "id": "_3NNM8H3QGZ8"
      },
      "source": [
        "Train_data1['RESULT_TEXT'].replace({'Negative': 0, 'Postive': 1},inplace = True)\r\n"
      ],
      "execution_count": 43,
      "outputs": []
    },
    {
      "cell_type": "markdown",
      "metadata": {
        "id": "931yEjnU4tM7"
      },
      "source": [
        "##**3.5 Imbalance problem**"
      ]
    },
    {
      "cell_type": "code",
      "metadata": {
        "id": "HslcQv7LQq-W",
        "colab": {
          "base_uri": "https://localhost:8080/",
          "height": 336
        },
        "outputId": "c94dc4f4-3222-43b3-da62-738d83da0b55"
      },
      "source": [
        "import matplotlib.pyplot as plt\r\n",
        "fig = plt.figure(figsize = (8,5))\r\n",
        "Train_data1.RESULT_TEXT.value_counts(normalize = True).plot(kind='bar', color= ['skyblue','navy'], alpha = 0.9, rot=0)\r\n",
        "plt.title('Results Status Negative(0) and Postive(1) in the Imbalanced Dataset')\r\n",
        "plt.show()"
      ],
      "execution_count": 45,
      "outputs": [
        {
          "output_type": "display_data",
          "data": {
            "image/png": "[encoded data removed]",
            "text/plain": [
              "<Figure size 576x360 with 1 Axes>"
            ]
          },
          "metadata": {
            "tags": [],
            "needs_background": "light"
          }
        }
      ]
    },
    {
      "cell_type": "code",
      "metadata": {
        "id": "WhEp-UEjRROF"
      },
      "source": [
        "from sklearn.utils import resample\r\n",
        "no = Train_data1[Train_data1.RESULT_TEXT == 0]\r\n",
        "yes = Train_data1[Train_data1.RESULT_TEXT == 1]\r\n",
        "yes_oversampled = resample(yes, replace=True, n_samples=len(no), random_state=123)\r\n",
        "oversampled = pd.concat([no, yes_oversampled])\r\n",
        "fig = plt.figure(figsize = (8,5))\r\n",
        "oversampled.RESULT_TEXT.value_counts(normalize = True).plot(kind='bar', color= ['skyblue','navy'], alpha = 0.9, rot=0)\r\n",
        "plt.title('Waterbrone Disease status Nagative(0) and Postive(1) after Oversampling (Balanced Dataset)')\r\n",
        "plt.show()"
      ],
      "execution_count": null,
      "outputs": []
    },
    {
      "cell_type": "markdown",
      "metadata": {
        "id": "DqgbCljF6LnL"
      },
      "source": [
        "##**3.6 Check Missing Value**"
      ]
    },
    {
      "cell_type": "code",
      "metadata": {
        "id": "m4yCIPzvSTI0"
      },
      "source": [
        "total = oversampled.isnull().sum().sort_values(ascending=False)\r\n",
        "percent = (oversampled.isnull().sum()/oversampled.isnull().count()).sort_values(ascending=False)\r\n",
        "missing = pd.concat([total, percent], axis=1, keys=['Total', 'Percent'])\r\n",
        "missing.head(4)"
      ],
      "execution_count": null,
      "outputs": []
    },
    {
      "cell_type": "markdown",
      "metadata": {
        "id": "c_emrU7L7CC9"
      },
      "source": [
        "##**3.7 Hot Encoding**"
      ]
    },
    {
      "cell_type": "code",
      "metadata": {
        "colab": {
          "base_uri": "https://localhost:8080/"
        },
        "id": "tkEpcWawRRpV",
        "outputId": "c534dcc1-284e-45fd-b497-54bb20a0675f"
      },
      "source": [
        "oversampled.select_dtypes(include=['object']).columns"
      ],
      "execution_count": 48,
      "outputs": [
        {
          "output_type": "execute_result",
          "data": {
            "text/plain": [
              "Index(['MRNO', 'AGE', 'GENDER', 'DISTRICT', 'TEHSIL', 'REPORT_VERIFIED',\n",
              "       'RESULT_VALUE'],\n",
              "      dtype='object')"
            ]
          },
          "metadata": {
            "tags": []
          },
          "execution_count": 48
        }
      ]
    },
    {
      "cell_type": "code",
      "metadata": {
        "id": "7djWi-ZATitQ"
      },
      "source": [
        "# Impute categorical var with Mode\r\n",
        "oversampled['MRNO'] = oversampled['MRNO'].fillna(oversampled['MRNO'].mode()[0])\r\n",
        "oversampled['AGE'] = oversampled['AGE'].fillna(oversampled['AGE'].mode()[0])\r\n",
        "oversampled['GENDER'] = oversampled['GENDER'].fillna(oversampled['GENDER'].mode()[0])\r\n",
        "oversampled['DISTRICT'] = oversampled['DISTRICT'].fillna(oversampled['DISTRICT'].mode()[0])\r\n",
        "oversampled['TEHSIL'] = oversampled['TEHSIL'].fillna(oversampled['TEHSIL'].mode()[0])\r\n",
        "oversampled['REPORT_VERIFIED'] = oversampled['REPORT_VERIFIED'].fillna(oversampled['REPORT_VERIFIED'].mode()[0])\r\n",
        "oversampled['RESULT_VALUE'] = oversampled['RESULT_VALUE'].fillna(oversampled['RESULT_VALUE'].mode()[0])"
      ],
      "execution_count": 50,
      "outputs": []
    },
    {
      "cell_type": "code",
      "metadata": {
        "id": "KzpnCWUOVRfE"
      },
      "source": [
        "oversampled"
      ],
      "execution_count": null,
      "outputs": []
    },
    {
      "cell_type": "code",
      "metadata": {
        "id": "FkBx6ghcb0vy"
      },
      "source": [
        "oversampled"
      ],
      "execution_count": null,
      "outputs": []
    },
    {
      "cell_type": "code",
      "metadata": {
        "id": "duH6b29GYEhp"
      },
      "source": [
        "# Convert categorical features to continuous features with Label Encoding\r\n",
        "from sklearn.preprocessing import LabelEncoder\r\n",
        "lencoders = {}\r\n",
        "for col in oversampled.select_dtypes(include=['object']).columns:\r\n",
        "    lencoders[col] = LabelEncoder()\r\n",
        "    oversampled[col] = lencoders[col].fit_transform(oversampled[col])"
      ],
      "execution_count": 52,
      "outputs": []
    },
    {
      "cell_type": "code",
      "metadata": {
        "id": "Ac3po-lD9Cfb"
      },
      "source": [
        "oversampled"
      ],
      "execution_count": null,
      "outputs": []
    },
    {
      "cell_type": "code",
      "metadata": {
        "id": "dKYnVakgcCXU"
      },
      "source": [
        "import warnings\r\n",
        "warnings.filterwarnings(\"ignore\")\r\n",
        "# Multiple Imputation by Chained Equations\r\n",
        "from sklearn.experimental import enable_iterative_imputer\r\n",
        "from sklearn.impute import IterativeImputer\r\n",
        "MiceImputed = oversampled.copy(deep=True) \r\n",
        "mice_imputer = IterativeImputer()\r\n",
        "MiceImputed.iloc[:, :] = mice_imputer.fit_transform(oversampled)"
      ],
      "execution_count": 54,
      "outputs": []
    },
    {
      "cell_type": "markdown",
      "metadata": {
        "id": "Gr6yg3aN9fe0"
      },
      "source": [
        "##**3.8 Outlier detection**"
      ]
    },
    {
      "cell_type": "code",
      "metadata": {
        "id": "k0IrnyVJcEti"
      },
      "source": [
        "# Detecting outliers with IQR\r\n",
        "Q1 = MiceImputed.quantile(0.25)\r\n",
        "Q3 = MiceImputed.quantile(0.75)\r\n",
        "IQR = Q3 - Q1\r\n",
        "print(IQR)"
      ],
      "execution_count": null,
      "outputs": []
    },
    {
      "cell_type": "code",
      "metadata": {
        "id": "f3oZmtYZcM-s"
      },
      "source": [
        "# Removing outliers from the dataset\r\n",
        "MiceImputed = MiceImputed[~((MiceImputed < (Q1 - 1.5 * IQR)) |(MiceImputed > (Q3 + 1.5 * IQR))).any(axis=1)]\r\n",
        "MiceImputed.shape"
      ],
      "execution_count": null,
      "outputs": []
    },
    {
      "cell_type": "code",
      "metadata": {
        "id": "rgXdi5AzcS_N"
      },
      "source": [
        "MiceImputed"
      ],
      "execution_count": null,
      "outputs": []
    },
    {
      "cell_type": "markdown",
      "metadata": {
        "id": "NPtnA191_xjP"
      },
      "source": [
        "##**3.9 Corelation Detection**"
      ]
    },
    {
      "cell_type": "code",
      "metadata": {
        "id": "hEKJ9nOkcgLa"
      },
      "source": [
        "# Correlation Heatmap\r\n",
        "import numpy as np\r\n",
        "import matplotlib.pyplot as plt\r\n",
        "import seaborn as sns\r\n",
        "corr = MiceImputed.corr()\r\n",
        "mask = np.triu(np.ones_like(corr, dtype=np.bool))\r\n",
        "f, ax = plt.subplots(figsize=(20, 20))\r\n",
        "cmap = sns.diverging_palette(250, 25, as_cmap=True)\r\n",
        "sns.heatmap(corr, mask=mask, cmap=cmap, vmax=None, center=0,square=True, annot=True, linewidths=.5, cbar_kws={\"shrink\": .9})"
      ],
      "execution_count": null,
      "outputs": []
    },
    {
      "cell_type": "markdown",
      "metadata": {
        "id": "OI2iMGX6AoVT"
      },
      "source": [
        "##**3.10 Feature Scaling**"
      ]
    },
    {
      "cell_type": "code",
      "metadata": {
        "id": "XTqsjzHYc4W-"
      },
      "source": [
        "# Standardizing data\r\n",
        "from sklearn import preprocessing\r\n",
        "r_scaler = preprocessing.MinMaxScaler()\r\n",
        "r_scaler.fit(MiceImputed)\r\n",
        "modified_data = pd.DataFrame(r_scaler.transform(MiceImputed), index=MiceImputed.index, columns=MiceImputed.columns)"
      ],
      "execution_count": 59,
      "outputs": []
    },
    {
      "cell_type": "code",
      "metadata": {
        "id": "nLGB3COlA7Mt",
        "colab": {
          "base_uri": "https://localhost:8080/",
          "height": 419
        },
        "outputId": "024947ce-854e-4304-88d3-f3935cb363ce"
      },
      "source": [
        "modified_data"
      ],
      "execution_count": 63,
      "outputs": [
        {
          "output_type": "execute_result",
          "data": {
            "text/html": [
              "<div>\n",
              "<style scoped>\n",
              "    .dataframe tbody tr th:only-of-type {\n",
              "        vertical-align: middle;\n",
              "    }\n",
              "\n",
              "    .dataframe tbody tr th {\n",
              "        vertical-align: top;\n",
              "    }\n",
              "\n",
              "    .dataframe thead th {\n",
              "        text-align: right;\n",
              "    }\n",
              "</style>\n",
              "<table border=\"1\" class=\"dataframe\">\n",
              "  <thead>\n",
              "    <tr style=\"text-align: right;\">\n",
              "      <th></th>\n",
              "      <th>MRNO</th>\n",
              "      <th>AGE</th>\n",
              "      <th>GENDER</th>\n",
              "      <th>DISTRICT</th>\n",
              "      <th>TEHSIL</th>\n",
              "      <th>REPORT_VERIFIED</th>\n",
              "      <th>CPT_ID</th>\n",
              "      <th>RESULT_VALUE</th>\n",
              "      <th>CPT_ID.1</th>\n",
              "      <th>RESULT_TEXT</th>\n",
              "    </tr>\n",
              "  </thead>\n",
              "  <tbody>\n",
              "    <tr>\n",
              "      <th>1</th>\n",
              "      <td>0.893454</td>\n",
              "      <td>0.482353</td>\n",
              "      <td>0.5</td>\n",
              "      <td>0.0</td>\n",
              "      <td>0.0</td>\n",
              "      <td>0.947134</td>\n",
              "      <td>1.000000</td>\n",
              "      <td>0.0</td>\n",
              "      <td>0.0</td>\n",
              "      <td>0.0</td>\n",
              "    </tr>\n",
              "    <tr>\n",
              "      <th>2</th>\n",
              "      <td>0.893454</td>\n",
              "      <td>0.482353</td>\n",
              "      <td>0.5</td>\n",
              "      <td>0.0</td>\n",
              "      <td>0.0</td>\n",
              "      <td>0.947090</td>\n",
              "      <td>0.481995</td>\n",
              "      <td>0.0</td>\n",
              "      <td>0.0</td>\n",
              "      <td>0.0</td>\n",
              "    </tr>\n",
              "    <tr>\n",
              "      <th>3</th>\n",
              "      <td>0.888200</td>\n",
              "      <td>0.270588</td>\n",
              "      <td>0.5</td>\n",
              "      <td>0.0</td>\n",
              "      <td>0.0</td>\n",
              "      <td>0.476987</td>\n",
              "      <td>0.481995</td>\n",
              "      <td>0.0</td>\n",
              "      <td>0.0</td>\n",
              "      <td>0.0</td>\n",
              "    </tr>\n",
              "    <tr>\n",
              "      <th>4</th>\n",
              "      <td>0.888286</td>\n",
              "      <td>0.470588</td>\n",
              "      <td>0.5</td>\n",
              "      <td>0.0</td>\n",
              "      <td>0.0</td>\n",
              "      <td>0.552535</td>\n",
              "      <td>0.481995</td>\n",
              "      <td>0.0</td>\n",
              "      <td>0.0</td>\n",
              "      <td>0.0</td>\n",
              "    </tr>\n",
              "    <tr>\n",
              "      <th>5</th>\n",
              "      <td>0.888458</td>\n",
              "      <td>0.305882</td>\n",
              "      <td>0.0</td>\n",
              "      <td>0.0</td>\n",
              "      <td>0.0</td>\n",
              "      <td>0.091037</td>\n",
              "      <td>0.481995</td>\n",
              "      <td>0.0</td>\n",
              "      <td>0.0</td>\n",
              "      <td>0.0</td>\n",
              "    </tr>\n",
              "    <tr>\n",
              "      <th>...</th>\n",
              "      <td>...</td>\n",
              "      <td>...</td>\n",
              "      <td>...</td>\n",
              "      <td>...</td>\n",
              "      <td>...</td>\n",
              "      <td>...</td>\n",
              "      <td>...</td>\n",
              "      <td>...</td>\n",
              "      <td>...</td>\n",
              "      <td>...</td>\n",
              "    </tr>\n",
              "    <tr>\n",
              "      <th>12343</th>\n",
              "      <td>0.258484</td>\n",
              "      <td>0.764706</td>\n",
              "      <td>0.0</td>\n",
              "      <td>0.0</td>\n",
              "      <td>0.0</td>\n",
              "      <td>0.161908</td>\n",
              "      <td>0.481995</td>\n",
              "      <td>0.0</td>\n",
              "      <td>0.0</td>\n",
              "      <td>1.0</td>\n",
              "    </tr>\n",
              "    <tr>\n",
              "      <th>15056</th>\n",
              "      <td>0.218002</td>\n",
              "      <td>0.341176</td>\n",
              "      <td>0.0</td>\n",
              "      <td>0.0</td>\n",
              "      <td>0.0</td>\n",
              "      <td>0.862010</td>\n",
              "      <td>1.000000</td>\n",
              "      <td>0.0</td>\n",
              "      <td>0.0</td>\n",
              "      <td>1.0</td>\n",
              "    </tr>\n",
              "    <tr>\n",
              "      <th>13513</th>\n",
              "      <td>0.627562</td>\n",
              "      <td>0.988235</td>\n",
              "      <td>0.5</td>\n",
              "      <td>0.0</td>\n",
              "      <td>0.0</td>\n",
              "      <td>0.372402</td>\n",
              "      <td>0.633636</td>\n",
              "      <td>0.0</td>\n",
              "      <td>0.0</td>\n",
              "      <td>1.0</td>\n",
              "    </tr>\n",
              "    <tr>\n",
              "      <th>8974</th>\n",
              "      <td>0.064083</td>\n",
              "      <td>0.105882</td>\n",
              "      <td>0.5</td>\n",
              "      <td>0.0</td>\n",
              "      <td>0.0</td>\n",
              "      <td>0.468029</td>\n",
              "      <td>1.000000</td>\n",
              "      <td>0.0</td>\n",
              "      <td>0.0</td>\n",
              "      <td>1.0</td>\n",
              "    </tr>\n",
              "    <tr>\n",
              "      <th>18480</th>\n",
              "      <td>0.408010</td>\n",
              "      <td>0.235294</td>\n",
              "      <td>0.5</td>\n",
              "      <td>0.0</td>\n",
              "      <td>0.0</td>\n",
              "      <td>0.545254</td>\n",
              "      <td>0.481995</td>\n",
              "      <td>0.0</td>\n",
              "      <td>0.0</td>\n",
              "      <td>1.0</td>\n",
              "    </tr>\n",
              "  </tbody>\n",
              "</table>\n",
              "<p>34554 rows × 10 columns</p>\n",
              "</div>"
            ],
            "text/plain": [
              "           MRNO       AGE  GENDER  ...  RESULT_VALUE  CPT_ID.1  RESULT_TEXT\n",
              "1      0.893454  0.482353     0.5  ...           0.0       0.0          0.0\n",
              "2      0.893454  0.482353     0.5  ...           0.0       0.0          0.0\n",
              "3      0.888200  0.270588     0.5  ...           0.0       0.0          0.0\n",
              "4      0.888286  0.470588     0.5  ...           0.0       0.0          0.0\n",
              "5      0.888458  0.305882     0.0  ...           0.0       0.0          0.0\n",
              "...         ...       ...     ...  ...           ...       ...          ...\n",
              "12343  0.258484  0.764706     0.0  ...           0.0       0.0          1.0\n",
              "15056  0.218002  0.341176     0.0  ...           0.0       0.0          1.0\n",
              "13513  0.627562  0.988235     0.5  ...           0.0       0.0          1.0\n",
              "8974   0.064083  0.105882     0.5  ...           0.0       0.0          1.0\n",
              "18480  0.408010  0.235294     0.5  ...           0.0       0.0          1.0\n",
              "\n",
              "[34554 rows x 10 columns]"
            ]
          },
          "metadata": {
            "tags": []
          },
          "execution_count": 63
        }
      ]
    },
    {
      "cell_type": "markdown",
      "metadata": {
        "id": "yZlGID5NCEbb"
      },
      "source": [
        "#**4 New Feature Selection**"
      ]
    },
    {
      "cell_type": "code",
      "metadata": {
        "id": "m3AYySMSdAI9"
      },
      "source": [
        "# Feature Importance using Filter Method (Chi-Square)\r\n",
        "from sklearn.feature_selection import SelectKBest, chi2\r\n",
        "X = modified_data.loc[:,modified_data.columns!='RESULT_TEXT']\r\n",
        "y = modified_data[['RESULT_TEXT']]\r\n",
        "selector = SelectKBest(chi2, k=50)\r\n",
        "selector.fit(X, y)\r\n",
        "X_new = selector.transform(X)\r\n",
        "print(X.columns[selector.get_support(indices=True)])"
      ],
      "execution_count": null,
      "outputs": []
    },
    {
      "cell_type": "code",
      "metadata": {
        "id": "twKvZVoBtijw"
      },
      "source": [
        "X_aug =  modified_data[[ 'Termination_Status','employee_id', 'region', 'region_reporting', 'location',\r\n",
        "       'location_country', 'location_tier', 'location_cost',\r\n",
        "       'location_reporting', 'locations_wf', 'restated_LOB', 'tenure', 'age',\r\n",
        "       'generation', 'job_family', 'job_family_group', 'gender',\r\n",
        "       'management_chain_level_employee', 'Job_level', 'ccq', 'Stock_Eligible',\r\n",
        "       'total_bonus_amount_USD', 'total_base_pay_amount_usd',\r\n",
        "       'compensation_usd', 'competitive_range_low_base_salary',\r\n",
        "       'market_reference_point_base_salary',\r\n",
        "       'competitive_range_high_base_salary',\r\n",
        "       'competitive_range_low_total_target_cash',\r\n",
        "       'market_reference_point_total_target_cash',\r\n",
        "       'competitive_range_high_total_target_cash',\r\n",
        "       'competitive_base_pay_market_position',\r\n",
        "       'competitive_total_target_cash_market_position', 'Time_in_Job_Profile',\r\n",
        "       'Employee_Management_Level', 'bonus_eligible',\r\n",
        "       'promotion_count_rolling_2_years',\r\n",
        "       'change_job_type_count_rolling_2_years',\r\n",
        "       'time_since_last_transfer_in_years',\r\n",
        "       'time_since_last_change_job_type_in_years',\r\n",
        "       'current_vs_average_compensation_job_level',\r\n",
        "       'current_vs_average_tenure_job_level', 'current_vs_average_tenure',\r\n",
        "       '%_Abover_or_Below_Average_Compensation_job_level',\r\n",
        "       '%_Abover_or_Below_Average_Tenure_job_level',\r\n",
        "       '%_Abover_or_Below_Average_Tenure_Company', 'eNPS',\r\n",
        "       'Time_to_retirement_in_years',\r\n",
        "       'Mgt_Level_one_level_up_change_rolling_12_months',\r\n",
        "       'Mgt_Level_two_level_up_change_rolling_12_months',\r\n",
        "       'time_with_current_manager_in_years',\r\n",
        "       'time_since_compensation_change_in_years']]"
      ],
      "execution_count": null,
      "outputs": []
    },
    {
      "cell_type": "code",
      "metadata": {
        "colab": {
          "base_uri": "https://localhost:8080/",
          "height": 439
        },
        "id": "8n9_GcM8uxi_",
        "outputId": "73659a82-d1bd-47d5-f5b3-886d5d7f69be"
      },
      "source": [
        "X_aug"
      ],
      "execution_count": null,
      "outputs": [
        {
          "output_type": "execute_result",
          "data": {
            "text/html": [
              "<div>\n",
              "<style scoped>\n",
              "    .dataframe tbody tr th:only-of-type {\n",
              "        vertical-align: middle;\n",
              "    }\n",
              "\n",
              "    .dataframe tbody tr th {\n",
              "        vertical-align: top;\n",
              "    }\n",
              "\n",
              "    .dataframe thead th {\n",
              "        text-align: right;\n",
              "    }\n",
              "</style>\n",
              "<table border=\"1\" class=\"dataframe\">\n",
              "  <thead>\n",
              "    <tr style=\"text-align: right;\">\n",
              "      <th></th>\n",
              "      <th>Termination_Status</th>\n",
              "      <th>employee_id</th>\n",
              "      <th>region</th>\n",
              "      <th>region_reporting</th>\n",
              "      <th>location</th>\n",
              "      <th>location_country</th>\n",
              "      <th>location_tier</th>\n",
              "      <th>location_cost</th>\n",
              "      <th>location_reporting</th>\n",
              "      <th>locations_wf</th>\n",
              "      <th>restated_LOB</th>\n",
              "      <th>tenure</th>\n",
              "      <th>age</th>\n",
              "      <th>generation</th>\n",
              "      <th>job_family</th>\n",
              "      <th>job_family_group</th>\n",
              "      <th>gender</th>\n",
              "      <th>management_chain_level_employee</th>\n",
              "      <th>Job_level</th>\n",
              "      <th>ccq</th>\n",
              "      <th>Stock_Eligible</th>\n",
              "      <th>total_bonus_amount_USD</th>\n",
              "      <th>total_base_pay_amount_usd</th>\n",
              "      <th>compensation_usd</th>\n",
              "      <th>competitive_range_low_base_salary</th>\n",
              "      <th>market_reference_point_base_salary</th>\n",
              "      <th>competitive_range_high_base_salary</th>\n",
              "      <th>competitive_range_low_total_target_cash</th>\n",
              "      <th>market_reference_point_total_target_cash</th>\n",
              "      <th>competitive_range_high_total_target_cash</th>\n",
              "      <th>competitive_base_pay_market_position</th>\n",
              "      <th>competitive_total_target_cash_market_position</th>\n",
              "      <th>Time_in_Job_Profile</th>\n",
              "      <th>Employee_Management_Level</th>\n",
              "      <th>bonus_eligible</th>\n",
              "      <th>promotion_count_rolling_2_years</th>\n",
              "      <th>change_job_type_count_rolling_2_years</th>\n",
              "      <th>time_since_last_transfer_in_years</th>\n",
              "      <th>time_since_last_change_job_type_in_years</th>\n",
              "      <th>current_vs_average_compensation_job_level</th>\n",
              "      <th>current_vs_average_tenure_job_level</th>\n",
              "      <th>current_vs_average_tenure</th>\n",
              "      <th>%_Abover_or_Below_Average_Compensation_job_level</th>\n",
              "      <th>%_Abover_or_Below_Average_Tenure_job_level</th>\n",
              "      <th>%_Abover_or_Below_Average_Tenure_Company</th>\n",
              "      <th>eNPS</th>\n",
              "      <th>Time_to_retirement_in_years</th>\n",
              "      <th>Mgt_Level_one_level_up_change_rolling_12_months</th>\n",
              "      <th>Mgt_Level_two_level_up_change_rolling_12_months</th>\n",
              "      <th>time_with_current_manager_in_years</th>\n",
              "      <th>time_since_compensation_change_in_years</th>\n",
              "    </tr>\n",
              "  </thead>\n",
              "  <tbody>\n",
              "    <tr>\n",
              "      <th>14</th>\n",
              "      <td>0.0</td>\n",
              "      <td>0.756853</td>\n",
              "      <td>0.0</td>\n",
              "      <td>1.000000</td>\n",
              "      <td>0.011905</td>\n",
              "      <td>0.380952</td>\n",
              "      <td>0.5</td>\n",
              "      <td>1.0</td>\n",
              "      <td>0.235294</td>\n",
              "      <td>0.2</td>\n",
              "      <td>0.000000</td>\n",
              "      <td>0.361484</td>\n",
              "      <td>0.116279</td>\n",
              "      <td>1.000000</td>\n",
              "      <td>0.817757</td>\n",
              "      <td>0.142857</td>\n",
              "      <td>0.5</td>\n",
              "      <td>0.666667</td>\n",
              "      <td>0.2</td>\n",
              "      <td>0.875000</td>\n",
              "      <td>1.0</td>\n",
              "      <td>0.000000</td>\n",
              "      <td>0.077358</td>\n",
              "      <td>0.064118</td>\n",
              "      <td>0.061056</td>\n",
              "      <td>0.061056</td>\n",
              "      <td>0.061056</td>\n",
              "      <td>0.041077</td>\n",
              "      <td>0.041077</td>\n",
              "      <td>0.041077</td>\n",
              "      <td>0.0</td>\n",
              "      <td>0.0</td>\n",
              "      <td>0.362238</td>\n",
              "      <td>0.666667</td>\n",
              "      <td>0.0</td>\n",
              "      <td>0.5</td>\n",
              "      <td>0.5</td>\n",
              "      <td>0.422899</td>\n",
              "      <td>0.056561</td>\n",
              "      <td>0.0</td>\n",
              "      <td>0.0</td>\n",
              "      <td>0.0</td>\n",
              "      <td>0.873831</td>\n",
              "      <td>0.816363</td>\n",
              "      <td>0.361469</td>\n",
              "      <td>0.318158</td>\n",
              "      <td>0.851064</td>\n",
              "      <td>1.0</td>\n",
              "      <td>1.0</td>\n",
              "      <td>0.101796</td>\n",
              "      <td>0.203593</td>\n",
              "    </tr>\n",
              "    <tr>\n",
              "      <th>17</th>\n",
              "      <td>0.0</td>\n",
              "      <td>0.990830</td>\n",
              "      <td>0.5</td>\n",
              "      <td>0.333333</td>\n",
              "      <td>0.327381</td>\n",
              "      <td>1.000000</td>\n",
              "      <td>0.5</td>\n",
              "      <td>0.0</td>\n",
              "      <td>0.647059</td>\n",
              "      <td>0.8</td>\n",
              "      <td>0.000000</td>\n",
              "      <td>0.006314</td>\n",
              "      <td>0.279070</td>\n",
              "      <td>1.000000</td>\n",
              "      <td>0.074766</td>\n",
              "      <td>0.142857</td>\n",
              "      <td>0.5</td>\n",
              "      <td>0.333333</td>\n",
              "      <td>0.6</td>\n",
              "      <td>0.769008</td>\n",
              "      <td>0.0</td>\n",
              "      <td>0.382979</td>\n",
              "      <td>0.758356</td>\n",
              "      <td>0.694109</td>\n",
              "      <td>0.728035</td>\n",
              "      <td>0.728036</td>\n",
              "      <td>0.728036</td>\n",
              "      <td>0.678260</td>\n",
              "      <td>0.678259</td>\n",
              "      <td>0.678258</td>\n",
              "      <td>0.2</td>\n",
              "      <td>0.2</td>\n",
              "      <td>0.039161</td>\n",
              "      <td>0.333333</td>\n",
              "      <td>1.0</td>\n",
              "      <td>0.0</td>\n",
              "      <td>0.0</td>\n",
              "      <td>0.007387</td>\n",
              "      <td>0.018100</td>\n",
              "      <td>0.0</td>\n",
              "      <td>1.0</td>\n",
              "      <td>1.0</td>\n",
              "      <td>0.961947</td>\n",
              "      <td>0.012737</td>\n",
              "      <td>0.006311</td>\n",
              "      <td>0.384985</td>\n",
              "      <td>0.744681</td>\n",
              "      <td>0.0</td>\n",
              "      <td>0.0</td>\n",
              "      <td>0.047904</td>\n",
              "      <td>0.047904</td>\n",
              "    </tr>\n",
              "    <tr>\n",
              "      <th>30</th>\n",
              "      <td>0.0</td>\n",
              "      <td>0.873556</td>\n",
              "      <td>0.5</td>\n",
              "      <td>0.333333</td>\n",
              "      <td>0.130952</td>\n",
              "      <td>1.000000</td>\n",
              "      <td>0.5</td>\n",
              "      <td>0.0</td>\n",
              "      <td>0.529412</td>\n",
              "      <td>0.6</td>\n",
              "      <td>0.000000</td>\n",
              "      <td>0.171271</td>\n",
              "      <td>0.069767</td>\n",
              "      <td>0.666667</td>\n",
              "      <td>0.817757</td>\n",
              "      <td>0.142857</td>\n",
              "      <td>0.5</td>\n",
              "      <td>0.333333</td>\n",
              "      <td>0.0</td>\n",
              "      <td>0.250000</td>\n",
              "      <td>1.0</td>\n",
              "      <td>0.000000</td>\n",
              "      <td>0.436052</td>\n",
              "      <td>0.361421</td>\n",
              "      <td>0.366203</td>\n",
              "      <td>0.366201</td>\n",
              "      <td>0.366200</td>\n",
              "      <td>0.306968</td>\n",
              "      <td>0.306969</td>\n",
              "      <td>0.306970</td>\n",
              "      <td>0.2</td>\n",
              "      <td>0.2</td>\n",
              "      <td>0.489510</td>\n",
              "      <td>0.333333</td>\n",
              "      <td>0.0</td>\n",
              "      <td>0.0</td>\n",
              "      <td>0.0</td>\n",
              "      <td>0.200369</td>\n",
              "      <td>0.490950</td>\n",
              "      <td>0.0</td>\n",
              "      <td>0.0</td>\n",
              "      <td>1.0</td>\n",
              "      <td>0.711631</td>\n",
              "      <td>0.718528</td>\n",
              "      <td>0.171285</td>\n",
              "      <td>0.543464</td>\n",
              "      <td>0.936170</td>\n",
              "      <td>0.0</td>\n",
              "      <td>0.0</td>\n",
              "      <td>0.598802</td>\n",
              "      <td>0.203593</td>\n",
              "    </tr>\n",
              "    <tr>\n",
              "      <th>37</th>\n",
              "      <td>0.0</td>\n",
              "      <td>0.787906</td>\n",
              "      <td>0.0</td>\n",
              "      <td>0.000000</td>\n",
              "      <td>0.261905</td>\n",
              "      <td>0.142857</td>\n",
              "      <td>1.0</td>\n",
              "      <td>1.0</td>\n",
              "      <td>0.588235</td>\n",
              "      <td>0.7</td>\n",
              "      <td>0.000000</td>\n",
              "      <td>0.329124</td>\n",
              "      <td>0.209302</td>\n",
              "      <td>1.000000</td>\n",
              "      <td>0.817757</td>\n",
              "      <td>0.142857</td>\n",
              "      <td>0.5</td>\n",
              "      <td>0.666667</td>\n",
              "      <td>0.2</td>\n",
              "      <td>0.625000</td>\n",
              "      <td>1.0</td>\n",
              "      <td>0.000000</td>\n",
              "      <td>0.082795</td>\n",
              "      <td>0.068624</td>\n",
              "      <td>0.103469</td>\n",
              "      <td>0.103468</td>\n",
              "      <td>0.103468</td>\n",
              "      <td>0.075823</td>\n",
              "      <td>0.075823</td>\n",
              "      <td>0.075823</td>\n",
              "      <td>1.0</td>\n",
              "      <td>1.0</td>\n",
              "      <td>0.830070</td>\n",
              "      <td>0.666667</td>\n",
              "      <td>0.0</td>\n",
              "      <td>0.0</td>\n",
              "      <td>0.5</td>\n",
              "      <td>0.385042</td>\n",
              "      <td>0.092760</td>\n",
              "      <td>1.0</td>\n",
              "      <td>0.0</td>\n",
              "      <td>1.0</td>\n",
              "      <td>0.412389</td>\n",
              "      <td>0.575643</td>\n",
              "      <td>0.329115</td>\n",
              "      <td>0.360459</td>\n",
              "      <td>0.702128</td>\n",
              "      <td>1.0</td>\n",
              "      <td>1.0</td>\n",
              "      <td>0.203593</td>\n",
              "      <td>0.203593</td>\n",
              "    </tr>\n",
              "    <tr>\n",
              "      <th>44</th>\n",
              "      <td>0.0</td>\n",
              "      <td>0.865155</td>\n",
              "      <td>0.0</td>\n",
              "      <td>0.000000</td>\n",
              "      <td>0.261905</td>\n",
              "      <td>0.142857</td>\n",
              "      <td>1.0</td>\n",
              "      <td>1.0</td>\n",
              "      <td>0.588235</td>\n",
              "      <td>0.7</td>\n",
              "      <td>0.000000</td>\n",
              "      <td>0.203631</td>\n",
              "      <td>0.418605</td>\n",
              "      <td>1.000000</td>\n",
              "      <td>0.817757</td>\n",
              "      <td>0.142857</td>\n",
              "      <td>0.0</td>\n",
              "      <td>0.333333</td>\n",
              "      <td>0.4</td>\n",
              "      <td>0.625000</td>\n",
              "      <td>1.0</td>\n",
              "      <td>0.000000</td>\n",
              "      <td>0.158059</td>\n",
              "      <td>0.131007</td>\n",
              "      <td>0.126888</td>\n",
              "      <td>0.126888</td>\n",
              "      <td>0.126888</td>\n",
              "      <td>0.121016</td>\n",
              "      <td>0.121016</td>\n",
              "      <td>0.121016</td>\n",
              "      <td>0.0</td>\n",
              "      <td>0.2</td>\n",
              "      <td>0.489510</td>\n",
              "      <td>0.333333</td>\n",
              "      <td>0.0</td>\n",
              "      <td>0.0</td>\n",
              "      <td>0.5</td>\n",
              "      <td>0.238227</td>\n",
              "      <td>0.266968</td>\n",
              "      <td>0.0</td>\n",
              "      <td>1.0</td>\n",
              "      <td>1.0</td>\n",
              "      <td>0.601138</td>\n",
              "      <td>0.265961</td>\n",
              "      <td>0.203639</td>\n",
              "      <td>0.750019</td>\n",
              "      <td>0.351064</td>\n",
              "      <td>0.0</td>\n",
              "      <td>0.0</td>\n",
              "      <td>0.700599</td>\n",
              "      <td>0.203593</td>\n",
              "    </tr>\n",
              "    <tr>\n",
              "      <th>...</th>\n",
              "      <td>...</td>\n",
              "      <td>...</td>\n",
              "      <td>...</td>\n",
              "      <td>...</td>\n",
              "      <td>...</td>\n",
              "      <td>...</td>\n",
              "      <td>...</td>\n",
              "      <td>...</td>\n",
              "      <td>...</td>\n",
              "      <td>...</td>\n",
              "      <td>...</td>\n",
              "      <td>...</td>\n",
              "      <td>...</td>\n",
              "      <td>...</td>\n",
              "      <td>...</td>\n",
              "      <td>...</td>\n",
              "      <td>...</td>\n",
              "      <td>...</td>\n",
              "      <td>...</td>\n",
              "      <td>...</td>\n",
              "      <td>...</td>\n",
              "      <td>...</td>\n",
              "      <td>...</td>\n",
              "      <td>...</td>\n",
              "      <td>...</td>\n",
              "      <td>...</td>\n",
              "      <td>...</td>\n",
              "      <td>...</td>\n",
              "      <td>...</td>\n",
              "      <td>...</td>\n",
              "      <td>...</td>\n",
              "      <td>...</td>\n",
              "      <td>...</td>\n",
              "      <td>...</td>\n",
              "      <td>...</td>\n",
              "      <td>...</td>\n",
              "      <td>...</td>\n",
              "      <td>...</td>\n",
              "      <td>...</td>\n",
              "      <td>...</td>\n",
              "      <td>...</td>\n",
              "      <td>...</td>\n",
              "      <td>...</td>\n",
              "      <td>...</td>\n",
              "      <td>...</td>\n",
              "      <td>...</td>\n",
              "      <td>...</td>\n",
              "      <td>...</td>\n",
              "      <td>...</td>\n",
              "      <td>...</td>\n",
              "      <td>...</td>\n",
              "    </tr>\n",
              "    <tr>\n",
              "      <th>6158</th>\n",
              "      <td>1.0</td>\n",
              "      <td>0.861809</td>\n",
              "      <td>0.5</td>\n",
              "      <td>0.333333</td>\n",
              "      <td>0.130952</td>\n",
              "      <td>1.000000</td>\n",
              "      <td>0.5</td>\n",
              "      <td>0.0</td>\n",
              "      <td>0.529412</td>\n",
              "      <td>0.6</td>\n",
              "      <td>0.142857</td>\n",
              "      <td>0.138122</td>\n",
              "      <td>0.581395</td>\n",
              "      <td>0.333333</td>\n",
              "      <td>0.140187</td>\n",
              "      <td>0.190476</td>\n",
              "      <td>0.0</td>\n",
              "      <td>0.333333</td>\n",
              "      <td>0.2</td>\n",
              "      <td>0.289895</td>\n",
              "      <td>1.0</td>\n",
              "      <td>0.000000</td>\n",
              "      <td>0.203982</td>\n",
              "      <td>0.169070</td>\n",
              "      <td>0.192931</td>\n",
              "      <td>0.192928</td>\n",
              "      <td>0.192927</td>\n",
              "      <td>0.155562</td>\n",
              "      <td>0.155562</td>\n",
              "      <td>0.155562</td>\n",
              "      <td>0.2</td>\n",
              "      <td>0.2</td>\n",
              "      <td>0.489510</td>\n",
              "      <td>0.333333</td>\n",
              "      <td>0.0</td>\n",
              "      <td>0.0</td>\n",
              "      <td>0.0</td>\n",
              "      <td>0.161588</td>\n",
              "      <td>0.395928</td>\n",
              "      <td>1.0</td>\n",
              "      <td>1.0</td>\n",
              "      <td>1.0</td>\n",
              "      <td>0.210493</td>\n",
              "      <td>0.217199</td>\n",
              "      <td>0.138130</td>\n",
              "      <td>0.249981</td>\n",
              "      <td>0.468085</td>\n",
              "      <td>0.0</td>\n",
              "      <td>0.0</td>\n",
              "      <td>1.000000</td>\n",
              "      <td>0.802395</td>\n",
              "    </tr>\n",
              "    <tr>\n",
              "      <th>71</th>\n",
              "      <td>1.0</td>\n",
              "      <td>0.900694</td>\n",
              "      <td>0.0</td>\n",
              "      <td>0.000000</td>\n",
              "      <td>0.988095</td>\n",
              "      <td>0.738095</td>\n",
              "      <td>1.0</td>\n",
              "      <td>0.0</td>\n",
              "      <td>0.941176</td>\n",
              "      <td>0.0</td>\n",
              "      <td>0.285714</td>\n",
              "      <td>0.065509</td>\n",
              "      <td>0.279070</td>\n",
              "      <td>1.000000</td>\n",
              "      <td>0.242991</td>\n",
              "      <td>0.000000</td>\n",
              "      <td>0.0</td>\n",
              "      <td>0.333333</td>\n",
              "      <td>0.4</td>\n",
              "      <td>0.431909</td>\n",
              "      <td>1.0</td>\n",
              "      <td>0.000000</td>\n",
              "      <td>0.338667</td>\n",
              "      <td>0.280703</td>\n",
              "      <td>0.280460</td>\n",
              "      <td>0.280459</td>\n",
              "      <td>0.280459</td>\n",
              "      <td>0.220819</td>\n",
              "      <td>0.220819</td>\n",
              "      <td>0.220819</td>\n",
              "      <td>0.0</td>\n",
              "      <td>0.0</td>\n",
              "      <td>0.489510</td>\n",
              "      <td>0.333333</td>\n",
              "      <td>0.0</td>\n",
              "      <td>0.0</td>\n",
              "      <td>0.5</td>\n",
              "      <td>0.076639</td>\n",
              "      <td>0.033937</td>\n",
              "      <td>0.0</td>\n",
              "      <td>1.0</td>\n",
              "      <td>1.0</td>\n",
              "      <td>0.713906</td>\n",
              "      <td>0.085372</td>\n",
              "      <td>0.065509</td>\n",
              "      <td>0.718743</td>\n",
              "      <td>0.510638</td>\n",
              "      <td>0.0</td>\n",
              "      <td>0.0</td>\n",
              "      <td>0.700599</td>\n",
              "      <td>0.700599</td>\n",
              "    </tr>\n",
              "    <tr>\n",
              "      <th>11975</th>\n",
              "      <td>1.0</td>\n",
              "      <td>0.882181</td>\n",
              "      <td>0.5</td>\n",
              "      <td>0.333333</td>\n",
              "      <td>0.130952</td>\n",
              "      <td>1.000000</td>\n",
              "      <td>0.5</td>\n",
              "      <td>0.0</td>\n",
              "      <td>0.529412</td>\n",
              "      <td>0.6</td>\n",
              "      <td>0.142857</td>\n",
              "      <td>0.045777</td>\n",
              "      <td>0.186047</td>\n",
              "      <td>1.000000</td>\n",
              "      <td>0.331776</td>\n",
              "      <td>0.190476</td>\n",
              "      <td>0.5</td>\n",
              "      <td>0.333333</td>\n",
              "      <td>0.4</td>\n",
              "      <td>0.316038</td>\n",
              "      <td>0.0</td>\n",
              "      <td>0.000000</td>\n",
              "      <td>0.340972</td>\n",
              "      <td>0.282614</td>\n",
              "      <td>0.299097</td>\n",
              "      <td>0.299097</td>\n",
              "      <td>0.299098</td>\n",
              "      <td>0.251578</td>\n",
              "      <td>0.251577</td>\n",
              "      <td>0.251576</td>\n",
              "      <td>0.2</td>\n",
              "      <td>0.2</td>\n",
              "      <td>0.489510</td>\n",
              "      <td>0.333333</td>\n",
              "      <td>0.0</td>\n",
              "      <td>0.0</td>\n",
              "      <td>1.0</td>\n",
              "      <td>0.053555</td>\n",
              "      <td>0.024887</td>\n",
              "      <td>1.0</td>\n",
              "      <td>1.0</td>\n",
              "      <td>1.0</td>\n",
              "      <td>0.423515</td>\n",
              "      <td>0.048214</td>\n",
              "      <td>0.045776</td>\n",
              "      <td>0.563489</td>\n",
              "      <td>0.829787</td>\n",
              "      <td>0.0</td>\n",
              "      <td>0.0</td>\n",
              "      <td>1.000000</td>\n",
              "      <td>1.000000</td>\n",
              "    </tr>\n",
              "    <tr>\n",
              "      <th>11702</th>\n",
              "      <td>1.0</td>\n",
              "      <td>0.852169</td>\n",
              "      <td>0.0</td>\n",
              "      <td>0.000000</td>\n",
              "      <td>0.261905</td>\n",
              "      <td>0.142857</td>\n",
              "      <td>1.0</td>\n",
              "      <td>1.0</td>\n",
              "      <td>0.588235</td>\n",
              "      <td>0.7</td>\n",
              "      <td>0.000000</td>\n",
              "      <td>0.151539</td>\n",
              "      <td>0.395349</td>\n",
              "      <td>1.000000</td>\n",
              "      <td>0.817757</td>\n",
              "      <td>0.142857</td>\n",
              "      <td>0.5</td>\n",
              "      <td>0.666667</td>\n",
              "      <td>0.4</td>\n",
              "      <td>0.421163</td>\n",
              "      <td>1.0</td>\n",
              "      <td>0.080489</td>\n",
              "      <td>0.175280</td>\n",
              "      <td>0.159056</td>\n",
              "      <td>0.144739</td>\n",
              "      <td>0.144738</td>\n",
              "      <td>0.144738</td>\n",
              "      <td>0.120912</td>\n",
              "      <td>0.120912</td>\n",
              "      <td>0.120912</td>\n",
              "      <td>0.0</td>\n",
              "      <td>0.0</td>\n",
              "      <td>0.489510</td>\n",
              "      <td>0.666667</td>\n",
              "      <td>1.0</td>\n",
              "      <td>0.0</td>\n",
              "      <td>1.0</td>\n",
              "      <td>0.177285</td>\n",
              "      <td>0.054299</td>\n",
              "      <td>0.0</td>\n",
              "      <td>1.0</td>\n",
              "      <td>1.0</td>\n",
              "      <td>0.848420</td>\n",
              "      <td>0.197898</td>\n",
              "      <td>0.151553</td>\n",
              "      <td>0.381235</td>\n",
              "      <td>0.531915</td>\n",
              "      <td>0.0</td>\n",
              "      <td>0.0</td>\n",
              "      <td>0.946108</td>\n",
              "      <td>0.700599</td>\n",
              "    </tr>\n",
              "    <tr>\n",
              "      <th>5653</th>\n",
              "      <td>1.0</td>\n",
              "      <td>0.766518</td>\n",
              "      <td>0.5</td>\n",
              "      <td>0.333333</td>\n",
              "      <td>0.071429</td>\n",
              "      <td>1.000000</td>\n",
              "      <td>0.0</td>\n",
              "      <td>0.0</td>\n",
              "      <td>0.000000</td>\n",
              "      <td>0.0</td>\n",
              "      <td>0.000000</td>\n",
              "      <td>0.191002</td>\n",
              "      <td>0.069767</td>\n",
              "      <td>1.000000</td>\n",
              "      <td>0.817757</td>\n",
              "      <td>0.142857</td>\n",
              "      <td>0.5</td>\n",
              "      <td>0.333333</td>\n",
              "      <td>0.2</td>\n",
              "      <td>0.433893</td>\n",
              "      <td>1.0</td>\n",
              "      <td>0.000000</td>\n",
              "      <td>0.442889</td>\n",
              "      <td>0.367087</td>\n",
              "      <td>0.446811</td>\n",
              "      <td>0.446809</td>\n",
              "      <td>0.446808</td>\n",
              "      <td>0.395536</td>\n",
              "      <td>0.395536</td>\n",
              "      <td>0.395537</td>\n",
              "      <td>0.2</td>\n",
              "      <td>0.4</td>\n",
              "      <td>0.617483</td>\n",
              "      <td>0.333333</td>\n",
              "      <td>0.0</td>\n",
              "      <td>0.5</td>\n",
              "      <td>0.5</td>\n",
              "      <td>0.223453</td>\n",
              "      <td>0.076923</td>\n",
              "      <td>0.0</td>\n",
              "      <td>0.0</td>\n",
              "      <td>1.0</td>\n",
              "      <td>0.897598</td>\n",
              "      <td>0.885325</td>\n",
              "      <td>0.191018</td>\n",
              "      <td>0.699992</td>\n",
              "      <td>0.936170</td>\n",
              "      <td>0.0</td>\n",
              "      <td>0.0</td>\n",
              "      <td>1.000000</td>\n",
              "      <td>1.000000</td>\n",
              "    </tr>\n",
              "  </tbody>\n",
              "</table>\n",
              "<p>1337 rows × 51 columns</p>\n",
              "</div>"
            ],
            "text/plain": [
              "       Termination_Status  ...  time_since_compensation_change_in_years\n",
              "14                    0.0  ...                                 0.203593\n",
              "17                    0.0  ...                                 0.047904\n",
              "30                    0.0  ...                                 0.203593\n",
              "37                    0.0  ...                                 0.203593\n",
              "44                    0.0  ...                                 0.203593\n",
              "...                   ...  ...                                      ...\n",
              "6158                  1.0  ...                                 0.802395\n",
              "71                    1.0  ...                                 0.700599\n",
              "11975                 1.0  ...                                 1.000000\n",
              "11702                 1.0  ...                                 0.700599\n",
              "5653                  1.0  ...                                 1.000000\n",
              "\n",
              "[1337 rows x 51 columns]"
            ]
          },
          "metadata": {
            "tags": []
          },
          "execution_count": 204
        }
      ]
    },
    {
      "cell_type": "markdown",
      "metadata": {
        "id": "RHmdNwU_CgFj"
      },
      "source": [
        "#**4 Data spliting**"
      ]
    },
    {
      "cell_type": "code",
      "metadata": {
        "id": "5pcJs0LfeI4Q"
      },
      "source": [
        "X=modified_data.drop('RESULT_TEXT',axis=1)"
      ],
      "execution_count": 67,
      "outputs": []
    },
    {
      "cell_type": "code",
      "metadata": {
        "id": "52fY-DzqfFV1"
      },
      "source": [
        "y=modified_data[['RESULT_TEXT']]"
      ],
      "execution_count": 68,
      "outputs": []
    },
    {
      "cell_type": "code",
      "metadata": {
        "id": "k1fyz1VYfhP7"
      },
      "source": [
        "# y\r\n",
        "X"
      ],
      "execution_count": null,
      "outputs": []
    },
    {
      "cell_type": "code",
      "metadata": {
        "id": "CXR6isVQgl8O"
      },
      "source": [
        "y"
      ],
      "execution_count": null,
      "outputs": []
    },
    {
      "cell_type": "code",
      "metadata": {
        "id": "qX6xRBwGivHV"
      },
      "source": [
        "X_train, X_test, y_train, y_test = train_test_split(X, y, test_size=0.30, random_state=100)"
      ],
      "execution_count": 71,
      "outputs": []
    },
    {
      "cell_type": "markdown",
      "metadata": {
        "id": "DLp67Y5hivHV"
      },
      "source": [
        "# **5- Model Training**"
      ]
    },
    {
      "cell_type": "markdown",
      "metadata": {
        "id": "ABiBgAIWivHV"
      },
      "source": [
        "##**5.1-Decision Trees**"
      ]
    },
    {
      "cell_type": "code",
      "metadata": {
        "id": "9-6H4JqkivHV",
        "colab": {
          "base_uri": "https://localhost:8080/"
        },
        "outputId": "7fa480b2-ef42-42f6-a4a4-87c42b99571b"
      },
      "source": [
        "DTC=DecisionTreeClassifier(random_state=0, max_depth=2)\n",
        "DTC= DTC.fit(X_train , y_train)\n",
        "DTC"
      ],
      "execution_count": 72,
      "outputs": [
        {
          "output_type": "execute_result",
          "data": {
            "text/plain": [
              "DecisionTreeClassifier(ccp_alpha=0.0, class_weight=None, criterion='gini',\n",
              "                       max_depth=2, max_features=None, max_leaf_nodes=None,\n",
              "                       min_impurity_decrease=0.0, min_impurity_split=None,\n",
              "                       min_samples_leaf=1, min_samples_split=2,\n",
              "                       min_weight_fraction_leaf=0.0, presort='deprecated',\n",
              "                       random_state=0, splitter='best')"
            ]
          },
          "metadata": {
            "tags": []
          },
          "execution_count": 72
        }
      ]
    },
    {
      "cell_type": "code",
      "metadata": {
        "id": "Rzz9yX-OivHW"
      },
      "source": [
        "y_pred1 = DTC.predict(X_test)\n",
        "dt=DTC.score(X_test, y_test)\n",
        "print('Accuracy score= {:.4f}'.format(DTC.score(X_test, y_test)))"
      ],
      "execution_count": null,
      "outputs": []
    },
    {
      "cell_type": "markdown",
      "metadata": {
        "id": "PEgb1l9IivHW"
      },
      "source": [
        "### **5.1.1 -Confusion Matrix**"
      ]
    },
    {
      "cell_type": "code",
      "metadata": {
        "id": "VYupk1X9ivHW"
      },
      "source": [
        "print('\\n')\n",
        "print(\"confusion matrix\")\n",
        "print('\\n')\n",
        "CR=confusion_matrix(y_test, y_pred1)\n",
        "print(CR)\n",
        "print('\\n')\n",
        "\n",
        "fig, ax = plot_confusion_matrix(conf_mat=CR,figsize=(10, 10),\n",
        "                                show_absolute=True,\n",
        "                                show_normed=True,\n",
        "                                colorbar=True)\n",
        "plt.show()"
      ],
      "execution_count": null,
      "outputs": []
    },
    {
      "cell_type": "markdown",
      "metadata": {
        "id": "TpVfPBk8ivHX"
      },
      "source": [
        "### **5.1.2-Precision, Recall, F1**"
      ]
    },
    {
      "cell_type": "code",
      "metadata": {
        "id": "Tg-r4N3RivHX"
      },
      "source": [
        "print('\\n')\n",
        "print(\"Precision, Recall, F1\")\n",
        "print('\\n')\n",
        "CR=classification_report(y_test, y_pred1)\n",
        "print(CR)\n",
        "print('\\n')"
      ],
      "execution_count": null,
      "outputs": []
    },
    {
      "cell_type": "markdown",
      "metadata": {
        "id": "zLGxK16DivHX"
      },
      "source": [
        "### **5.1.3-ROC CURVE**"
      ]
    },
    {
      "cell_type": "code",
      "metadata": {
        "id": "iKQ5whx5ivHX"
      },
      "source": [
        "fpr1, tpr1, thresholds = roc_curve(y_test, y_pred1)\n",
        "roc_auc = auc(fpr1, tpr1)\n",
        "plt.figure()\n",
        "plt.plot(fpr1, tpr1, color='darkorange', lw=1, label='ROC curve (area = %0.4f)' % roc_auc)\n",
        "plt.xlim([0.0, 1.0])\n",
        "plt.ylim([0.0, 1.05])\n",
        "plt.xlabel('False Positive Rate')\n",
        "plt.ylabel('True Positive Rate')\n",
        "plt.title('ROC CURVE')\n",
        "plt.legend(loc=\"lower right\")\n",
        "plt.show()"
      ],
      "execution_count": null,
      "outputs": []
    },
    {
      "cell_type": "markdown",
      "metadata": {
        "id": "BmhGaJq6ivHY"
      },
      "source": [
        "## **5.2-Random Forest**"
      ]
    },
    {
      "cell_type": "code",
      "metadata": {
        "id": "RYz_jvGQivHY",
        "colab": {
          "base_uri": "https://localhost:8080/"
        },
        "outputId": "b7a74640-c757-4ee2-e47d-4d028806503e"
      },
      "source": [
        "Ran_For= RandomForestClassifier(n_estimators=100,max_depth=15, random_state=11,max_leaf_nodes=10)\n",
        "Ran_For= Ran_For.fit(X_train , y_train)\n",
        "Ran_For"
      ],
      "execution_count": 77,
      "outputs": [
        {
          "output_type": "execute_result",
          "data": {
            "text/plain": [
              "RandomForestClassifier(bootstrap=True, ccp_alpha=0.0, class_weight=None,\n",
              "                       criterion='gini', max_depth=15, max_features='auto',\n",
              "                       max_leaf_nodes=10, max_samples=None,\n",
              "                       min_impurity_decrease=0.0, min_impurity_split=None,\n",
              "                       min_samples_leaf=1, min_samples_split=2,\n",
              "                       min_weight_fraction_leaf=0.0, n_estimators=100,\n",
              "                       n_jobs=None, oob_score=False, random_state=11, verbose=0,\n",
              "                       warm_start=False)"
            ]
          },
          "metadata": {
            "tags": []
          },
          "execution_count": 77
        }
      ]
    },
    {
      "cell_type": "code",
      "metadata": {
        "id": "uKbH4wscivHZ",
        "colab": {
          "base_uri": "https://localhost:8080/"
        },
        "outputId": "12fcf327-565b-416b-bdc4-d6c2254048ff"
      },
      "source": [
        "y_pred1 = Ran_For.predict(X_test)\n",
        "rn=Ran_For.score(X_test, y_test)\n",
        "print('Accuracy score= {:.4f}'.format(Ran_For.score(X_test, y_test)))"
      ],
      "execution_count": 78,
      "outputs": [
        {
          "output_type": "stream",
          "text": [
            "Accuracy score= 0.7750\n"
          ],
          "name": "stdout"
        }
      ]
    },
    {
      "cell_type": "markdown",
      "metadata": {
        "id": "vf3lwlPXivHa"
      },
      "source": [
        "### **5.2.1-Confusion Matrix**"
      ]
    },
    {
      "cell_type": "code",
      "metadata": {
        "id": "dDQtBRopivHb"
      },
      "source": [
        "print('\\n')\n",
        "print(\"confusion matrix\")\n",
        "print('\\n')\n",
        "CR=confusion_matrix(y_test, y_pred1)\n",
        "print(CR)\n",
        "print('\\n')\n",
        "\n",
        "fig, ax = plot_confusion_matrix(conf_mat=CR,figsize=(10, 10),\n",
        "                                show_absolute=True,\n",
        "                                show_normed=True,\n",
        "                                colorbar=True)\n",
        "plt.show()"
      ],
      "execution_count": null,
      "outputs": []
    },
    {
      "cell_type": "markdown",
      "metadata": {
        "id": "0EUpZCpSivHc"
      },
      "source": [
        "### **5.2.2  Precision, Recall, F1**"
      ]
    },
    {
      "cell_type": "code",
      "metadata": {
        "id": "uB_LMqHBivHc"
      },
      "source": [
        "print('\\n')\n",
        "print(\"Precision, Recall, F1\")\n",
        "print('\\n')\n",
        "CR=classification_report(y_test, y_pred1)\n",
        "print(CR)\n",
        "print('\\n')"
      ],
      "execution_count": null,
      "outputs": []
    },
    {
      "cell_type": "markdown",
      "metadata": {
        "id": "dmv1lmT2ivHd"
      },
      "source": [
        "### **5.2.3 ROC CURVE**"
      ]
    },
    {
      "cell_type": "code",
      "metadata": {
        "id": "CRnE4Qan4RY_"
      },
      "source": [
        "fpr2, tpr2, thresholds = roc_curve(y_test, y_pred1)\r\n",
        "roc_auc = auc(fpr2, tpr2)\r\n",
        "plt.figure()\r\n",
        "plt.plot(fpr2, tpr2, color='darkorange', lw=1, label='ROC curve (area = %0.4f)' % roc_auc)\r\n",
        "plt.xlim([0.0, 1.0])\r\n",
        "plt.ylim([0.0, 1.05])\r\n",
        "plt.xlabel('False Positive Rate')\r\n",
        "plt.ylabel('True Positive Rate')\r\n",
        "plt.title('ROC CURVE')\r\n",
        "plt.legend(loc=\"lower right\")\r\n",
        "plt.show()"
      ],
      "execution_count": null,
      "outputs": []
    },
    {
      "cell_type": "markdown",
      "metadata": {
        "id": "RtbZ54akivHe"
      },
      "source": [
        "## **5.3 SVM Support Vector Machine**"
      ]
    },
    {
      "cell_type": "code",
      "metadata": {
        "id": "eOrqJJrtivHf"
      },
      "source": [
        "svc=LinearSVC(random_state=0, tol=1e-5)\n",
        "svc= svc.fit(X_train , y_train)\n",
        "svc"
      ],
      "execution_count": null,
      "outputs": []
    },
    {
      "cell_type": "code",
      "metadata": {
        "id": "Ft9KWrFlivHg"
      },
      "source": [
        "y_pred1 = svc.predict(X_test)\n",
        "sv=svc.score(X_test, y_test)\n",
        "print('Accuracy score= {:.4f}'.format(svc.score(X_test, y_test)))"
      ],
      "execution_count": null,
      "outputs": []
    },
    {
      "cell_type": "markdown",
      "metadata": {
        "id": "ypDgzVWtivHg"
      },
      "source": [
        "### **5.3.1- Confusion Matrix**"
      ]
    },
    {
      "cell_type": "code",
      "metadata": {
        "id": "NrKVKuFxivHh"
      },
      "source": [
        "print('\\n')\n",
        "print(\"confusion matrix\")\n",
        "print('\\n')\n",
        "CR=confusion_matrix(y_test, y_pred1)\n",
        "print(CR)\n",
        "print('\\n')\n",
        "\n",
        "fig, ax = plot_confusion_matrix(conf_mat=CR,figsize=(10, 10),\n",
        "                                show_absolute=True,\n",
        "                                show_normed=True,\n",
        "                                colorbar=True)\n",
        "plt.show()"
      ],
      "execution_count": null,
      "outputs": []
    },
    {
      "cell_type": "markdown",
      "metadata": {
        "id": "pZOKrEXoivHi"
      },
      "source": [
        "### **5.3.2-Precision, Recall, F1**"
      ]
    },
    {
      "cell_type": "code",
      "metadata": {
        "id": "WiwurndwivHi"
      },
      "source": [
        "print('\\n')\n",
        "print(\"Precision, Recall, F1\")\n",
        "print('\\n')\n",
        "CR=classification_report(y_test, y_pred1)\n",
        "print(CR)\n",
        "print('\\n')"
      ],
      "execution_count": null,
      "outputs": []
    },
    {
      "cell_type": "markdown",
      "metadata": {
        "id": "VwjfODVXivHj"
      },
      "source": [
        "### **5.3.3-ROC CURVE**"
      ]
    },
    {
      "cell_type": "code",
      "metadata": {
        "scrolled": true,
        "id": "qH3osxPKivHj"
      },
      "source": [
        "fpr3, tpr3, thresholds = roc_curve(y_test, y_pred1)\n",
        "roc_auc = auc(fpr3, tpr3)\n",
        "plt.figure()\n",
        "plt.plot(fpr3, tpr3, color='darkorange', lw=1, label='ROC curve (area = %0.4f)' % roc_auc)\n",
        "plt.xlim([0.0, 1.0])\n",
        "plt.ylim([0.0, 1.05])\n",
        "plt.xlabel('False Positive Rate')\n",
        "plt.ylabel('True Positive Rate')\n",
        "plt.title('ROC CURVE')\n",
        "plt.legend(loc=\"lower right\")\n",
        "plt.show()"
      ],
      "execution_count": null,
      "outputs": []
    },
    {
      "cell_type": "markdown",
      "metadata": {
        "id": "nr5cNKupivHk"
      },
      "source": [
        "## **5.4-Logistic Regression**"
      ]
    },
    {
      "cell_type": "code",
      "metadata": {
        "id": "tLZ0xAIBivHk",
        "colab": {
          "base_uri": "https://localhost:8080/"
        },
        "outputId": "e42c0398-266e-431d-b5dc-7ba45cfffeb5"
      },
      "source": [
        "LR= LogisticRegression()\n",
        "LR= LR.fit(X_train , y_train)\n",
        "LR"
      ],
      "execution_count": 87,
      "outputs": [
        {
          "output_type": "execute_result",
          "data": {
            "text/plain": [
              "LogisticRegression(C=1.0, class_weight=None, dual=False, fit_intercept=True,\n",
              "                   intercept_scaling=1, l1_ratio=None, max_iter=100,\n",
              "                   multi_class='auto', n_jobs=None, penalty='l2',\n",
              "                   random_state=None, solver='lbfgs', tol=0.0001, verbose=0,\n",
              "                   warm_start=False)"
            ]
          },
          "metadata": {
            "tags": []
          },
          "execution_count": 87
        }
      ]
    },
    {
      "cell_type": "code",
      "metadata": {
        "id": "I7F0kNEKivHl"
      },
      "source": [
        "y_pred1 = LR.predict(X_test)\n",
        "lr=LR.score(X_test, y_test)\n",
        "print('Accuracy score= {:.4f}'.format(LR.score(X_test, y_test)))"
      ],
      "execution_count": null,
      "outputs": []
    },
    {
      "cell_type": "markdown",
      "metadata": {
        "id": "oCLHSkcQivHm"
      },
      "source": [
        "### **5.4.1-Confusion Matrix**"
      ]
    },
    {
      "cell_type": "code",
      "metadata": {
        "id": "h8NtOvLSivHm"
      },
      "source": [
        "print('\\n')\n",
        "print(\"confusion matrix\")\n",
        "print('\\n')\n",
        "CR=confusion_matrix(y_test, y_pred1)\n",
        "print(CR)\n",
        "print('\\n')\n",
        "\n",
        "fig, ax = plot_confusion_matrix(conf_mat=CR,figsize=(10, 10),\n",
        "                                show_absolute=True,\n",
        "                                show_normed=True,\n",
        "                                colorbar=True)\n",
        "plt.show()"
      ],
      "execution_count": null,
      "outputs": []
    },
    {
      "cell_type": "markdown",
      "metadata": {
        "id": "1v0y-c6IivHn"
      },
      "source": [
        "### **5.4.2 Precision, Recall, F1**"
      ]
    },
    {
      "cell_type": "code",
      "metadata": {
        "id": "6qts0FNkivHn"
      },
      "source": [
        "print('\\n')\n",
        "print(\"Precision, Recall, F1\")\n",
        "print('\\n')\n",
        "CR=classification_report(y_test, y_pred1)\n",
        "print(CR)\n",
        "print('\\n')"
      ],
      "execution_count": null,
      "outputs": []
    },
    {
      "cell_type": "markdown",
      "metadata": {
        "id": "YoGWnTBNivHo"
      },
      "source": [
        "### **5.4.3-ROC CURVE**"
      ]
    },
    {
      "cell_type": "code",
      "metadata": {
        "scrolled": true,
        "id": "mcDCjbKDivHp"
      },
      "source": [
        "fpr4, tpr4, thresholds = roc_curve(y_test, y_pred1)\n",
        "roc_auc = auc(fpr4, tpr4)\n",
        "plt.figure()\n",
        "plt.plot(fpr4, tpr4, color='darkorange', lw=1, label='ROC curve (area = %0.4f)' % roc_auc)\n",
        "plt.xlim([0.0, 1.0])\n",
        "plt.ylim([0.0, 1.05])\n",
        "plt.xlabel('False Positive Rate')\n",
        "plt.ylabel('True Positive Rate')\n",
        "plt.title('ROC CURVE')\n",
        "plt.legend(loc=\"lower right\")\n",
        "plt.show()"
      ],
      "execution_count": null,
      "outputs": []
    },
    {
      "cell_type": "code",
      "metadata": {
        "colab": {
          "base_uri": "https://localhost:8080/",
          "height": 295
        },
        "id": "wDYwF5wL1sJL",
        "outputId": "b7274c53-10a9-4eb6-b269-6c241baa8c35"
      },
      "source": [
        "#  ROC fro sep data\r\n",
        "fpr41, tpr41, thresholds = roc_curve(y_sep, y_pred5)\r\n",
        "roc_auc = auc(fpr41, tpr41)\r\n",
        "plt.figure()\r\n",
        "plt.plot(fpr41, tpr41, color='darkorange', lw=1, label='ROC curve (area = %0.4f)' % roc_auc)\r\n",
        "plt.xlim([0.0, 1.0])\r\n",
        "plt.ylim([0.0, 1.05])\r\n",
        "plt.xlabel('False Positive Rate')\r\n",
        "plt.ylabel('True Positive Rate')\r\n",
        "plt.title('ROC CURVE')\r\n",
        "plt.legend(loc=\"lower right\")\r\n",
        "plt.show()"
      ],
      "execution_count": null,
      "outputs": [
        {
          "output_type": "display_data",
          "data": {
            "image/png": "[encoded data removed]",
            "text/plain": [
              "<Figure size 432x288 with 1 Axes>"
            ]
          },
          "metadata": {
            "tags": [],
            "needs_background": "light"
          }
        }
      ]
    },
    {
      "cell_type": "markdown",
      "metadata": {
        "id": "2hrAg8xnivHp"
      },
      "source": [
        "## **5.5-KNN Algorithm**"
      ]
    },
    {
      "cell_type": "code",
      "metadata": {
        "id": "admGEGJbivHq",
        "colab": {
          "base_uri": "https://localhost:8080/"
        },
        "outputId": "b71008ca-f0a6-483f-9ae2-69bc28c6aba8"
      },
      "source": [
        "from sklearn.naive_bayes import GaussianNB\n",
        "KNN=GaussianNB()\n",
        "KNN= KNN.fit(X_train , y_train)\n",
        "KNN"
      ],
      "execution_count": 92,
      "outputs": [
        {
          "output_type": "execute_result",
          "data": {
            "text/plain": [
              "GaussianNB(priors=None, var_smoothing=1e-09)"
            ]
          },
          "metadata": {
            "tags": []
          },
          "execution_count": 92
        }
      ]
    },
    {
      "cell_type": "code",
      "metadata": {
        "id": "GfGcTe-2ivHr"
      },
      "source": [
        "y_pred1 = KNN.predict(X_test)\n",
        "kn=KNN.score(X_test, y_test)\n",
        "print('Accuracy score= {:.4f}'.format(KNN.score(X_test, y_test)))"
      ],
      "execution_count": null,
      "outputs": []
    },
    {
      "cell_type": "markdown",
      "metadata": {
        "id": "lQ1jq_UIivHs"
      },
      "source": [
        "### **5.5.1-Confusion Matrix**"
      ]
    },
    {
      "cell_type": "code",
      "metadata": {
        "id": "_36SwRtPivHs"
      },
      "source": [
        "print('\\n')\n",
        "print(\"confusion matrix\")\n",
        "print('\\n')\n",
        "CR=confusion_matrix(y_test, y_pred1)\n",
        "print(CR)\n",
        "print('\\n')\n",
        "\n",
        "fig, ax = plot_confusion_matrix(conf_mat=CR,figsize=(10, 10),\n",
        "                                show_absolute=True,\n",
        "                                show_normed=True,\n",
        "                                colorbar=True)\n",
        "plt.show()"
      ],
      "execution_count": null,
      "outputs": []
    },
    {
      "cell_type": "markdown",
      "metadata": {
        "id": "yewqVaVSivHt"
      },
      "source": [
        "### **5.5.2-Precision, Recall, F1**"
      ]
    },
    {
      "cell_type": "code",
      "metadata": {
        "id": "L9FgeCRFivHt"
      },
      "source": [
        "print('\\n')\n",
        "print(\"Precision, Recall, F1\")\n",
        "print('\\n')\n",
        "CR=classification_report(y_test, y_pred1)\n",
        "print(CR)\n",
        "print('\\n')"
      ],
      "execution_count": null,
      "outputs": []
    },
    {
      "cell_type": "markdown",
      "metadata": {
        "id": "yRQIQ_gsivHu"
      },
      "source": [
        "### **5.5.3-ROC CURVE**"
      ]
    },
    {
      "cell_type": "code",
      "metadata": {
        "scrolled": true,
        "id": "46pXBeEvivHu"
      },
      "source": [
        "fpr5, tpr5, thresholds = roc_curve(y_test, y_pred1)\n",
        "roc_auc = auc(fpr5, tpr5)\n",
        "plt.figure()\n",
        "plt.plot(fpr5, tpr5, color='darkorange', lw=1, label='ROC curve (area = %0.4f)' % roc_auc)\n",
        "plt.xlim([0.0, 1.0])\n",
        "plt.ylim([0.0, 1.05])\n",
        "plt.xlabel('False Positive Rate')\n",
        "plt.ylabel('True Positive Rate')\n",
        "plt.title('ROC CURVE')\n",
        "plt.legend(loc=\"lower right\")\n",
        "plt.show()"
      ],
      "execution_count": null,
      "outputs": []
    },
    {
      "cell_type": "markdown",
      "metadata": {
        "id": "5adoPTGsaf7Y"
      },
      "source": [
        "# **6-Compare Modle performance** "
      ]
    },
    {
      "cell_type": "markdown",
      "metadata": {
        "id": "PtUNw7SnivHu"
      },
      "source": [
        "## **6.1-ROC Curve for Models**"
      ]
    },
    {
      "cell_type": "code",
      "metadata": {
        "id": "05AZpl4FivHu",
        "colab": {
          "base_uri": "https://localhost:8080/",
          "height": 295
        },
        "outputId": "249de58a-2bc8-4145-fd6b-cd2a04f6ea51"
      },
      "source": [
        "plt.plot(fpr1, tpr1, marker='*', label='Decision Trees', color = 'black')\n",
        "plt.plot(fpr2, tpr2, marker='*', label='Random Forest', color = 'Red')\n",
        "plt.plot(fpr3, tpr3, marker='*', label='SVM', color = 'green')\n",
        "plt.plot(fpr4, tpr4, marker='*', label='LogisticRegression', color = 'yellow')\n",
        "plt.plot(fpr5, tpr5, marker='*', label='KNN', color = 'blue')\n",
        "plt.xlabel('False Positive Rate')\n",
        "plt.ylabel('True Positive Rate')\n",
        "plt.title('ROC CURVES OF ALGORITHMS')\n",
        "plt.legend(loc=\"lower right\")\n",
        "plt.show()"
      ],
      "execution_count": 97,
      "outputs": [
        {
          "output_type": "display_data",
          "data": {
            "image/png": "[encoded data removed]",
            "text/plain": [
              "<Figure size 432x288 with 1 Axes>"
            ]
          },
          "metadata": {
            "tags": [],
            "needs_background": "light"
          }
        }
      ]
    },
    {
      "cell_type": "markdown",
      "metadata": {
        "id": "DHOCUdIwivHv"
      },
      "source": [
        "## **6.2-Comparison of all algorithms Results**"
      ]
    },
    {
      "cell_type": "code",
      "metadata": {
        "scrolled": true,
        "id": "mgNM2oNSivHv"
      },
      "source": [
        "x = PrettyTable()\n",
        "print('\\n')\n",
        "print(\"Comparison of all algorithm results\")\n",
        "x.field_names = [\"Model\", \"Accuracy\"]\n",
        "\n",
        "\n",
        "x.add_row([\"Decision Trees Algorithm\", round(dt,4)])\n",
        "x.add_row([\"Random Forest Algorithm\", round(rn,4)])\n",
        "x.add_row([\"Support Vector Machine Algorithm\", round(sv,4)])\n",
        "x.add_row([\"LogisticRegression Algorithm\", round(lr,4)])\n",
        "x.add_row([\"KNN Algorithm\", round(kn,4)])\n",
        "print(x)\n",
        "print('\\n')"
      ],
      "execution_count": null,
      "outputs": []
    },
    {
      "cell_type": "code",
      "metadata": {
        "colab": {
          "base_uri": "https://localhost:8080/"
        },
        "id": "PoTeywcH6mRu",
        "outputId": "1f52e99d-c259-49a8-9e16-4a06e2201c87"
      },
      "source": [
        "#  for sep data\r\n",
        "\r\n",
        "x = PrettyTable()\r\n",
        "print('\\n')\r\n",
        "print(\"Comparison of all algorithm results\")\r\n",
        "x.field_names = [\"Model\", \"Accuracy\"]\r\n",
        "\r\n",
        "\r\n",
        "x.add_row([\"Decision Trees Algorithm\", round(dt2,4)])\r\n",
        "x.add_row([\"Random Forest Algorithm\", round(rn2,4)])\r\n",
        "x.add_row([\"Support Vector Machine Algorithm\", round(sv2,4)])\r\n",
        "x.add_row([\"LogisticRegression Algorithm\", round(lr2,4)])\r\n",
        "x.add_row([\"KNN Algorithm\", round(kn2,4)])\r\n",
        "print(x)\r\n",
        "print('\\n')"
      ],
      "execution_count": null,
      "outputs": [
        {
          "output_type": "stream",
          "text": [
            "\n",
            "\n",
            "Comparison of all algorithm results\n",
            "+----------------------------------+----------+\n",
            "|              Model               | Accuracy |\n",
            "+----------------------------------+----------+\n",
            "|     Decision Trees Algorithm     |  0.923   |\n",
            "|     Random Forest Algorithm      |  0.9506  |\n",
            "| Support Vector Machine Algorithm |  0.9357  |\n",
            "|   LogisticRegression Algorithm   |  0.9274  |\n",
            "|          KNN Algorithm           |  0.8175  |\n",
            "+----------------------------------+----------+\n",
            "\n",
            "\n"
          ],
          "name": "stdout"
        }
      ]
    },
    {
      "cell_type": "markdown",
      "metadata": {
        "id": "RDXZdnRNivHv"
      },
      "source": [
        "## **6.3-Best Model with Accuracy and Time of execution**"
      ]
    },
    {
      "cell_type": "code",
      "metadata": {
        "id": "iz4xxk6sivHv"
      },
      "source": [
        "x = PrettyTable()\n",
        "print('\\n')\n",
        "print(\"Comparison of all algorithm results\")\n",
        "x.field_names = [\"Model\", \"Accuracy\"]\n",
        "\n",
        "\n",
        "x.add_row([\"Random Forest Algorithm\", round(rn,4)])\n",
        "\n",
        "print(x)\n",
        "print('\\n')"
      ],
      "execution_count": null,
      "outputs": []
    },
    {
      "cell_type": "markdown",
      "metadata": {
        "id": "bqx2Su7EivHw"
      },
      "source": [
        "#**13- Train on all training data now to make it more good on more data**"
      ]
    },
    {
      "cell_type": "markdown",
      "metadata": {
        "id": "8sYvVAF0c4QC"
      },
      "source": [
        "## **13.1 Logistic Regression**"
      ]
    },
    {
      "cell_type": "code",
      "metadata": {
        "id": "DEXD0VczivHw",
        "colab": {
          "base_uri": "https://localhost:8080/"
        },
        "outputId": "59711ba0-3f3a-417c-fb7f-4d5323db6121"
      },
      "source": [
        "Ran_For= LogisticRegression()\n",
        "Ran_For= Ran_For.fit(X , y)\n",
        "Ran_For"
      ],
      "execution_count": null,
      "outputs": [
        {
          "output_type": "execute_result",
          "data": {
            "text/plain": [
              "LogisticRegression(C=1.0, class_weight=None, dual=False, fit_intercept=True,\n",
              "                   intercept_scaling=1, l1_ratio=None, max_iter=100,\n",
              "                   multi_class='auto', n_jobs=None, penalty='l2',\n",
              "                   random_state=None, solver='lbfgs', tol=0.0001, verbose=0,\n",
              "                   warm_start=False)"
            ]
          },
          "metadata": {
            "tags": []
          },
          "execution_count": 122
        }
      ]
    },
    {
      "cell_type": "markdown",
      "metadata": {
        "id": "tRvE8NScivHw"
      },
      "source": [
        "### **13.1.1 Selecting the Test data of 8997 rows**"
      ]
    },
    {
      "cell_type": "code",
      "metadata": {
        "id": "RNBtOvCoivHx"
      },
      "source": [
        "Testdata=normalized_data_with_selected_features.tail(8997)"
      ],
      "execution_count": null,
      "outputs": []
    },
    {
      "cell_type": "code",
      "metadata": {
        "id": "yYQx4YF0ivHx"
      },
      "source": [
        "Testdata"
      ],
      "execution_count": null,
      "outputs": []
    },
    {
      "cell_type": "markdown",
      "metadata": {
        "id": "i4MpJiL1ivHx"
      },
      "source": [
        "### **13.1.2 As we are going to Predict the 'Termination_Status' so we dont need this**"
      ]
    },
    {
      "cell_type": "code",
      "metadata": {
        "id": "QHw_9Dz5ivHx"
      },
      "source": [
        "Testdata=Testdata.drop(columns=['Termination_Status'])\n",
        "Testdata"
      ],
      "execution_count": null,
      "outputs": []
    },
    {
      "cell_type": "markdown",
      "metadata": {
        "id": "OBdO5dkqivHy"
      },
      "source": [
        "### **13.1.3 Getting Probabilties on the Test data using Decision Trees Trained Model**"
      ]
    },
    {
      "cell_type": "code",
      "metadata": {
        "id": "VxGlEXzCivHy",
        "colab": {
          "base_uri": "https://localhost:8080/"
        },
        "outputId": "34fb8d59-b6e3-4b31-ae53-c88bda16f213"
      },
      "source": [
        "predictions=Ran_For.predict_proba(Testdata)\n",
        "predictions = np.amax(predictions, axis=1)\n",
        "predictions"
      ],
      "execution_count": null,
      "outputs": [
        {
          "output_type": "execute_result",
          "data": {
            "text/plain": [
              "array([0.89484018, 0.99981501, 0.99123215, ..., 0.99817415, 0.99826815,\n",
              "       0.99853741])"
            ]
          },
          "metadata": {
            "tags": []
          },
          "execution_count": 126
        }
      ]
    },
    {
      "cell_type": "code",
      "metadata": {
        "id": "YyJrHOLsivHy",
        "colab": {
          "base_uri": "https://localhost:8080/"
        },
        "outputId": "3907825a-7a42-4503-95ce-86b0353b15f2"
      },
      "source": [
        "Pred=pd.DataFrame()\n",
        "Pred['Test data predictions probabilties']=predictions\n",
        "Pred['Test data predictions probabilties']=round(Pred['Test data predictions probabilties'],2)\n",
        "Pred['Test data predictions probabilties']"
      ],
      "execution_count": null,
      "outputs": [
        {
          "output_type": "execute_result",
          "data": {
            "text/plain": [
              "0       0.89\n",
              "1       1.00\n",
              "2       0.99\n",
              "3       0.98\n",
              "4       0.99\n",
              "        ... \n",
              "8992    1.00\n",
              "8993    1.00\n",
              "8994    1.00\n",
              "8995    1.00\n",
              "8996    1.00\n",
              "Name: Test data predictions probabilties, Length: 8997, dtype: float64"
            ]
          },
          "metadata": {
            "tags": []
          },
          "execution_count": 127
        }
      ]
    },
    {
      "cell_type": "code",
      "metadata": {
        "id": "3anj7pLPivHz",
        "colab": {
          "base_uri": "https://localhost:8080/",
          "height": 483
        },
        "outputId": "125cea00-d527-490a-baba-89e59f5c71de"
      },
      "source": [
        "Pred['Test data predictions probabilties'].value_counts().head(10).plot(kind = 'pie', autopct='%1.1f%%', figsize=(8, 8)).legend()\n"
      ],
      "execution_count": null,
      "outputs": [
        {
          "output_type": "execute_result",
          "data": {
            "text/plain": [
              "<matplotlib.legend.Legend at 0x7efc4b6ab0b8>"
            ]
          },
          "metadata": {
            "tags": []
          },
          "execution_count": 128
        },
        {
          "output_type": "display_data",
          "data": {
            "image/png": "[encoded data removed]",
            "text/plain": [
              "<Figure size 576x576 with 1 Axes>"
            ]
          },
          "metadata": {
            "tags": []
          }
        }
      ]
    },
    {
      "cell_type": "code",
      "metadata": {
        "id": "yVOr04NRivHz",
        "colab": {
          "base_uri": "https://localhost:8080/"
        },
        "outputId": "f1e06e12-1bb8-4a0a-988d-8216743a4ff0"
      },
      "source": [
        "Pred['Test data predictions probabilties'].value_counts()"
      ],
      "execution_count": null,
      "outputs": [
        {
          "output_type": "execute_result",
          "data": {
            "text/plain": [
              "0.99    835\n",
              "0.97    805\n",
              "0.98    780\n",
              "0.96    635\n",
              "0.95    620\n",
              "1.00    519\n",
              "0.94    514\n",
              "0.93    460\n",
              "0.91    441\n",
              "0.92    439\n",
              "0.90    411\n",
              "0.89    332\n",
              "0.88    326\n",
              "0.87    274\n",
              "0.86    256\n",
              "0.85    209\n",
              "0.84    169\n",
              "0.83    158\n",
              "0.82    121\n",
              "0.81    106\n",
              "0.80     85\n",
              "0.79     67\n",
              "0.78     58\n",
              "0.77     44\n",
              "0.76     43\n",
              "0.75     25\n",
              "0.69     23\n",
              "0.74     22\n",
              "0.73     22\n",
              "0.66     19\n",
              "0.70     18\n",
              "0.71     16\n",
              "0.72     16\n",
              "0.59     14\n",
              "0.67     13\n",
              "0.58     10\n",
              "0.51      9\n",
              "0.54      9\n",
              "0.62      9\n",
              "0.65      9\n",
              "0.55      8\n",
              "0.61      7\n",
              "0.52      7\n",
              "0.63      7\n",
              "0.68      6\n",
              "0.64      5\n",
              "0.60      5\n",
              "0.57      4\n",
              "0.56      3\n",
              "0.50      3\n",
              "0.53      1\n",
              "Name: Test data predictions probabilties, dtype: int64"
            ]
          },
          "metadata": {
            "tags": []
          },
          "execution_count": 129
        }
      ]
    },
    {
      "cell_type": "markdown",
      "metadata": {
        "id": "ftINX4SzivHz"
      },
      "source": [
        "## **13.2-Getting Prediction on the Test data using Decision Trees Trained Model**"
      ]
    },
    {
      "cell_type": "code",
      "metadata": {
        "id": "SzgFBwdZivH0",
        "colab": {
          "base_uri": "https://localhost:8080/"
        },
        "outputId": "c9d7d3c4-d346-47d8-d7e6-2c96eac6108c"
      },
      "source": [
        "predictions=DTC.predict(Testdata)\n",
        "predictions"
      ],
      "execution_count": null,
      "outputs": [
        {
          "output_type": "execute_result",
          "data": {
            "text/plain": [
              "array([1, 1, 1, ..., 1, 1, 1])"
            ]
          },
          "metadata": {
            "tags": []
          },
          "execution_count": 130
        }
      ]
    },
    {
      "cell_type": "code",
      "metadata": {
        "id": "ALf-ARfBivH0",
        "colab": {
          "base_uri": "https://localhost:8080/",
          "height": 419
        },
        "outputId": "c8abdad9-7b94-44cc-8200-d11c94b2056d"
      },
      "source": [
        "Pred['Test data predictions']=predictions\n",
        "Pred['Test data predictions']=Pred['Test data predictions'].replace(0,'Yes')\n",
        "Pred['Test data predictions']=Pred['Test data predictions'].replace(1,'No')\n",
        "Pred"
      ],
      "execution_count": null,
      "outputs": [
        {
          "output_type": "execute_result",
          "data": {
            "text/html": [
              "<div>\n",
              "<style scoped>\n",
              "    .dataframe tbody tr th:only-of-type {\n",
              "        vertical-align: middle;\n",
              "    }\n",
              "\n",
              "    .dataframe tbody tr th {\n",
              "        vertical-align: top;\n",
              "    }\n",
              "\n",
              "    .dataframe thead th {\n",
              "        text-align: right;\n",
              "    }\n",
              "</style>\n",
              "<table border=\"1\" class=\"dataframe\">\n",
              "  <thead>\n",
              "    <tr style=\"text-align: right;\">\n",
              "      <th></th>\n",
              "      <th>Test data predictions probabilties</th>\n",
              "      <th>Test data predictions</th>\n",
              "    </tr>\n",
              "  </thead>\n",
              "  <tbody>\n",
              "    <tr>\n",
              "      <th>0</th>\n",
              "      <td>0.89</td>\n",
              "      <td>No</td>\n",
              "    </tr>\n",
              "    <tr>\n",
              "      <th>1</th>\n",
              "      <td>1.00</td>\n",
              "      <td>No</td>\n",
              "    </tr>\n",
              "    <tr>\n",
              "      <th>2</th>\n",
              "      <td>0.99</td>\n",
              "      <td>No</td>\n",
              "    </tr>\n",
              "    <tr>\n",
              "      <th>3</th>\n",
              "      <td>0.98</td>\n",
              "      <td>No</td>\n",
              "    </tr>\n",
              "    <tr>\n",
              "      <th>4</th>\n",
              "      <td>0.99</td>\n",
              "      <td>No</td>\n",
              "    </tr>\n",
              "    <tr>\n",
              "      <th>...</th>\n",
              "      <td>...</td>\n",
              "      <td>...</td>\n",
              "    </tr>\n",
              "    <tr>\n",
              "      <th>8992</th>\n",
              "      <td>1.00</td>\n",
              "      <td>No</td>\n",
              "    </tr>\n",
              "    <tr>\n",
              "      <th>8993</th>\n",
              "      <td>1.00</td>\n",
              "      <td>No</td>\n",
              "    </tr>\n",
              "    <tr>\n",
              "      <th>8994</th>\n",
              "      <td>1.00</td>\n",
              "      <td>No</td>\n",
              "    </tr>\n",
              "    <tr>\n",
              "      <th>8995</th>\n",
              "      <td>1.00</td>\n",
              "      <td>No</td>\n",
              "    </tr>\n",
              "    <tr>\n",
              "      <th>8996</th>\n",
              "      <td>1.00</td>\n",
              "      <td>No</td>\n",
              "    </tr>\n",
              "  </tbody>\n",
              "</table>\n",
              "<p>8997 rows × 2 columns</p>\n",
              "</div>"
            ],
            "text/plain": [
              "      Test data predictions probabilties Test data predictions\n",
              "0                                   0.89                    No\n",
              "1                                   1.00                    No\n",
              "2                                   0.99                    No\n",
              "3                                   0.98                    No\n",
              "4                                   0.99                    No\n",
              "...                                  ...                   ...\n",
              "8992                                1.00                    No\n",
              "8993                                1.00                    No\n",
              "8994                                1.00                    No\n",
              "8995                                1.00                    No\n",
              "8996                                1.00                    No\n",
              "\n",
              "[8997 rows x 2 columns]"
            ]
          },
          "metadata": {
            "tags": []
          },
          "execution_count": 131
        }
      ]
    },
    {
      "cell_type": "markdown",
      "metadata": {
        "id": "qfHe0nx4ivH0"
      },
      "source": [
        "# **14-Percentage of Predictions that are going to terminate is 1% and percentage of predictions that are not going to terminate are 99%**"
      ]
    },
    {
      "cell_type": "code",
      "metadata": {
        "id": "Rivo54NAivH0",
        "colab": {
          "base_uri": "https://localhost:8080/",
          "height": 181
        },
        "outputId": "90700620-ea4b-426b-c814-6220ac844362"
      },
      "source": [
        "Pred['Test data predictions'].value_counts().head(7).plot(kind = 'pie', autopct='%1.1f%%', figsize=(8, 8)).legend()\n"
      ],
      "execution_count": 100,
      "outputs": [
        {
          "output_type": "error",
          "ename": "NameError",
          "evalue": "ignored",
          "traceback": [
            "\u001b[0;31m---------------------------------------------------------------------------\u001b[0m",
            "\u001b[0;31mNameError\u001b[0m                                 Traceback (most recent call last)",
            "\u001b[0;32m<ipython-input-100-ec7ae1bb75aa>\u001b[0m in \u001b[0;36m<module>\u001b[0;34m()\u001b[0m\n\u001b[0;32m----> 1\u001b[0;31m \u001b[0mPred\u001b[0m\u001b[0;34m[\u001b[0m\u001b[0;34m'Test data predictions'\u001b[0m\u001b[0;34m]\u001b[0m\u001b[0;34m.\u001b[0m\u001b[0mvalue_counts\u001b[0m\u001b[0;34m(\u001b[0m\u001b[0;34m)\u001b[0m\u001b[0;34m.\u001b[0m\u001b[0mhead\u001b[0m\u001b[0;34m(\u001b[0m\u001b[0;36m7\u001b[0m\u001b[0;34m)\u001b[0m\u001b[0;34m.\u001b[0m\u001b[0mplot\u001b[0m\u001b[0;34m(\u001b[0m\u001b[0mkind\u001b[0m \u001b[0;34m=\u001b[0m \u001b[0;34m'pie'\u001b[0m\u001b[0;34m,\u001b[0m \u001b[0mautopct\u001b[0m\u001b[0;34m=\u001b[0m\u001b[0;34m'%1.1f%%'\u001b[0m\u001b[0;34m,\u001b[0m \u001b[0mfigsize\u001b[0m\u001b[0;34m=\u001b[0m\u001b[0;34m(\u001b[0m\u001b[0;36m8\u001b[0m\u001b[0;34m,\u001b[0m \u001b[0;36m8\u001b[0m\u001b[0;34m)\u001b[0m\u001b[0;34m)\u001b[0m\u001b[0;34m.\u001b[0m\u001b[0mlegend\u001b[0m\u001b[0;34m(\u001b[0m\u001b[0;34m)\u001b[0m\u001b[0;34m\u001b[0m\u001b[0;34m\u001b[0m\u001b[0m\n\u001b[0m",
            "\u001b[0;31mNameError\u001b[0m: name 'Pred' is not defined"
          ]
        }
      ]
    },
    {
      "cell_type": "code",
      "metadata": {
        "id": "PqIkJ5XQivH1",
        "outputId": "4daf4d79-7931-496b-eb0c-903412a68b5b"
      },
      "source": [
        "Pred['Test data predictions'].value_counts()"
      ],
      "execution_count": null,
      "outputs": [
        {
          "output_type": "execute_result",
          "data": {
            "text/plain": [
              "No     8907\n",
              "Yes      90\n",
              "Name: Test data predictions, dtype: int64"
            ]
          },
          "metadata": {
            "tags": []
          },
          "execution_count": 102
        }
      ]
    },
    {
      "cell_type": "markdown",
      "metadata": {
        "id": "VshaZNmdivH1"
      },
      "source": [
        "# **15-Saving the probabilties and predictions in the last column of test data as Predictions**"
      ]
    },
    {
      "cell_type": "code",
      "metadata": {
        "id": "qC8Zcz4XivH1"
      },
      "source": [
        "Test_data['Test data predictions']=Pred['Test data predictions probabilties']\n",
        "Test_data['Test data predictions']=Pred['Test data predictions']"
      ],
      "execution_count": null,
      "outputs": []
    },
    {
      "cell_type": "code",
      "metadata": {
        "id": "XWMxw-g8ivH2",
        "colab": {
          "base_uri": "https://localhost:8080/"
        },
        "outputId": "d7f1f706-645d-48d9-e959-be15c82a8d47"
      },
      "source": [
        "Test_data.to_csv('Headcount Test with Predictions probabilties Sep.csv')\n",
        "print('Headcount Test with Predictions probabilties file saved')"
      ],
      "execution_count": null,
      "outputs": [
        {
          "output_type": "stream",
          "text": [
            "Headcount Test with Predictions probabilties file saved\n"
          ],
          "name": "stdout"
        }
      ]
    }
  ]
}