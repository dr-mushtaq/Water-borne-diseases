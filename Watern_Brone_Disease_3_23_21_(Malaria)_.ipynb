{
  "nbformat": 4,
  "nbformat_minor": 0,
  "metadata": {
    "kernelspec": {
      "display_name": "Python 3",
      "language": "python",
      "name": "python3"
    },
    "language_info": {
      "codemirror_mode": {
        "name": "ipython",
        "version": 3
      },
      "file_extension": ".py",
      "mimetype": "text/x-python",
      "name": "python",
      "nbconvert_exporter": "python",
      "pygments_lexer": "ipython3",
      "version": "3.8.3"
    },
    "colab": {
      "name": "Watern_Brone_Disease_3_23_21 (Malaria)_.ipynb",
      "provenance": [],
      "collapsed_sections": [],
      "toc_visible": true,
      "include_colab_link": true
    }
  },
  "cells": [
    {
      "cell_type": "markdown",
      "metadata": {
        "id": "view-in-github",
        "colab_type": "text"
      },
      "source": [
        "<a href=\"https://colab.research.google.com/github/hussain0048/Water-borne-diseases/blob/main/Watern_Brone_Disease_3_23_21_(Malaria)_.ipynb\" target=\"_parent\"><img src=\"https://colab.research.google.com/assets/colab-badge.svg\" alt=\"Open In Colab\"/></a>"
      ]
    },
    {
      "cell_type": "code",
      "metadata": {
        "colab": {
          "base_uri": "https://localhost:8080/"
        },
        "id": "OzXb9FZo8D0P",
        "outputId": "a50ce604-1932-4f58-a514-b9eaee24fb12"
      },
      "source": [
        "from google.colab import drive\n",
        "drive.mount('/content/drive')"
      ],
      "execution_count": null,
      "outputs": [
        {
          "output_type": "stream",
          "text": [
            "Mounted at /content/drive\n"
          ],
          "name": "stdout"
        }
      ]
    },
    {
      "cell_type": "markdown",
      "metadata": {
        "id": "BwlGIq-fgExg"
      },
      "source": [
        "# **1- Introduction**\n",
        " the water-borne diseases are the most common which transmitted in contaminated fresh water, whether in bathing, washing, drinking, or in the preparation of food.. More than one-third of Earth&#39;s accessible renewable freshwater is consumptively used for agricultural, industrial, and\n",
        "domestic purposes. Water-borne diseases are commonly found throughout the world but the\n",
        "condition is more aggravated in developing countries including Pakistan. "
      ]
    },
    {
      "cell_type": "markdown",
      "metadata": {
        "id": "Gpjx_5M_Ma7v"
      },
      "source": [
        "#**2-Importing libraries**"
      ]
    },
    {
      "cell_type": "code",
      "metadata": {
        "id": "-E4TvIVLMa73",
        "scrolled": true
      },
      "source": [
        "import numpy as np \n",
        "import pandas as pd \n",
        "import seaborn as sns \n",
        "import matplotlib.pyplot as plt\n",
        "from prettytable import PrettyTable\n",
        "from sklearn.metrics import roc_curve, auc\n",
        "from mlxtend.plotting import plot_confusion_matrix \n",
        "from sklearn.model_selection import train_test_split\n",
        "from sklearn.metrics import classification_report, confusion_matrix\n",
        "from sklearn.tree import DecisionTreeClassifier\n",
        "from sklearn.ensemble import RandomForestClassifier\n",
        "from sklearn.svm import LinearSVC\n",
        "from sklearn.linear_model import LogisticRegression\n",
        "from sklearn.neighbors import KNeighborsClassifier\n",
        "import warnings\n",
        "warnings.filterwarnings(\"ignore\")"
      ],
      "execution_count": null,
      "outputs": []
    },
    {
      "cell_type": "code",
      "metadata": {
        "id": "BetwIHqiVbt6"
      },
      "source": [
        "import pandas as pd \n"
      ],
      "execution_count": null,
      "outputs": []
    },
    {
      "cell_type": "markdown",
      "metadata": {
        "id": "gHoPSZkDivGv"
      },
      "source": [
        "#**3-Processing**\n"
      ]
    },
    {
      "cell_type": "markdown",
      "metadata": {
        "id": "1Vt6LxAxbz6v"
      },
      "source": [
        "## **3.1 Data Reading**"
      ]
    },
    {
      "cell_type": "code",
      "metadata": {
        "id": "K1Cj5cSkCzvl",
        "colab": {
          "base_uri": "https://localhost:8080/"
        },
        "outputId": "ee02af76-93d1-4891-a171-52d51401cdfb"
      },
      "source": [
        "from google.colab import drive\n",
        "drive.mount('/content/drive')"
      ],
      "execution_count": null,
      "outputs": [
        {
          "output_type": "stream",
          "text": [
            "Drive already mounted at /content/drive; to attempt to forcibly remount, call drive.mount(\"/content/drive\", force_remount=True).\n"
          ],
          "name": "stdout"
        }
      ]
    },
    {
      "cell_type": "code",
      "metadata": {
        "id": "XGN87XMSivGw"
      },
      "source": [
        "Train_data = pd.read_csv('/content/drive/MyDrive/Datasets/Water Brone diesease/Malyria_2-21-2021.csv',encoding = 'latin')"
      ],
      "execution_count": null,
      "outputs": []
    },
    {
      "cell_type": "code",
      "metadata": {
        "colab": {
          "base_uri": "https://localhost:8080/",
          "height": 643
        },
        "id": "B6-L96xXwnvr",
        "outputId": "242568f3-e297-400b-c1da-d6442890611a"
      },
      "source": [
        "Train_data"
      ],
      "execution_count": null,
      "outputs": [
        {
          "output_type": "execute_result",
          "data": {
            "text/html": [
              "<div>\n",
              "<style scoped>\n",
              "    .dataframe tbody tr th:only-of-type {\n",
              "        vertical-align: middle;\n",
              "    }\n",
              "\n",
              "    .dataframe tbody tr th {\n",
              "        vertical-align: top;\n",
              "    }\n",
              "\n",
              "    .dataframe thead th {\n",
              "        text-align: right;\n",
              "    }\n",
              "</style>\n",
              "<table border=\"1\" class=\"dataframe\">\n",
              "  <thead>\n",
              "    <tr style=\"text-align: right;\">\n",
              "      <th></th>\n",
              "      <th>Unnamed: 0</th>\n",
              "      <th>SECTION_NO</th>\n",
              "      <th>MRNO</th>\n",
              "      <th>PATIENT_NAME</th>\n",
              "      <th>FATHER_NAME</th>\n",
              "      <th>HUSBAND_NAME</th>\n",
              "      <th>NIC_NEW</th>\n",
              "      <th>REFERRED_FROM</th>\n",
              "      <th>AGE</th>\n",
              "      <th>GENDER</th>\n",
              "      <th>NO_OF_ADMISSION</th>\n",
              "      <th>DISTRICT</th>\n",
              "      <th>TEHSIL</th>\n",
              "      <th>REPORT_VERIFIED</th>\n",
              "      <th>CPT_ID</th>\n",
              "      <th>RESULT_VALUE</th>\n",
              "      <th>CPT_ID.1</th>\n",
              "      <th>SECTION_NO.1</th>\n",
              "      <th>RESULT_TEXT</th>\n",
              "    </tr>\n",
              "  </thead>\n",
              "  <tbody>\n",
              "    <tr>\n",
              "      <th>0</th>\n",
              "      <td>1</td>\n",
              "      <td>K04HEM20123774</td>\n",
              "      <td>K0460000001363</td>\n",
              "      <td>Saqib Mehmood Khan</td>\n",
              "      <td>MUHAMMAD AFSAR KHAN</td>\n",
              "      <td>NaN</td>\n",
              "      <td>1.310163e+12</td>\n",
              "      <td>NaN</td>\n",
              "      <td>34 Year(s)</td>\n",
              "      <td>Male</td>\n",
              "      <td>0</td>\n",
              "      <td>Abbottabad</td>\n",
              "      <td>havelia</td>\n",
              "      <td>11/12/2020 10:46:53 A11P11</td>\n",
              "      <td>1000000000085007</td>\n",
              "      <td>Y</td>\n",
              "      <td>1000000000087207</td>\n",
              "      <td>K04HEM20123774</td>\n",
              "      <td>Negative</td>\n",
              "    </tr>\n",
              "    <tr>\n",
              "      <th>1</th>\n",
              "      <td>2</td>\n",
              "      <td>K04HEM18160758</td>\n",
              "      <td>K0460000001680</td>\n",
              "      <td>Muhammad Iqbal</td>\n",
              "      <td>ABDUR REHMAN</td>\n",
              "      <td>NaN</td>\n",
              "      <td>1.310134e+12</td>\n",
              "      <td>NaN</td>\n",
              "      <td>43 Year(s)</td>\n",
              "      <td>Male</td>\n",
              "      <td>0</td>\n",
              "      <td>Abbottabad</td>\n",
              "      <td>Abbottabad</td>\n",
              "      <td>9/29/2018 9:26:21 A9P9</td>\n",
              "      <td>1000000000087207</td>\n",
              "      <td>Y</td>\n",
              "      <td>1000000000087207</td>\n",
              "      <td>K04HEM18160758</td>\n",
              "      <td>Negative</td>\n",
              "    </tr>\n",
              "    <tr>\n",
              "      <th>2</th>\n",
              "      <td>3</td>\n",
              "      <td>K04HEM18160758</td>\n",
              "      <td>K0460000001680</td>\n",
              "      <td>Muhammad Iqbal</td>\n",
              "      <td>ABDUR REHMAN</td>\n",
              "      <td>NaN</td>\n",
              "      <td>1.310134e+12</td>\n",
              "      <td>NaN</td>\n",
              "      <td>43 Year(s)</td>\n",
              "      <td>Male</td>\n",
              "      <td>0</td>\n",
              "      <td>Abbottabad</td>\n",
              "      <td>Abbottabad</td>\n",
              "      <td>9/29/2018 9:26:07 A9P9</td>\n",
              "      <td>1000000000085007</td>\n",
              "      <td>Y</td>\n",
              "      <td>1000000000087207</td>\n",
              "      <td>K04HEM18160758</td>\n",
              "      <td>Negative</td>\n",
              "    </tr>\n",
              "    <tr>\n",
              "      <th>3</th>\n",
              "      <td>4</td>\n",
              "      <td>K04HEM17056995</td>\n",
              "      <td>K0460000000106</td>\n",
              "      <td>Shahbaz Ahmad</td>\n",
              "      <td>MUMTAZ AHMAD</td>\n",
              "      <td>NaN</td>\n",
              "      <td>4.220136e+12</td>\n",
              "      <td>NaN</td>\n",
              "      <td>28 Year(s)</td>\n",
              "      <td>Male</td>\n",
              "      <td>0</td>\n",
              "      <td>Abbottabad</td>\n",
              "      <td>Abbottabad</td>\n",
              "      <td>5/4/2017 9:48:37 A5P5</td>\n",
              "      <td>1000000000085007</td>\n",
              "      <td>Y</td>\n",
              "      <td>1000000000087207</td>\n",
              "      <td>K04HEM17056995</td>\n",
              "      <td>Negative</td>\n",
              "    </tr>\n",
              "    <tr>\n",
              "      <th>4</th>\n",
              "      <td>5</td>\n",
              "      <td>K04HEM17073233</td>\n",
              "      <td>K0460000000150</td>\n",
              "      <td>Mehfooz Ahmad</td>\n",
              "      <td>HAIDER ZAMAN</td>\n",
              "      <td>NaN</td>\n",
              "      <td>1.310109e+12</td>\n",
              "      <td>NaN</td>\n",
              "      <td>42 Year(s)</td>\n",
              "      <td>Male</td>\n",
              "      <td>0</td>\n",
              "      <td>Abbottabad</td>\n",
              "      <td>Abbottabad</td>\n",
              "      <td>6/3/2017 11:59:38 A6P6</td>\n",
              "      <td>1000000000085007</td>\n",
              "      <td>Y</td>\n",
              "      <td>1000000000087207</td>\n",
              "      <td>K04HEM17073233</td>\n",
              "      <td>Negative</td>\n",
              "    </tr>\n",
              "    <tr>\n",
              "      <th>...</th>\n",
              "      <td>...</td>\n",
              "      <td>...</td>\n",
              "      <td>...</td>\n",
              "      <td>...</td>\n",
              "      <td>...</td>\n",
              "      <td>...</td>\n",
              "      <td>...</td>\n",
              "      <td>...</td>\n",
              "      <td>...</td>\n",
              "      <td>...</td>\n",
              "      <td>...</td>\n",
              "      <td>...</td>\n",
              "      <td>...</td>\n",
              "      <td>...</td>\n",
              "      <td>...</td>\n",
              "      <td>...</td>\n",
              "      <td>...</td>\n",
              "      <td>...</td>\n",
              "      <td>...</td>\n",
              "    </tr>\n",
              "    <tr>\n",
              "      <th>22911</th>\n",
              "      <td>22912</td>\n",
              "      <td>K04HEM21017730</td>\n",
              "      <td>K0400002457330</td>\n",
              "      <td>Rooh Ul Ameen</td>\n",
              "      <td>ABDUL SALAM</td>\n",
              "      <td>NaN</td>\n",
              "      <td>8.139494e+10</td>\n",
              "      <td>NaN</td>\n",
              "      <td>13 Year(s)</td>\n",
              "      <td>Male</td>\n",
              "      <td>1</td>\n",
              "      <td>Haripur</td>\n",
              "      <td>Haripur</td>\n",
              "      <td>2/10/2021 16:53:12 A2P2</td>\n",
              "      <td>1000000000085060</td>\n",
              "      <td>Y</td>\n",
              "      <td>1000000000087207</td>\n",
              "      <td>K04HEM21017730</td>\n",
              "      <td>Negative</td>\n",
              "    </tr>\n",
              "    <tr>\n",
              "      <th>22912</th>\n",
              "      <td>22913</td>\n",
              "      <td>K04HEM21018207</td>\n",
              "      <td>K0400002459565</td>\n",
              "      <td>Zeshan Rustam</td>\n",
              "      <td>M RUSTAM</td>\n",
              "      <td>NaN</td>\n",
              "      <td>NaN</td>\n",
              "      <td>NaN</td>\n",
              "      <td>20 Year(s)</td>\n",
              "      <td>Male</td>\n",
              "      <td>0</td>\n",
              "      <td>Abbottabad</td>\n",
              "      <td>Abbottabad</td>\n",
              "      <td>2/11/2021 11:49:58 A2P2</td>\n",
              "      <td>1000000000085007</td>\n",
              "      <td>Y</td>\n",
              "      <td>1000000000087207</td>\n",
              "      <td>K04HEM21018207</td>\n",
              "      <td>Negative</td>\n",
              "    </tr>\n",
              "    <tr>\n",
              "      <th>22913</th>\n",
              "      <td>22914</td>\n",
              "      <td>K04HEM21019179</td>\n",
              "      <td>K0400002461645</td>\n",
              "      <td>M Umer</td>\n",
              "      <td>M JUNAID</td>\n",
              "      <td>NaN</td>\n",
              "      <td>NaN</td>\n",
              "      <td>NaN</td>\n",
              "      <td>21 Year(s)</td>\n",
              "      <td>Male</td>\n",
              "      <td>0</td>\n",
              "      <td>Abbottabad</td>\n",
              "      <td>Abbottabad</td>\n",
              "      <td>2/13/2021 11:55:21 A2P2</td>\n",
              "      <td>1000000000087207</td>\n",
              "      <td>Y</td>\n",
              "      <td>1000000000087207</td>\n",
              "      <td>K04HEM21019179</td>\n",
              "      <td>Negative</td>\n",
              "    </tr>\n",
              "    <tr>\n",
              "      <th>22914</th>\n",
              "      <td>22915</td>\n",
              "      <td>K04HEM21021055</td>\n",
              "      <td>K04ACE21027742</td>\n",
              "      <td>Shaheen Akhtar</td>\n",
              "      <td>NaN</td>\n",
              "      <td>M SALEEM</td>\n",
              "      <td>NaN</td>\n",
              "      <td>NaN</td>\n",
              "      <td>45 Year(s)</td>\n",
              "      <td>Female</td>\n",
              "      <td>0</td>\n",
              "      <td>Abbottabad</td>\n",
              "      <td>Abbottabad</td>\n",
              "      <td>2/17/2021 11:09:47 A2P2</td>\n",
              "      <td>1000000000087207</td>\n",
              "      <td>Y</td>\n",
              "      <td>1000000000087207</td>\n",
              "      <td>K04HEM21021055</td>\n",
              "      <td>Negative</td>\n",
              "    </tr>\n",
              "    <tr>\n",
              "      <th>22915</th>\n",
              "      <td>22916</td>\n",
              "      <td>K04HEM21020544</td>\n",
              "      <td>K0400002464110</td>\n",
              "      <td>Fakhraj Bibi</td>\n",
              "      <td>M FAYAZ</td>\n",
              "      <td>NaN</td>\n",
              "      <td>NaN</td>\n",
              "      <td>NaN</td>\n",
              "      <td>22 Year(s)</td>\n",
              "      <td>Female</td>\n",
              "      <td>0</td>\n",
              "      <td>Abbottabad</td>\n",
              "      <td>Abbottabad</td>\n",
              "      <td>2/16/2021 12:37:12 A2P2</td>\n",
              "      <td>1000000000085651</td>\n",
              "      <td>Y</td>\n",
              "      <td>1000000000087207</td>\n",
              "      <td>K04HEM21020544</td>\n",
              "      <td>Negative</td>\n",
              "    </tr>\n",
              "  </tbody>\n",
              "</table>\n",
              "<p>22916 rows × 19 columns</p>\n",
              "</div>"
            ],
            "text/plain": [
              "       Unnamed: 0      SECTION_NO  ...    SECTION_NO.1 RESULT_TEXT\n",
              "0               1  K04HEM20123774  ...  K04HEM20123774    Negative\n",
              "1               2  K04HEM18160758  ...  K04HEM18160758    Negative\n",
              "2               3  K04HEM18160758  ...  K04HEM18160758    Negative\n",
              "3               4  K04HEM17056995  ...  K04HEM17056995    Negative\n",
              "4               5  K04HEM17073233  ...  K04HEM17073233    Negative\n",
              "...           ...             ...  ...             ...         ...\n",
              "22911       22912  K04HEM21017730  ...  K04HEM21017730    Negative\n",
              "22912       22913  K04HEM21018207  ...  K04HEM21018207    Negative\n",
              "22913       22914  K04HEM21019179  ...  K04HEM21019179    Negative\n",
              "22914       22915  K04HEM21021055  ...  K04HEM21021055    Negative\n",
              "22915       22916  K04HEM21020544  ...  K04HEM21020544    Negative\n",
              "\n",
              "[22916 rows x 19 columns]"
            ]
          },
          "metadata": {
            "tags": []
          },
          "execution_count": 6
        }
      ]
    },
    {
      "cell_type": "markdown",
      "metadata": {
        "id": "q3oI8qBEgWQF"
      },
      "source": [
        "## 3.2- **Drop Index Colum**"
      ]
    },
    {
      "cell_type": "code",
      "metadata": {
        "id": "MWbQRZlkWIzC"
      },
      "source": [
        "Train_data=Train_data.reset_index()\n",
        "Train_data=Train_data.drop(columns=['index'])"
      ],
      "execution_count": null,
      "outputs": []
    },
    {
      "cell_type": "code",
      "metadata": {
        "id": "4z2-2606wuwe"
      },
      "source": [
        "Train_data"
      ],
      "execution_count": null,
      "outputs": []
    },
    {
      "cell_type": "markdown",
      "metadata": {
        "id": "P_jf97wAha9D"
      },
      "source": [
        "##**3.3- Drop input features**"
      ]
    },
    {
      "cell_type": "code",
      "metadata": {
        "id": "X7bUpgkyW3FQ"
      },
      "source": [
        "New5=Train_data.drop(Train_data.columns[[0,1,3,4,5,6,7,10,17]], axis=1, inplace=True)"
      ],
      "execution_count": null,
      "outputs": []
    },
    {
      "cell_type": "code",
      "metadata": {
        "id": "KFcz6908YWms",
        "colab": {
          "base_uri": "https://localhost:8080/",
          "height": 609
        },
        "outputId": "52f1b97e-348c-44fa-a113-a24679ab470f"
      },
      "source": [
        "Train_data"
      ],
      "execution_count": null,
      "outputs": [
        {
          "output_type": "execute_result",
          "data": {
            "text/html": [
              "<div>\n",
              "<style scoped>\n",
              "    .dataframe tbody tr th:only-of-type {\n",
              "        vertical-align: middle;\n",
              "    }\n",
              "\n",
              "    .dataframe tbody tr th {\n",
              "        vertical-align: top;\n",
              "    }\n",
              "\n",
              "    .dataframe thead th {\n",
              "        text-align: right;\n",
              "    }\n",
              "</style>\n",
              "<table border=\"1\" class=\"dataframe\">\n",
              "  <thead>\n",
              "    <tr style=\"text-align: right;\">\n",
              "      <th></th>\n",
              "      <th>MRNO</th>\n",
              "      <th>AGE</th>\n",
              "      <th>GENDER</th>\n",
              "      <th>DISTRICT</th>\n",
              "      <th>TEHSIL</th>\n",
              "      <th>REPORT_VERIFIED</th>\n",
              "      <th>CPT_ID</th>\n",
              "      <th>RESULT_VALUE</th>\n",
              "      <th>CPT_ID.1</th>\n",
              "      <th>RESULT_TEXT</th>\n",
              "    </tr>\n",
              "  </thead>\n",
              "  <tbody>\n",
              "    <tr>\n",
              "      <th>0</th>\n",
              "      <td>K0460000001363</td>\n",
              "      <td>34 Year(s)</td>\n",
              "      <td>Male</td>\n",
              "      <td>Abbottabad</td>\n",
              "      <td>havelia</td>\n",
              "      <td>11/12/2020 10:46:53 A11P11</td>\n",
              "      <td>1000000000085007</td>\n",
              "      <td>Y</td>\n",
              "      <td>1000000000087207</td>\n",
              "      <td>Negative</td>\n",
              "    </tr>\n",
              "    <tr>\n",
              "      <th>1</th>\n",
              "      <td>K0460000001680</td>\n",
              "      <td>43 Year(s)</td>\n",
              "      <td>Male</td>\n",
              "      <td>Abbottabad</td>\n",
              "      <td>Abbottabad</td>\n",
              "      <td>9/29/2018 9:26:21 A9P9</td>\n",
              "      <td>1000000000087207</td>\n",
              "      <td>Y</td>\n",
              "      <td>1000000000087207</td>\n",
              "      <td>Negative</td>\n",
              "    </tr>\n",
              "    <tr>\n",
              "      <th>2</th>\n",
              "      <td>K0460000001680</td>\n",
              "      <td>43 Year(s)</td>\n",
              "      <td>Male</td>\n",
              "      <td>Abbottabad</td>\n",
              "      <td>Abbottabad</td>\n",
              "      <td>9/29/2018 9:26:07 A9P9</td>\n",
              "      <td>1000000000085007</td>\n",
              "      <td>Y</td>\n",
              "      <td>1000000000087207</td>\n",
              "      <td>Negative</td>\n",
              "    </tr>\n",
              "    <tr>\n",
              "      <th>3</th>\n",
              "      <td>K0460000000106</td>\n",
              "      <td>28 Year(s)</td>\n",
              "      <td>Male</td>\n",
              "      <td>Abbottabad</td>\n",
              "      <td>Abbottabad</td>\n",
              "      <td>5/4/2017 9:48:37 A5P5</td>\n",
              "      <td>1000000000085007</td>\n",
              "      <td>Y</td>\n",
              "      <td>1000000000087207</td>\n",
              "      <td>Negative</td>\n",
              "    </tr>\n",
              "    <tr>\n",
              "      <th>4</th>\n",
              "      <td>K0460000000150</td>\n",
              "      <td>42 Year(s)</td>\n",
              "      <td>Male</td>\n",
              "      <td>Abbottabad</td>\n",
              "      <td>Abbottabad</td>\n",
              "      <td>6/3/2017 11:59:38 A6P6</td>\n",
              "      <td>1000000000085007</td>\n",
              "      <td>Y</td>\n",
              "      <td>1000000000087207</td>\n",
              "      <td>Negative</td>\n",
              "    </tr>\n",
              "    <tr>\n",
              "      <th>...</th>\n",
              "      <td>...</td>\n",
              "      <td>...</td>\n",
              "      <td>...</td>\n",
              "      <td>...</td>\n",
              "      <td>...</td>\n",
              "      <td>...</td>\n",
              "      <td>...</td>\n",
              "      <td>...</td>\n",
              "      <td>...</td>\n",
              "      <td>...</td>\n",
              "    </tr>\n",
              "    <tr>\n",
              "      <th>22911</th>\n",
              "      <td>K0400002457330</td>\n",
              "      <td>13 Year(s)</td>\n",
              "      <td>Male</td>\n",
              "      <td>Haripur</td>\n",
              "      <td>Haripur</td>\n",
              "      <td>2/10/2021 16:53:12 A2P2</td>\n",
              "      <td>1000000000085060</td>\n",
              "      <td>Y</td>\n",
              "      <td>1000000000087207</td>\n",
              "      <td>Negative</td>\n",
              "    </tr>\n",
              "    <tr>\n",
              "      <th>22912</th>\n",
              "      <td>K0400002459565</td>\n",
              "      <td>20 Year(s)</td>\n",
              "      <td>Male</td>\n",
              "      <td>Abbottabad</td>\n",
              "      <td>Abbottabad</td>\n",
              "      <td>2/11/2021 11:49:58 A2P2</td>\n",
              "      <td>1000000000085007</td>\n",
              "      <td>Y</td>\n",
              "      <td>1000000000087207</td>\n",
              "      <td>Negative</td>\n",
              "    </tr>\n",
              "    <tr>\n",
              "      <th>22913</th>\n",
              "      <td>K0400002461645</td>\n",
              "      <td>21 Year(s)</td>\n",
              "      <td>Male</td>\n",
              "      <td>Abbottabad</td>\n",
              "      <td>Abbottabad</td>\n",
              "      <td>2/13/2021 11:55:21 A2P2</td>\n",
              "      <td>1000000000087207</td>\n",
              "      <td>Y</td>\n",
              "      <td>1000000000087207</td>\n",
              "      <td>Negative</td>\n",
              "    </tr>\n",
              "    <tr>\n",
              "      <th>22914</th>\n",
              "      <td>K04ACE21027742</td>\n",
              "      <td>45 Year(s)</td>\n",
              "      <td>Female</td>\n",
              "      <td>Abbottabad</td>\n",
              "      <td>Abbottabad</td>\n",
              "      <td>2/17/2021 11:09:47 A2P2</td>\n",
              "      <td>1000000000087207</td>\n",
              "      <td>Y</td>\n",
              "      <td>1000000000087207</td>\n",
              "      <td>Negative</td>\n",
              "    </tr>\n",
              "    <tr>\n",
              "      <th>22915</th>\n",
              "      <td>K0400002464110</td>\n",
              "      <td>22 Year(s)</td>\n",
              "      <td>Female</td>\n",
              "      <td>Abbottabad</td>\n",
              "      <td>Abbottabad</td>\n",
              "      <td>2/16/2021 12:37:12 A2P2</td>\n",
              "      <td>1000000000085651</td>\n",
              "      <td>Y</td>\n",
              "      <td>1000000000087207</td>\n",
              "      <td>Negative</td>\n",
              "    </tr>\n",
              "  </tbody>\n",
              "</table>\n",
              "<p>22916 rows × 10 columns</p>\n",
              "</div>"
            ],
            "text/plain": [
              "                 MRNO         AGE  ...          CPT_ID.1 RESULT_TEXT\n",
              "0      K0460000001363  34 Year(s)  ...  1000000000087207    Negative\n",
              "1      K0460000001680  43 Year(s)  ...  1000000000087207    Negative\n",
              "2      K0460000001680  43 Year(s)  ...  1000000000087207    Negative\n",
              "3      K0460000000106  28 Year(s)  ...  1000000000087207    Negative\n",
              "4      K0460000000150  42 Year(s)  ...  1000000000087207    Negative\n",
              "...               ...         ...  ...               ...         ...\n",
              "22911  K0400002457330  13 Year(s)  ...  1000000000087207    Negative\n",
              "22912  K0400002459565  20 Year(s)  ...  1000000000087207    Negative\n",
              "22913  K0400002461645  21 Year(s)  ...  1000000000087207    Negative\n",
              "22914  K04ACE21027742  45 Year(s)  ...  1000000000087207    Negative\n",
              "22915  K0400002464110  22 Year(s)  ...  1000000000087207    Negative\n",
              "\n",
              "[22916 rows x 10 columns]"
            ]
          },
          "metadata": {
            "tags": []
          },
          "execution_count": 9
        }
      ]
    },
    {
      "cell_type": "code",
      "metadata": {
        "id": "MxTg7dl3ZAUG",
        "colab": {
          "base_uri": "https://localhost:8080/"
        },
        "outputId": "d2cd63f1-196d-40ab-cae7-dc26c4b551c9"
      },
      "source": [
        "Train_data.columns"
      ],
      "execution_count": null,
      "outputs": [
        {
          "output_type": "execute_result",
          "data": {
            "text/plain": [
              "Index(['MRNO', 'AGE', 'GENDER', 'DISTRICT', 'TEHSIL', 'REPORT_VERIFIED',\n",
              "       'CPT_ID', 'RESULT_VALUE', 'CPT_ID.1', 'RESULT_TEXT'],\n",
              "      dtype='object')"
            ]
          },
          "metadata": {
            "tags": []
          },
          "execution_count": 10
        }
      ]
    },
    {
      "cell_type": "markdown",
      "metadata": {
        "id": "TtDRkJLu27d6"
      },
      "source": [
        "##**3.4 Convert target variable into binary Form**"
      ]
    },
    {
      "cell_type": "code",
      "metadata": {
        "id": "_3NNM8H3QGZ8"
      },
      "source": [
        "Train_data['RESULT_TEXT'].replace({'Negative': 0, 'Positive': 1},inplace = True)\n"
      ],
      "execution_count": null,
      "outputs": []
    },
    {
      "cell_type": "code",
      "metadata": {
        "colab": {
          "base_uri": "https://localhost:8080/",
          "height": 609
        },
        "id": "mMCjB_NdHCrW",
        "outputId": "138d0d8e-dae3-4124-b499-010894368721"
      },
      "source": [
        "Train_data"
      ],
      "execution_count": null,
      "outputs": [
        {
          "output_type": "execute_result",
          "data": {
            "text/html": [
              "<div>\n",
              "<style scoped>\n",
              "    .dataframe tbody tr th:only-of-type {\n",
              "        vertical-align: middle;\n",
              "    }\n",
              "\n",
              "    .dataframe tbody tr th {\n",
              "        vertical-align: top;\n",
              "    }\n",
              "\n",
              "    .dataframe thead th {\n",
              "        text-align: right;\n",
              "    }\n",
              "</style>\n",
              "<table border=\"1\" class=\"dataframe\">\n",
              "  <thead>\n",
              "    <tr style=\"text-align: right;\">\n",
              "      <th></th>\n",
              "      <th>MRNO</th>\n",
              "      <th>AGE</th>\n",
              "      <th>GENDER</th>\n",
              "      <th>DISTRICT</th>\n",
              "      <th>TEHSIL</th>\n",
              "      <th>REPORT_VERIFIED</th>\n",
              "      <th>CPT_ID</th>\n",
              "      <th>RESULT_VALUE</th>\n",
              "      <th>CPT_ID.1</th>\n",
              "      <th>RESULT_TEXT</th>\n",
              "    </tr>\n",
              "  </thead>\n",
              "  <tbody>\n",
              "    <tr>\n",
              "      <th>0</th>\n",
              "      <td>K0460000001363</td>\n",
              "      <td>34 Year(s)</td>\n",
              "      <td>Male</td>\n",
              "      <td>Abbottabad</td>\n",
              "      <td>havelia</td>\n",
              "      <td>11/12/2020 10:46:53 A11P11</td>\n",
              "      <td>1000000000085007</td>\n",
              "      <td>Y</td>\n",
              "      <td>1000000000087207</td>\n",
              "      <td>0</td>\n",
              "    </tr>\n",
              "    <tr>\n",
              "      <th>1</th>\n",
              "      <td>K0460000001680</td>\n",
              "      <td>43 Year(s)</td>\n",
              "      <td>Male</td>\n",
              "      <td>Abbottabad</td>\n",
              "      <td>Abbottabad</td>\n",
              "      <td>9/29/2018 9:26:21 A9P9</td>\n",
              "      <td>1000000000087207</td>\n",
              "      <td>Y</td>\n",
              "      <td>1000000000087207</td>\n",
              "      <td>0</td>\n",
              "    </tr>\n",
              "    <tr>\n",
              "      <th>2</th>\n",
              "      <td>K0460000001680</td>\n",
              "      <td>43 Year(s)</td>\n",
              "      <td>Male</td>\n",
              "      <td>Abbottabad</td>\n",
              "      <td>Abbottabad</td>\n",
              "      <td>9/29/2018 9:26:07 A9P9</td>\n",
              "      <td>1000000000085007</td>\n",
              "      <td>Y</td>\n",
              "      <td>1000000000087207</td>\n",
              "      <td>0</td>\n",
              "    </tr>\n",
              "    <tr>\n",
              "      <th>3</th>\n",
              "      <td>K0460000000106</td>\n",
              "      <td>28 Year(s)</td>\n",
              "      <td>Male</td>\n",
              "      <td>Abbottabad</td>\n",
              "      <td>Abbottabad</td>\n",
              "      <td>5/4/2017 9:48:37 A5P5</td>\n",
              "      <td>1000000000085007</td>\n",
              "      <td>Y</td>\n",
              "      <td>1000000000087207</td>\n",
              "      <td>0</td>\n",
              "    </tr>\n",
              "    <tr>\n",
              "      <th>4</th>\n",
              "      <td>K0460000000150</td>\n",
              "      <td>42 Year(s)</td>\n",
              "      <td>Male</td>\n",
              "      <td>Abbottabad</td>\n",
              "      <td>Abbottabad</td>\n",
              "      <td>6/3/2017 11:59:38 A6P6</td>\n",
              "      <td>1000000000085007</td>\n",
              "      <td>Y</td>\n",
              "      <td>1000000000087207</td>\n",
              "      <td>0</td>\n",
              "    </tr>\n",
              "    <tr>\n",
              "      <th>...</th>\n",
              "      <td>...</td>\n",
              "      <td>...</td>\n",
              "      <td>...</td>\n",
              "      <td>...</td>\n",
              "      <td>...</td>\n",
              "      <td>...</td>\n",
              "      <td>...</td>\n",
              "      <td>...</td>\n",
              "      <td>...</td>\n",
              "      <td>...</td>\n",
              "    </tr>\n",
              "    <tr>\n",
              "      <th>22911</th>\n",
              "      <td>K0400002457330</td>\n",
              "      <td>13 Year(s)</td>\n",
              "      <td>Male</td>\n",
              "      <td>Haripur</td>\n",
              "      <td>Haripur</td>\n",
              "      <td>2/10/2021 16:53:12 A2P2</td>\n",
              "      <td>1000000000085060</td>\n",
              "      <td>Y</td>\n",
              "      <td>1000000000087207</td>\n",
              "      <td>0</td>\n",
              "    </tr>\n",
              "    <tr>\n",
              "      <th>22912</th>\n",
              "      <td>K0400002459565</td>\n",
              "      <td>20 Year(s)</td>\n",
              "      <td>Male</td>\n",
              "      <td>Abbottabad</td>\n",
              "      <td>Abbottabad</td>\n",
              "      <td>2/11/2021 11:49:58 A2P2</td>\n",
              "      <td>1000000000085007</td>\n",
              "      <td>Y</td>\n",
              "      <td>1000000000087207</td>\n",
              "      <td>0</td>\n",
              "    </tr>\n",
              "    <tr>\n",
              "      <th>22913</th>\n",
              "      <td>K0400002461645</td>\n",
              "      <td>21 Year(s)</td>\n",
              "      <td>Male</td>\n",
              "      <td>Abbottabad</td>\n",
              "      <td>Abbottabad</td>\n",
              "      <td>2/13/2021 11:55:21 A2P2</td>\n",
              "      <td>1000000000087207</td>\n",
              "      <td>Y</td>\n",
              "      <td>1000000000087207</td>\n",
              "      <td>0</td>\n",
              "    </tr>\n",
              "    <tr>\n",
              "      <th>22914</th>\n",
              "      <td>K04ACE21027742</td>\n",
              "      <td>45 Year(s)</td>\n",
              "      <td>Female</td>\n",
              "      <td>Abbottabad</td>\n",
              "      <td>Abbottabad</td>\n",
              "      <td>2/17/2021 11:09:47 A2P2</td>\n",
              "      <td>1000000000087207</td>\n",
              "      <td>Y</td>\n",
              "      <td>1000000000087207</td>\n",
              "      <td>0</td>\n",
              "    </tr>\n",
              "    <tr>\n",
              "      <th>22915</th>\n",
              "      <td>K0400002464110</td>\n",
              "      <td>22 Year(s)</td>\n",
              "      <td>Female</td>\n",
              "      <td>Abbottabad</td>\n",
              "      <td>Abbottabad</td>\n",
              "      <td>2/16/2021 12:37:12 A2P2</td>\n",
              "      <td>1000000000085651</td>\n",
              "      <td>Y</td>\n",
              "      <td>1000000000087207</td>\n",
              "      <td>0</td>\n",
              "    </tr>\n",
              "  </tbody>\n",
              "</table>\n",
              "<p>22916 rows × 10 columns</p>\n",
              "</div>"
            ],
            "text/plain": [
              "                 MRNO         AGE  ...          CPT_ID.1 RESULT_TEXT\n",
              "0      K0460000001363  34 Year(s)  ...  1000000000087207           0\n",
              "1      K0460000001680  43 Year(s)  ...  1000000000087207           0\n",
              "2      K0460000001680  43 Year(s)  ...  1000000000087207           0\n",
              "3      K0460000000106  28 Year(s)  ...  1000000000087207           0\n",
              "4      K0460000000150  42 Year(s)  ...  1000000000087207           0\n",
              "...               ...         ...  ...               ...         ...\n",
              "22911  K0400002457330  13 Year(s)  ...  1000000000087207           0\n",
              "22912  K0400002459565  20 Year(s)  ...  1000000000087207           0\n",
              "22913  K0400002461645  21 Year(s)  ...  1000000000087207           0\n",
              "22914  K04ACE21027742  45 Year(s)  ...  1000000000087207           0\n",
              "22915  K0400002464110  22 Year(s)  ...  1000000000087207           0\n",
              "\n",
              "[22916 rows x 10 columns]"
            ]
          },
          "metadata": {
            "tags": []
          },
          "execution_count": 12
        }
      ]
    },
    {
      "cell_type": "markdown",
      "metadata": {
        "id": "931yEjnU4tM7"
      },
      "source": [
        "##**3.5 Imbalance problem**"
      ]
    },
    {
      "cell_type": "code",
      "metadata": {
        "id": "HslcQv7LQq-W",
        "colab": {
          "base_uri": "https://localhost:8080/",
          "height": 336
        },
        "outputId": "c249d9e2-fa0e-4400-a594-145f3dc743c1"
      },
      "source": [
        "import matplotlib.pyplot as plt\n",
        "fig = plt.figure(figsize = (8,5))\n",
        "Train_data.RESULT_TEXT.value_counts(normalize = True).plot(kind='bar', color= ['skyblue','navy'], alpha = 0.9, rot=0)\n",
        "plt.title('Results Status Negative(0) and Positive(1) in the Imbalanced Dataset')\n",
        "plt.show()"
      ],
      "execution_count": null,
      "outputs": [
        {
          "output_type": "display_data",
          "data": {
            "image/png": "[encoded data removed]",
            "text/plain": [
              "<Figure size 576x360 with 1 Axes>"
            ]
          },
          "metadata": {
            "tags": [],
            "needs_background": "light"
          }
        }
      ]
    },
    {
      "cell_type": "code",
      "metadata": {
        "id": "WhEp-UEjRROF",
        "colab": {
          "base_uri": "https://localhost:8080/",
          "height": 336
        },
        "outputId": "96b667f1-1bbf-477b-c89f-f602054406bb"
      },
      "source": [
        "from sklearn.utils import resample\n",
        "no = Train_data[Train_data.RESULT_TEXT == 0]\n",
        "yes = Train_data[Train_data.RESULT_TEXT == 1]\n",
        "yes_oversampled = resample(yes, replace=True, n_samples=len(no), random_state=123)\n",
        "oversampled = pd.concat([no, yes_oversampled])\n",
        "fig = plt.figure(figsize = (8,5))\n",
        "oversampled.RESULT_TEXT.value_counts(normalize = True).plot(kind='bar', color= ['skyblue','navy'], alpha = 0.9, rot=0)\n",
        "plt.title('Waterbrone Disease status Nagative(0) and Postive(1) after Oversampling (Balanced Dataset)')\n",
        "plt.show()\n",
        "\n"
      ],
      "execution_count": null,
      "outputs": [
        {
          "output_type": "display_data",
          "data": {
            "image/png": "[encoded data removed]",
            "text/plain": [
              "<Figure size 576x360 with 1 Axes>"
            ]
          },
          "metadata": {
            "tags": [],
            "needs_background": "light"
          }
        }
      ]
    },
    {
      "cell_type": "code",
      "metadata": {
        "colab": {
          "base_uri": "https://localhost:8080/",
          "height": 609
        },
        "id": "ZBqK5UtPS1fR",
        "outputId": "852df8b2-caca-46b5-b49f-30cba4f2dd0a"
      },
      "source": [
        "oversampled"
      ],
      "execution_count": null,
      "outputs": [
        {
          "output_type": "execute_result",
          "data": {
            "text/html": [
              "<div>\n",
              "<style scoped>\n",
              "    .dataframe tbody tr th:only-of-type {\n",
              "        vertical-align: middle;\n",
              "    }\n",
              "\n",
              "    .dataframe tbody tr th {\n",
              "        vertical-align: top;\n",
              "    }\n",
              "\n",
              "    .dataframe thead th {\n",
              "        text-align: right;\n",
              "    }\n",
              "</style>\n",
              "<table border=\"1\" class=\"dataframe\">\n",
              "  <thead>\n",
              "    <tr style=\"text-align: right;\">\n",
              "      <th></th>\n",
              "      <th>MRNO</th>\n",
              "      <th>AGE</th>\n",
              "      <th>GENDER</th>\n",
              "      <th>DISTRICT</th>\n",
              "      <th>TEHSIL</th>\n",
              "      <th>REPORT_VERIFIED</th>\n",
              "      <th>CPT_ID</th>\n",
              "      <th>RESULT_VALUE</th>\n",
              "      <th>CPT_ID.1</th>\n",
              "      <th>RESULT_TEXT</th>\n",
              "    </tr>\n",
              "  </thead>\n",
              "  <tbody>\n",
              "    <tr>\n",
              "      <th>0</th>\n",
              "      <td>K0460000001363</td>\n",
              "      <td>34 Year(s)</td>\n",
              "      <td>Male</td>\n",
              "      <td>Abbottabad</td>\n",
              "      <td>havelia</td>\n",
              "      <td>11/12/2020 10:46:53 A11P11</td>\n",
              "      <td>1000000000085007</td>\n",
              "      <td>Y</td>\n",
              "      <td>1000000000087207</td>\n",
              "      <td>0</td>\n",
              "    </tr>\n",
              "    <tr>\n",
              "      <th>1</th>\n",
              "      <td>K0460000001680</td>\n",
              "      <td>43 Year(s)</td>\n",
              "      <td>Male</td>\n",
              "      <td>Abbottabad</td>\n",
              "      <td>Abbottabad</td>\n",
              "      <td>9/29/2018 9:26:21 A9P9</td>\n",
              "      <td>1000000000087207</td>\n",
              "      <td>Y</td>\n",
              "      <td>1000000000087207</td>\n",
              "      <td>0</td>\n",
              "    </tr>\n",
              "    <tr>\n",
              "      <th>2</th>\n",
              "      <td>K0460000001680</td>\n",
              "      <td>43 Year(s)</td>\n",
              "      <td>Male</td>\n",
              "      <td>Abbottabad</td>\n",
              "      <td>Abbottabad</td>\n",
              "      <td>9/29/2018 9:26:07 A9P9</td>\n",
              "      <td>1000000000085007</td>\n",
              "      <td>Y</td>\n",
              "      <td>1000000000087207</td>\n",
              "      <td>0</td>\n",
              "    </tr>\n",
              "    <tr>\n",
              "      <th>3</th>\n",
              "      <td>K0460000000106</td>\n",
              "      <td>28 Year(s)</td>\n",
              "      <td>Male</td>\n",
              "      <td>Abbottabad</td>\n",
              "      <td>Abbottabad</td>\n",
              "      <td>5/4/2017 9:48:37 A5P5</td>\n",
              "      <td>1000000000085007</td>\n",
              "      <td>Y</td>\n",
              "      <td>1000000000087207</td>\n",
              "      <td>0</td>\n",
              "    </tr>\n",
              "    <tr>\n",
              "      <th>4</th>\n",
              "      <td>K0460000000150</td>\n",
              "      <td>42 Year(s)</td>\n",
              "      <td>Male</td>\n",
              "      <td>Abbottabad</td>\n",
              "      <td>Abbottabad</td>\n",
              "      <td>6/3/2017 11:59:38 A6P6</td>\n",
              "      <td>1000000000085007</td>\n",
              "      <td>Y</td>\n",
              "      <td>1000000000087207</td>\n",
              "      <td>0</td>\n",
              "    </tr>\n",
              "    <tr>\n",
              "      <th>...</th>\n",
              "      <td>...</td>\n",
              "      <td>...</td>\n",
              "      <td>...</td>\n",
              "      <td>...</td>\n",
              "      <td>...</td>\n",
              "      <td>...</td>\n",
              "      <td>...</td>\n",
              "      <td>...</td>\n",
              "      <td>...</td>\n",
              "      <td>...</td>\n",
              "    </tr>\n",
              "    <tr>\n",
              "      <th>13513</th>\n",
              "      <td>K0400001814307</td>\n",
              "      <td>8 Year(s)</td>\n",
              "      <td>Male</td>\n",
              "      <td>Abbottabad</td>\n",
              "      <td>Abbottabad</td>\n",
              "      <td>4/11/2019 12:58:07 A4P4</td>\n",
              "      <td>1000000000085651</td>\n",
              "      <td>Y</td>\n",
              "      <td>1000000000087207</td>\n",
              "      <td>1</td>\n",
              "    </tr>\n",
              "    <tr>\n",
              "      <th>8974</th>\n",
              "      <td>K0400000398320</td>\n",
              "      <td>16 Year(s)</td>\n",
              "      <td>Male</td>\n",
              "      <td>Abbottabad</td>\n",
              "      <td>Abbottabad</td>\n",
              "      <td>5/29/2017 10:51:45 A5P5</td>\n",
              "      <td>1000000000087207</td>\n",
              "      <td>Y</td>\n",
              "      <td>1000000000087207</td>\n",
              "      <td>1</td>\n",
              "    </tr>\n",
              "    <tr>\n",
              "      <th>18480</th>\n",
              "      <td>K0400001298329</td>\n",
              "      <td>25 Year(s)</td>\n",
              "      <td>Male</td>\n",
              "      <td>Abbottabad</td>\n",
              "      <td>Abbottabad</td>\n",
              "      <td>6/27/2018 11:36:18 A6P6</td>\n",
              "      <td>1000000000085007</td>\n",
              "      <td>Y</td>\n",
              "      <td>1000000000087207</td>\n",
              "      <td>1</td>\n",
              "    </tr>\n",
              "    <tr>\n",
              "      <th>20294</th>\n",
              "      <td>K0400000379787</td>\n",
              "      <td>7 Year(s)</td>\n",
              "      <td>Female</td>\n",
              "      <td>Mansehra</td>\n",
              "      <td>Mansehra</td>\n",
              "      <td>5/24/2017 12:38:28 A5P5</td>\n",
              "      <td>1000000000087207</td>\n",
              "      <td>Y</td>\n",
              "      <td>1000000000087207</td>\n",
              "      <td>1</td>\n",
              "    </tr>\n",
              "    <tr>\n",
              "      <th>1407</th>\n",
              "      <td>K0400001410481</td>\n",
              "      <td>82 Year(s)</td>\n",
              "      <td>Male</td>\n",
              "      <td>Batgram</td>\n",
              "      <td>Batagram</td>\n",
              "      <td>8/29/2018 13:40:28 A8P8</td>\n",
              "      <td>1000000000087207</td>\n",
              "      <td>Y</td>\n",
              "      <td>1000000000087207</td>\n",
              "      <td>1</td>\n",
              "    </tr>\n",
              "  </tbody>\n",
              "</table>\n",
              "<p>45512 rows × 10 columns</p>\n",
              "</div>"
            ],
            "text/plain": [
              "                 MRNO         AGE  ...          CPT_ID.1 RESULT_TEXT\n",
              "0      K0460000001363  34 Year(s)  ...  1000000000087207           0\n",
              "1      K0460000001680  43 Year(s)  ...  1000000000087207           0\n",
              "2      K0460000001680  43 Year(s)  ...  1000000000087207           0\n",
              "3      K0460000000106  28 Year(s)  ...  1000000000087207           0\n",
              "4      K0460000000150  42 Year(s)  ...  1000000000087207           0\n",
              "...               ...         ...  ...               ...         ...\n",
              "13513  K0400001814307   8 Year(s)  ...  1000000000087207           1\n",
              "8974   K0400000398320  16 Year(s)  ...  1000000000087207           1\n",
              "18480  K0400001298329  25 Year(s)  ...  1000000000087207           1\n",
              "20294  K0400000379787   7 Year(s)  ...  1000000000087207           1\n",
              "1407   K0400001410481  82 Year(s)  ...  1000000000087207           1\n",
              "\n",
              "[45512 rows x 10 columns]"
            ]
          },
          "metadata": {
            "tags": []
          },
          "execution_count": 15
        }
      ]
    },
    {
      "cell_type": "markdown",
      "metadata": {
        "id": "DqgbCljF6LnL"
      },
      "source": [
        "##**3.6 Check Missing Value**"
      ]
    },
    {
      "cell_type": "code",
      "metadata": {
        "id": "m4yCIPzvSTI0",
        "colab": {
          "base_uri": "https://localhost:8080/",
          "height": 173
        },
        "outputId": "689aa966-0820-44cc-e2e3-5a1f09e5467a"
      },
      "source": [
        "total = oversampled.isnull().sum().sort_values(ascending=False)\n",
        "percent = (oversampled.isnull().sum()/oversampled.isnull().count()).sort_values(ascending=False)\n",
        "missing = pd.concat([total, percent], axis=1, keys=['Total', 'Percent'])\n",
        "missing.head(4)"
      ],
      "execution_count": null,
      "outputs": [
        {
          "output_type": "execute_result",
          "data": {
            "text/html": [
              "<div>\n",
              "<style scoped>\n",
              "    .dataframe tbody tr th:only-of-type {\n",
              "        vertical-align: middle;\n",
              "    }\n",
              "\n",
              "    .dataframe tbody tr th {\n",
              "        vertical-align: top;\n",
              "    }\n",
              "\n",
              "    .dataframe thead th {\n",
              "        text-align: right;\n",
              "    }\n",
              "</style>\n",
              "<table border=\"1\" class=\"dataframe\">\n",
              "  <thead>\n",
              "    <tr style=\"text-align: right;\">\n",
              "      <th></th>\n",
              "      <th>Total</th>\n",
              "      <th>Percent</th>\n",
              "    </tr>\n",
              "  </thead>\n",
              "  <tbody>\n",
              "    <tr>\n",
              "      <th>REPORT_VERIFIED</th>\n",
              "      <td>796</td>\n",
              "      <td>0.01749</td>\n",
              "    </tr>\n",
              "    <tr>\n",
              "      <th>RESULT_TEXT</th>\n",
              "      <td>0</td>\n",
              "      <td>0.00000</td>\n",
              "    </tr>\n",
              "    <tr>\n",
              "      <th>CPT_ID.1</th>\n",
              "      <td>0</td>\n",
              "      <td>0.00000</td>\n",
              "    </tr>\n",
              "    <tr>\n",
              "      <th>RESULT_VALUE</th>\n",
              "      <td>0</td>\n",
              "      <td>0.00000</td>\n",
              "    </tr>\n",
              "  </tbody>\n",
              "</table>\n",
              "</div>"
            ],
            "text/plain": [
              "                 Total  Percent\n",
              "REPORT_VERIFIED    796  0.01749\n",
              "RESULT_TEXT          0  0.00000\n",
              "CPT_ID.1             0  0.00000\n",
              "RESULT_VALUE         0  0.00000"
            ]
          },
          "metadata": {
            "tags": []
          },
          "execution_count": 16
        }
      ]
    },
    {
      "cell_type": "markdown",
      "metadata": {
        "id": "c_emrU7L7CC9"
      },
      "source": [
        "##**3.7 Hot Encoding**"
      ]
    },
    {
      "cell_type": "code",
      "metadata": {
        "colab": {
          "base_uri": "https://localhost:8080/"
        },
        "id": "tkEpcWawRRpV",
        "outputId": "ac4c2dd6-74da-4438-bcc6-7857720183e7"
      },
      "source": [
        "oversampled.select_dtypes(include=['object']).columns"
      ],
      "execution_count": null,
      "outputs": [
        {
          "output_type": "execute_result",
          "data": {
            "text/plain": [
              "Index(['MRNO', 'AGE', 'GENDER', 'DISTRICT', 'TEHSIL', 'REPORT_VERIFIED',\n",
              "       'RESULT_VALUE'],\n",
              "      dtype='object')"
            ]
          },
          "metadata": {
            "tags": []
          },
          "execution_count": 17
        }
      ]
    },
    {
      "cell_type": "code",
      "metadata": {
        "id": "7djWi-ZATitQ"
      },
      "source": [
        "# Impute categorical var with Mode\n",
        "oversampled['MRNO'] = oversampled['MRNO'].fillna(oversampled['MRNO'].mode()[0])\n",
        "oversampled['AGE'] = oversampled['AGE'].fillna(oversampled['AGE'].mode()[0])\n",
        "oversampled['GENDER'] = oversampled['GENDER'].fillna(oversampled['GENDER'].mode()[0])\n",
        "oversampled['DISTRICT'] = oversampled['DISTRICT'].fillna(oversampled['DISTRICT'].mode()[0])\n",
        "oversampled['TEHSIL'] = oversampled['TEHSIL'].fillna(oversampled['TEHSIL'].mode()[0])\n",
        "oversampled['REPORT_VERIFIED'] = oversampled['REPORT_VERIFIED'].fillna(oversampled['REPORT_VERIFIED'].mode()[0])\n",
        "oversampled['RESULT_VALUE'] = oversampled['RESULT_VALUE'].fillna(oversampled['RESULT_VALUE'].mode()[0])"
      ],
      "execution_count": null,
      "outputs": []
    },
    {
      "cell_type": "code",
      "metadata": {
        "id": "KzpnCWUOVRfE",
        "colab": {
          "base_uri": "https://localhost:8080/",
          "height": 609
        },
        "outputId": "0457f2cb-13f2-4d77-9634-de12009cd379"
      },
      "source": [
        "oversampled"
      ],
      "execution_count": null,
      "outputs": [
        {
          "output_type": "execute_result",
          "data": {
            "text/html": [
              "<div>\n",
              "<style scoped>\n",
              "    .dataframe tbody tr th:only-of-type {\n",
              "        vertical-align: middle;\n",
              "    }\n",
              "\n",
              "    .dataframe tbody tr th {\n",
              "        vertical-align: top;\n",
              "    }\n",
              "\n",
              "    .dataframe thead th {\n",
              "        text-align: right;\n",
              "    }\n",
              "</style>\n",
              "<table border=\"1\" class=\"dataframe\">\n",
              "  <thead>\n",
              "    <tr style=\"text-align: right;\">\n",
              "      <th></th>\n",
              "      <th>MRNO</th>\n",
              "      <th>AGE</th>\n",
              "      <th>GENDER</th>\n",
              "      <th>DISTRICT</th>\n",
              "      <th>TEHSIL</th>\n",
              "      <th>REPORT_VERIFIED</th>\n",
              "      <th>CPT_ID</th>\n",
              "      <th>RESULT_VALUE</th>\n",
              "      <th>CPT_ID.1</th>\n",
              "      <th>RESULT_TEXT</th>\n",
              "    </tr>\n",
              "  </thead>\n",
              "  <tbody>\n",
              "    <tr>\n",
              "      <th>0</th>\n",
              "      <td>K0460000001363</td>\n",
              "      <td>34 Year(s)</td>\n",
              "      <td>Male</td>\n",
              "      <td>Abbottabad</td>\n",
              "      <td>havelia</td>\n",
              "      <td>11/12/2020 10:46:53 A11P11</td>\n",
              "      <td>1000000000085007</td>\n",
              "      <td>Y</td>\n",
              "      <td>1000000000087207</td>\n",
              "      <td>0</td>\n",
              "    </tr>\n",
              "    <tr>\n",
              "      <th>1</th>\n",
              "      <td>K0460000001680</td>\n",
              "      <td>43 Year(s)</td>\n",
              "      <td>Male</td>\n",
              "      <td>Abbottabad</td>\n",
              "      <td>Abbottabad</td>\n",
              "      <td>9/29/2018 9:26:21 A9P9</td>\n",
              "      <td>1000000000087207</td>\n",
              "      <td>Y</td>\n",
              "      <td>1000000000087207</td>\n",
              "      <td>0</td>\n",
              "    </tr>\n",
              "    <tr>\n",
              "      <th>2</th>\n",
              "      <td>K0460000001680</td>\n",
              "      <td>43 Year(s)</td>\n",
              "      <td>Male</td>\n",
              "      <td>Abbottabad</td>\n",
              "      <td>Abbottabad</td>\n",
              "      <td>9/29/2018 9:26:07 A9P9</td>\n",
              "      <td>1000000000085007</td>\n",
              "      <td>Y</td>\n",
              "      <td>1000000000087207</td>\n",
              "      <td>0</td>\n",
              "    </tr>\n",
              "    <tr>\n",
              "      <th>3</th>\n",
              "      <td>K0460000000106</td>\n",
              "      <td>28 Year(s)</td>\n",
              "      <td>Male</td>\n",
              "      <td>Abbottabad</td>\n",
              "      <td>Abbottabad</td>\n",
              "      <td>5/4/2017 9:48:37 A5P5</td>\n",
              "      <td>1000000000085007</td>\n",
              "      <td>Y</td>\n",
              "      <td>1000000000087207</td>\n",
              "      <td>0</td>\n",
              "    </tr>\n",
              "    <tr>\n",
              "      <th>4</th>\n",
              "      <td>K0460000000150</td>\n",
              "      <td>42 Year(s)</td>\n",
              "      <td>Male</td>\n",
              "      <td>Abbottabad</td>\n",
              "      <td>Abbottabad</td>\n",
              "      <td>6/3/2017 11:59:38 A6P6</td>\n",
              "      <td>1000000000085007</td>\n",
              "      <td>Y</td>\n",
              "      <td>1000000000087207</td>\n",
              "      <td>0</td>\n",
              "    </tr>\n",
              "    <tr>\n",
              "      <th>...</th>\n",
              "      <td>...</td>\n",
              "      <td>...</td>\n",
              "      <td>...</td>\n",
              "      <td>...</td>\n",
              "      <td>...</td>\n",
              "      <td>...</td>\n",
              "      <td>...</td>\n",
              "      <td>...</td>\n",
              "      <td>...</td>\n",
              "      <td>...</td>\n",
              "    </tr>\n",
              "    <tr>\n",
              "      <th>13513</th>\n",
              "      <td>K0400001814307</td>\n",
              "      <td>8 Year(s)</td>\n",
              "      <td>Male</td>\n",
              "      <td>Abbottabad</td>\n",
              "      <td>Abbottabad</td>\n",
              "      <td>4/11/2019 12:58:07 A4P4</td>\n",
              "      <td>1000000000085651</td>\n",
              "      <td>Y</td>\n",
              "      <td>1000000000087207</td>\n",
              "      <td>1</td>\n",
              "    </tr>\n",
              "    <tr>\n",
              "      <th>8974</th>\n",
              "      <td>K0400000398320</td>\n",
              "      <td>16 Year(s)</td>\n",
              "      <td>Male</td>\n",
              "      <td>Abbottabad</td>\n",
              "      <td>Abbottabad</td>\n",
              "      <td>5/29/2017 10:51:45 A5P5</td>\n",
              "      <td>1000000000087207</td>\n",
              "      <td>Y</td>\n",
              "      <td>1000000000087207</td>\n",
              "      <td>1</td>\n",
              "    </tr>\n",
              "    <tr>\n",
              "      <th>18480</th>\n",
              "      <td>K0400001298329</td>\n",
              "      <td>25 Year(s)</td>\n",
              "      <td>Male</td>\n",
              "      <td>Abbottabad</td>\n",
              "      <td>Abbottabad</td>\n",
              "      <td>6/27/2018 11:36:18 A6P6</td>\n",
              "      <td>1000000000085007</td>\n",
              "      <td>Y</td>\n",
              "      <td>1000000000087207</td>\n",
              "      <td>1</td>\n",
              "    </tr>\n",
              "    <tr>\n",
              "      <th>20294</th>\n",
              "      <td>K0400000379787</td>\n",
              "      <td>7 Year(s)</td>\n",
              "      <td>Female</td>\n",
              "      <td>Mansehra</td>\n",
              "      <td>Mansehra</td>\n",
              "      <td>5/24/2017 12:38:28 A5P5</td>\n",
              "      <td>1000000000087207</td>\n",
              "      <td>Y</td>\n",
              "      <td>1000000000087207</td>\n",
              "      <td>1</td>\n",
              "    </tr>\n",
              "    <tr>\n",
              "      <th>1407</th>\n",
              "      <td>K0400001410481</td>\n",
              "      <td>82 Year(s)</td>\n",
              "      <td>Male</td>\n",
              "      <td>Batgram</td>\n",
              "      <td>Batagram</td>\n",
              "      <td>8/29/2018 13:40:28 A8P8</td>\n",
              "      <td>1000000000087207</td>\n",
              "      <td>Y</td>\n",
              "      <td>1000000000087207</td>\n",
              "      <td>1</td>\n",
              "    </tr>\n",
              "  </tbody>\n",
              "</table>\n",
              "<p>45512 rows × 10 columns</p>\n",
              "</div>"
            ],
            "text/plain": [
              "                 MRNO         AGE  ...          CPT_ID.1 RESULT_TEXT\n",
              "0      K0460000001363  34 Year(s)  ...  1000000000087207           0\n",
              "1      K0460000001680  43 Year(s)  ...  1000000000087207           0\n",
              "2      K0460000001680  43 Year(s)  ...  1000000000087207           0\n",
              "3      K0460000000106  28 Year(s)  ...  1000000000087207           0\n",
              "4      K0460000000150  42 Year(s)  ...  1000000000087207           0\n",
              "...               ...         ...  ...               ...         ...\n",
              "13513  K0400001814307   8 Year(s)  ...  1000000000087207           1\n",
              "8974   K0400000398320  16 Year(s)  ...  1000000000087207           1\n",
              "18480  K0400001298329  25 Year(s)  ...  1000000000087207           1\n",
              "20294  K0400000379787   7 Year(s)  ...  1000000000087207           1\n",
              "1407   K0400001410481  82 Year(s)  ...  1000000000087207           1\n",
              "\n",
              "[45512 rows x 10 columns]"
            ]
          },
          "metadata": {
            "tags": []
          },
          "execution_count": 19
        }
      ]
    },
    {
      "cell_type": "code",
      "metadata": {
        "id": "FkBx6ghcb0vy",
        "colab": {
          "base_uri": "https://localhost:8080/",
          "height": 609
        },
        "outputId": "86fee81b-1db6-4708-8bbf-b8f382eb2235"
      },
      "source": [
        "oversampled"
      ],
      "execution_count": null,
      "outputs": [
        {
          "output_type": "execute_result",
          "data": {
            "text/html": [
              "<div>\n",
              "<style scoped>\n",
              "    .dataframe tbody tr th:only-of-type {\n",
              "        vertical-align: middle;\n",
              "    }\n",
              "\n",
              "    .dataframe tbody tr th {\n",
              "        vertical-align: top;\n",
              "    }\n",
              "\n",
              "    .dataframe thead th {\n",
              "        text-align: right;\n",
              "    }\n",
              "</style>\n",
              "<table border=\"1\" class=\"dataframe\">\n",
              "  <thead>\n",
              "    <tr style=\"text-align: right;\">\n",
              "      <th></th>\n",
              "      <th>MRNO</th>\n",
              "      <th>AGE</th>\n",
              "      <th>GENDER</th>\n",
              "      <th>DISTRICT</th>\n",
              "      <th>TEHSIL</th>\n",
              "      <th>REPORT_VERIFIED</th>\n",
              "      <th>CPT_ID</th>\n",
              "      <th>RESULT_VALUE</th>\n",
              "      <th>CPT_ID.1</th>\n",
              "      <th>RESULT_TEXT</th>\n",
              "    </tr>\n",
              "  </thead>\n",
              "  <tbody>\n",
              "    <tr>\n",
              "      <th>0</th>\n",
              "      <td>K0460000001363</td>\n",
              "      <td>34 Year(s)</td>\n",
              "      <td>Male</td>\n",
              "      <td>Abbottabad</td>\n",
              "      <td>havelia</td>\n",
              "      <td>11/12/2020 10:46:53 A11P11</td>\n",
              "      <td>1000000000085007</td>\n",
              "      <td>Y</td>\n",
              "      <td>1000000000087207</td>\n",
              "      <td>0</td>\n",
              "    </tr>\n",
              "    <tr>\n",
              "      <th>1</th>\n",
              "      <td>K0460000001680</td>\n",
              "      <td>43 Year(s)</td>\n",
              "      <td>Male</td>\n",
              "      <td>Abbottabad</td>\n",
              "      <td>Abbottabad</td>\n",
              "      <td>9/29/2018 9:26:21 A9P9</td>\n",
              "      <td>1000000000087207</td>\n",
              "      <td>Y</td>\n",
              "      <td>1000000000087207</td>\n",
              "      <td>0</td>\n",
              "    </tr>\n",
              "    <tr>\n",
              "      <th>2</th>\n",
              "      <td>K0460000001680</td>\n",
              "      <td>43 Year(s)</td>\n",
              "      <td>Male</td>\n",
              "      <td>Abbottabad</td>\n",
              "      <td>Abbottabad</td>\n",
              "      <td>9/29/2018 9:26:07 A9P9</td>\n",
              "      <td>1000000000085007</td>\n",
              "      <td>Y</td>\n",
              "      <td>1000000000087207</td>\n",
              "      <td>0</td>\n",
              "    </tr>\n",
              "    <tr>\n",
              "      <th>3</th>\n",
              "      <td>K0460000000106</td>\n",
              "      <td>28 Year(s)</td>\n",
              "      <td>Male</td>\n",
              "      <td>Abbottabad</td>\n",
              "      <td>Abbottabad</td>\n",
              "      <td>5/4/2017 9:48:37 A5P5</td>\n",
              "      <td>1000000000085007</td>\n",
              "      <td>Y</td>\n",
              "      <td>1000000000087207</td>\n",
              "      <td>0</td>\n",
              "    </tr>\n",
              "    <tr>\n",
              "      <th>4</th>\n",
              "      <td>K0460000000150</td>\n",
              "      <td>42 Year(s)</td>\n",
              "      <td>Male</td>\n",
              "      <td>Abbottabad</td>\n",
              "      <td>Abbottabad</td>\n",
              "      <td>6/3/2017 11:59:38 A6P6</td>\n",
              "      <td>1000000000085007</td>\n",
              "      <td>Y</td>\n",
              "      <td>1000000000087207</td>\n",
              "      <td>0</td>\n",
              "    </tr>\n",
              "    <tr>\n",
              "      <th>...</th>\n",
              "      <td>...</td>\n",
              "      <td>...</td>\n",
              "      <td>...</td>\n",
              "      <td>...</td>\n",
              "      <td>...</td>\n",
              "      <td>...</td>\n",
              "      <td>...</td>\n",
              "      <td>...</td>\n",
              "      <td>...</td>\n",
              "      <td>...</td>\n",
              "    </tr>\n",
              "    <tr>\n",
              "      <th>13513</th>\n",
              "      <td>K0400001814307</td>\n",
              "      <td>8 Year(s)</td>\n",
              "      <td>Male</td>\n",
              "      <td>Abbottabad</td>\n",
              "      <td>Abbottabad</td>\n",
              "      <td>4/11/2019 12:58:07 A4P4</td>\n",
              "      <td>1000000000085651</td>\n",
              "      <td>Y</td>\n",
              "      <td>1000000000087207</td>\n",
              "      <td>1</td>\n",
              "    </tr>\n",
              "    <tr>\n",
              "      <th>8974</th>\n",
              "      <td>K0400000398320</td>\n",
              "      <td>16 Year(s)</td>\n",
              "      <td>Male</td>\n",
              "      <td>Abbottabad</td>\n",
              "      <td>Abbottabad</td>\n",
              "      <td>5/29/2017 10:51:45 A5P5</td>\n",
              "      <td>1000000000087207</td>\n",
              "      <td>Y</td>\n",
              "      <td>1000000000087207</td>\n",
              "      <td>1</td>\n",
              "    </tr>\n",
              "    <tr>\n",
              "      <th>18480</th>\n",
              "      <td>K0400001298329</td>\n",
              "      <td>25 Year(s)</td>\n",
              "      <td>Male</td>\n",
              "      <td>Abbottabad</td>\n",
              "      <td>Abbottabad</td>\n",
              "      <td>6/27/2018 11:36:18 A6P6</td>\n",
              "      <td>1000000000085007</td>\n",
              "      <td>Y</td>\n",
              "      <td>1000000000087207</td>\n",
              "      <td>1</td>\n",
              "    </tr>\n",
              "    <tr>\n",
              "      <th>20294</th>\n",
              "      <td>K0400000379787</td>\n",
              "      <td>7 Year(s)</td>\n",
              "      <td>Female</td>\n",
              "      <td>Mansehra</td>\n",
              "      <td>Mansehra</td>\n",
              "      <td>5/24/2017 12:38:28 A5P5</td>\n",
              "      <td>1000000000087207</td>\n",
              "      <td>Y</td>\n",
              "      <td>1000000000087207</td>\n",
              "      <td>1</td>\n",
              "    </tr>\n",
              "    <tr>\n",
              "      <th>1407</th>\n",
              "      <td>K0400001410481</td>\n",
              "      <td>82 Year(s)</td>\n",
              "      <td>Male</td>\n",
              "      <td>Batgram</td>\n",
              "      <td>Batagram</td>\n",
              "      <td>8/29/2018 13:40:28 A8P8</td>\n",
              "      <td>1000000000087207</td>\n",
              "      <td>Y</td>\n",
              "      <td>1000000000087207</td>\n",
              "      <td>1</td>\n",
              "    </tr>\n",
              "  </tbody>\n",
              "</table>\n",
              "<p>45512 rows × 10 columns</p>\n",
              "</div>"
            ],
            "text/plain": [
              "                 MRNO         AGE  ...          CPT_ID.1 RESULT_TEXT\n",
              "0      K0460000001363  34 Year(s)  ...  1000000000087207           0\n",
              "1      K0460000001680  43 Year(s)  ...  1000000000087207           0\n",
              "2      K0460000001680  43 Year(s)  ...  1000000000087207           0\n",
              "3      K0460000000106  28 Year(s)  ...  1000000000087207           0\n",
              "4      K0460000000150  42 Year(s)  ...  1000000000087207           0\n",
              "...               ...         ...  ...               ...         ...\n",
              "13513  K0400001814307   8 Year(s)  ...  1000000000087207           1\n",
              "8974   K0400000398320  16 Year(s)  ...  1000000000087207           1\n",
              "18480  K0400001298329  25 Year(s)  ...  1000000000087207           1\n",
              "20294  K0400000379787   7 Year(s)  ...  1000000000087207           1\n",
              "1407   K0400001410481  82 Year(s)  ...  1000000000087207           1\n",
              "\n",
              "[45512 rows x 10 columns]"
            ]
          },
          "metadata": {
            "tags": []
          },
          "execution_count": 20
        }
      ]
    },
    {
      "cell_type": "code",
      "metadata": {
        "id": "duH6b29GYEhp"
      },
      "source": [
        "# Convert categorical features to continuous features with Label Encoding\n",
        "from sklearn.preprocessing import LabelEncoder\n",
        "lencoders = {}\n",
        "for col in oversampled.select_dtypes(include=['object']).columns:\n",
        "    lencoders[col] = LabelEncoder()\n",
        "    oversampled[col] = lencoders[col].fit_transform(oversampled[col])"
      ],
      "execution_count": null,
      "outputs": []
    },
    {
      "cell_type": "code",
      "metadata": {
        "id": "Ac3po-lD9Cfb",
        "colab": {
          "base_uri": "https://localhost:8080/",
          "height": 439
        },
        "outputId": "9294687f-9d87-4f06-965f-492e45315a67"
      },
      "source": [
        "oversampled"
      ],
      "execution_count": null,
      "outputs": [
        {
          "output_type": "execute_result",
          "data": {
            "text/html": [
              "<div>\n",
              "<style scoped>\n",
              "    .dataframe tbody tr th:only-of-type {\n",
              "        vertical-align: middle;\n",
              "    }\n",
              "\n",
              "    .dataframe tbody tr th {\n",
              "        vertical-align: top;\n",
              "    }\n",
              "\n",
              "    .dataframe thead th {\n",
              "        text-align: right;\n",
              "    }\n",
              "</style>\n",
              "<table border=\"1\" class=\"dataframe\">\n",
              "  <thead>\n",
              "    <tr style=\"text-align: right;\">\n",
              "      <th></th>\n",
              "      <th>MRNO</th>\n",
              "      <th>AGE</th>\n",
              "      <th>GENDER</th>\n",
              "      <th>DISTRICT</th>\n",
              "      <th>TEHSIL</th>\n",
              "      <th>REPORT_VERIFIED</th>\n",
              "      <th>CPT_ID</th>\n",
              "      <th>RESULT_VALUE</th>\n",
              "      <th>CPT_ID.1</th>\n",
              "      <th>RESULT_TEXT</th>\n",
              "    </tr>\n",
              "  </thead>\n",
              "  <tbody>\n",
              "    <tr>\n",
              "      <th>0</th>\n",
              "      <td>10368</td>\n",
              "      <td>30</td>\n",
              "      <td>1</td>\n",
              "      <td>0</td>\n",
              "      <td>54</td>\n",
              "      <td>3947</td>\n",
              "      <td>1000000000085007</td>\n",
              "      <td>1</td>\n",
              "      <td>1000000000087207</td>\n",
              "      <td>0</td>\n",
              "    </tr>\n",
              "    <tr>\n",
              "      <th>1</th>\n",
              "      <td>10373</td>\n",
              "      <td>41</td>\n",
              "      <td>1</td>\n",
              "      <td>0</td>\n",
              "      <td>1</td>\n",
              "      <td>21463</td>\n",
              "      <td>1000000000087207</td>\n",
              "      <td>1</td>\n",
              "      <td>1000000000087207</td>\n",
              "      <td>0</td>\n",
              "    </tr>\n",
              "    <tr>\n",
              "      <th>2</th>\n",
              "      <td>10373</td>\n",
              "      <td>41</td>\n",
              "      <td>1</td>\n",
              "      <td>0</td>\n",
              "      <td>1</td>\n",
              "      <td>21462</td>\n",
              "      <td>1000000000085007</td>\n",
              "      <td>1</td>\n",
              "      <td>1000000000087207</td>\n",
              "      <td>0</td>\n",
              "    </tr>\n",
              "    <tr>\n",
              "      <th>3</th>\n",
              "      <td>10312</td>\n",
              "      <td>23</td>\n",
              "      <td>1</td>\n",
              "      <td>0</td>\n",
              "      <td>1</td>\n",
              "      <td>10809</td>\n",
              "      <td>1000000000085007</td>\n",
              "      <td>1</td>\n",
              "      <td>1000000000087207</td>\n",
              "      <td>0</td>\n",
              "    </tr>\n",
              "    <tr>\n",
              "      <th>4</th>\n",
              "      <td>10313</td>\n",
              "      <td>40</td>\n",
              "      <td>1</td>\n",
              "      <td>0</td>\n",
              "      <td>1</td>\n",
              "      <td>12521</td>\n",
              "      <td>1000000000085007</td>\n",
              "      <td>1</td>\n",
              "      <td>1000000000087207</td>\n",
              "      <td>0</td>\n",
              "    </tr>\n",
              "    <tr>\n",
              "      <th>...</th>\n",
              "      <td>...</td>\n",
              "      <td>...</td>\n",
              "      <td>...</td>\n",
              "      <td>...</td>\n",
              "      <td>...</td>\n",
              "      <td>...</td>\n",
              "      <td>...</td>\n",
              "      <td>...</td>\n",
              "      <td>...</td>\n",
              "      <td>...</td>\n",
              "    </tr>\n",
              "    <tr>\n",
              "      <th>13513</th>\n",
              "      <td>7286</td>\n",
              "      <td>84</td>\n",
              "      <td>1</td>\n",
              "      <td>0</td>\n",
              "      <td>1</td>\n",
              "      <td>8439</td>\n",
              "      <td>1000000000085651</td>\n",
              "      <td>1</td>\n",
              "      <td>1000000000087207</td>\n",
              "      <td>1</td>\n",
              "    </tr>\n",
              "    <tr>\n",
              "      <th>8974</th>\n",
              "      <td>744</td>\n",
              "      <td>9</td>\n",
              "      <td>1</td>\n",
              "      <td>0</td>\n",
              "      <td>1</td>\n",
              "      <td>10606</td>\n",
              "      <td>1000000000087207</td>\n",
              "      <td>1</td>\n",
              "      <td>1000000000087207</td>\n",
              "      <td>1</td>\n",
              "    </tr>\n",
              "    <tr>\n",
              "      <th>18480</th>\n",
              "      <td>4737</td>\n",
              "      <td>20</td>\n",
              "      <td>1</td>\n",
              "      <td>0</td>\n",
              "      <td>1</td>\n",
              "      <td>12356</td>\n",
              "      <td>1000000000085007</td>\n",
              "      <td>1</td>\n",
              "      <td>1000000000087207</td>\n",
              "      <td>1</td>\n",
              "    </tr>\n",
              "    <tr>\n",
              "      <th>20294</th>\n",
              "      <td>697</td>\n",
              "      <td>72</td>\n",
              "      <td>0</td>\n",
              "      <td>21</td>\n",
              "      <td>36</td>\n",
              "      <td>10352</td>\n",
              "      <td>1000000000087207</td>\n",
              "      <td>1</td>\n",
              "      <td>1000000000087207</td>\n",
              "      <td>1</td>\n",
              "    </tr>\n",
              "    <tr>\n",
              "      <th>1407</th>\n",
              "      <td>5295</td>\n",
              "      <td>87</td>\n",
              "      <td>1</td>\n",
              "      <td>3</td>\n",
              "      <td>8</td>\n",
              "      <td>17106</td>\n",
              "      <td>1000000000087207</td>\n",
              "      <td>1</td>\n",
              "      <td>1000000000087207</td>\n",
              "      <td>1</td>\n",
              "    </tr>\n",
              "  </tbody>\n",
              "</table>\n",
              "<p>45512 rows × 10 columns</p>\n",
              "</div>"
            ],
            "text/plain": [
              "        MRNO  AGE  GENDER  ...  RESULT_VALUE          CPT_ID.1  RESULT_TEXT\n",
              "0      10368   30       1  ...             1  1000000000087207            0\n",
              "1      10373   41       1  ...             1  1000000000087207            0\n",
              "2      10373   41       1  ...             1  1000000000087207            0\n",
              "3      10312   23       1  ...             1  1000000000087207            0\n",
              "4      10313   40       1  ...             1  1000000000087207            0\n",
              "...      ...  ...     ...  ...           ...               ...          ...\n",
              "13513   7286   84       1  ...             1  1000000000087207            1\n",
              "8974     744    9       1  ...             1  1000000000087207            1\n",
              "18480   4737   20       1  ...             1  1000000000087207            1\n",
              "20294    697   72       0  ...             1  1000000000087207            1\n",
              "1407    5295   87       1  ...             1  1000000000087207            1\n",
              "\n",
              "[45512 rows x 10 columns]"
            ]
          },
          "metadata": {
            "tags": []
          },
          "execution_count": 22
        }
      ]
    },
    {
      "cell_type": "code",
      "metadata": {
        "id": "dKYnVakgcCXU"
      },
      "source": [
        "import warnings\n",
        "warnings.filterwarnings(\"ignore\")\n",
        "# Multiple Imputation by Chained Equations\n",
        "from sklearn.experimental import enable_iterative_imputer\n",
        "from sklearn.impute import IterativeImputer\n",
        "MiceImputed = oversampled.copy(deep=True) \n",
        "mice_imputer = IterativeImputer()\n",
        "MiceImputed.iloc[:, :] = mice_imputer.fit_transform(oversampled)"
      ],
      "execution_count": null,
      "outputs": []
    },
    {
      "cell_type": "markdown",
      "metadata": {
        "id": "Gr6yg3aN9fe0"
      },
      "source": [
        "##**3.8 Outlier detection**"
      ]
    },
    {
      "cell_type": "code",
      "metadata": {
        "id": "k0IrnyVJcEti",
        "colab": {
          "base_uri": "https://localhost:8080/"
        },
        "outputId": "b89676fc-7dbf-46c2-821a-0947b848dd79"
      },
      "source": [
        "# Detecting outliers with IQR\n",
        "Q1 = MiceImputed.quantile(0.25)\n",
        "Q3 = MiceImputed.quantile(0.75)\n",
        "IQR = Q3 - Q1\n",
        "print(IQR)"
      ],
      "execution_count": null,
      "outputs": [
        {
          "output_type": "stream",
          "text": [
            "MRNO               6094.25\n",
            "AGE                  28.00\n",
            "GENDER                1.00\n",
            "DISTRICT              3.00\n",
            "TEHSIL                7.00\n",
            "REPORT_VERIFIED    9501.50\n",
            "CPT_ID             2200.00\n",
            "RESULT_VALUE          0.00\n",
            "CPT_ID.1              0.00\n",
            "RESULT_TEXT           1.00\n",
            "dtype: float64\n"
          ],
          "name": "stdout"
        }
      ]
    },
    {
      "cell_type": "code",
      "metadata": {
        "id": "f3oZmtYZcM-s",
        "colab": {
          "base_uri": "https://localhost:8080/"
        },
        "outputId": "116fbf98-015e-4c6b-d7a4-7f119db63b90"
      },
      "source": [
        "# Removing outliers from the dataset\n",
        "MiceImputed = MiceImputed[~((MiceImputed < (Q1 - 1.5 * IQR)) |(MiceImputed > (Q3 + 1.5 * IQR))).any(axis=1)]\n",
        "MiceImputed.shape"
      ],
      "execution_count": null,
      "outputs": [
        {
          "output_type": "execute_result",
          "data": {
            "text/plain": [
              "(34554, 10)"
            ]
          },
          "metadata": {
            "tags": []
          },
          "execution_count": 25
        }
      ]
    },
    {
      "cell_type": "code",
      "metadata": {
        "id": "rgXdi5AzcS_N",
        "colab": {
          "base_uri": "https://localhost:8080/",
          "height": 419
        },
        "outputId": "cc5d53d7-1dfa-4217-90a3-9abac4f4c3f3"
      },
      "source": [
        "MiceImputed"
      ],
      "execution_count": null,
      "outputs": [
        {
          "output_type": "execute_result",
          "data": {
            "text/html": [
              "<div>\n",
              "<style scoped>\n",
              "    .dataframe tbody tr th:only-of-type {\n",
              "        vertical-align: middle;\n",
              "    }\n",
              "\n",
              "    .dataframe tbody tr th {\n",
              "        vertical-align: top;\n",
              "    }\n",
              "\n",
              "    .dataframe thead th {\n",
              "        text-align: right;\n",
              "    }\n",
              "</style>\n",
              "<table border=\"1\" class=\"dataframe\">\n",
              "  <thead>\n",
              "    <tr style=\"text-align: right;\">\n",
              "      <th></th>\n",
              "      <th>MRNO</th>\n",
              "      <th>AGE</th>\n",
              "      <th>GENDER</th>\n",
              "      <th>DISTRICT</th>\n",
              "      <th>TEHSIL</th>\n",
              "      <th>REPORT_VERIFIED</th>\n",
              "      <th>CPT_ID</th>\n",
              "      <th>RESULT_VALUE</th>\n",
              "      <th>CPT_ID.1</th>\n",
              "      <th>RESULT_TEXT</th>\n",
              "    </tr>\n",
              "  </thead>\n",
              "  <tbody>\n",
              "    <tr>\n",
              "      <th>1</th>\n",
              "      <td>10373.0</td>\n",
              "      <td>41.0</td>\n",
              "      <td>1.0</td>\n",
              "      <td>0.0</td>\n",
              "      <td>1.0</td>\n",
              "      <td>21463.0</td>\n",
              "      <td>1.000000e+15</td>\n",
              "      <td>1.0</td>\n",
              "      <td>1.000000e+15</td>\n",
              "      <td>0.0</td>\n",
              "    </tr>\n",
              "    <tr>\n",
              "      <th>2</th>\n",
              "      <td>10373.0</td>\n",
              "      <td>41.0</td>\n",
              "      <td>1.0</td>\n",
              "      <td>0.0</td>\n",
              "      <td>1.0</td>\n",
              "      <td>21462.0</td>\n",
              "      <td>1.000000e+15</td>\n",
              "      <td>1.0</td>\n",
              "      <td>1.000000e+15</td>\n",
              "      <td>0.0</td>\n",
              "    </tr>\n",
              "    <tr>\n",
              "      <th>3</th>\n",
              "      <td>10312.0</td>\n",
              "      <td>23.0</td>\n",
              "      <td>1.0</td>\n",
              "      <td>0.0</td>\n",
              "      <td>1.0</td>\n",
              "      <td>10809.0</td>\n",
              "      <td>1.000000e+15</td>\n",
              "      <td>1.0</td>\n",
              "      <td>1.000000e+15</td>\n",
              "      <td>0.0</td>\n",
              "    </tr>\n",
              "    <tr>\n",
              "      <th>4</th>\n",
              "      <td>10313.0</td>\n",
              "      <td>40.0</td>\n",
              "      <td>1.0</td>\n",
              "      <td>0.0</td>\n",
              "      <td>1.0</td>\n",
              "      <td>12521.0</td>\n",
              "      <td>1.000000e+15</td>\n",
              "      <td>1.0</td>\n",
              "      <td>1.000000e+15</td>\n",
              "      <td>0.0</td>\n",
              "    </tr>\n",
              "    <tr>\n",
              "      <th>5</th>\n",
              "      <td>10315.0</td>\n",
              "      <td>26.0</td>\n",
              "      <td>0.0</td>\n",
              "      <td>0.0</td>\n",
              "      <td>1.0</td>\n",
              "      <td>2063.0</td>\n",
              "      <td>1.000000e+15</td>\n",
              "      <td>1.0</td>\n",
              "      <td>1.000000e+15</td>\n",
              "      <td>0.0</td>\n",
              "    </tr>\n",
              "    <tr>\n",
              "      <th>...</th>\n",
              "      <td>...</td>\n",
              "      <td>...</td>\n",
              "      <td>...</td>\n",
              "      <td>...</td>\n",
              "      <td>...</td>\n",
              "      <td>...</td>\n",
              "      <td>...</td>\n",
              "      <td>...</td>\n",
              "      <td>...</td>\n",
              "      <td>...</td>\n",
              "    </tr>\n",
              "    <tr>\n",
              "      <th>12343</th>\n",
              "      <td>3001.0</td>\n",
              "      <td>65.0</td>\n",
              "      <td>0.0</td>\n",
              "      <td>0.0</td>\n",
              "      <td>1.0</td>\n",
              "      <td>3669.0</td>\n",
              "      <td>1.000000e+15</td>\n",
              "      <td>1.0</td>\n",
              "      <td>1.000000e+15</td>\n",
              "      <td>1.0</td>\n",
              "    </tr>\n",
              "    <tr>\n",
              "      <th>15056</th>\n",
              "      <td>2531.0</td>\n",
              "      <td>29.0</td>\n",
              "      <td>0.0</td>\n",
              "      <td>0.0</td>\n",
              "      <td>1.0</td>\n",
              "      <td>19534.0</td>\n",
              "      <td>1.000000e+15</td>\n",
              "      <td>1.0</td>\n",
              "      <td>1.000000e+15</td>\n",
              "      <td>1.0</td>\n",
              "    </tr>\n",
              "    <tr>\n",
              "      <th>13513</th>\n",
              "      <td>7286.0</td>\n",
              "      <td>84.0</td>\n",
              "      <td>1.0</td>\n",
              "      <td>0.0</td>\n",
              "      <td>1.0</td>\n",
              "      <td>8439.0</td>\n",
              "      <td>1.000000e+15</td>\n",
              "      <td>1.0</td>\n",
              "      <td>1.000000e+15</td>\n",
              "      <td>1.0</td>\n",
              "    </tr>\n",
              "    <tr>\n",
              "      <th>8974</th>\n",
              "      <td>744.0</td>\n",
              "      <td>9.0</td>\n",
              "      <td>1.0</td>\n",
              "      <td>0.0</td>\n",
              "      <td>1.0</td>\n",
              "      <td>10606.0</td>\n",
              "      <td>1.000000e+15</td>\n",
              "      <td>1.0</td>\n",
              "      <td>1.000000e+15</td>\n",
              "      <td>1.0</td>\n",
              "    </tr>\n",
              "    <tr>\n",
              "      <th>18480</th>\n",
              "      <td>4737.0</td>\n",
              "      <td>20.0</td>\n",
              "      <td>1.0</td>\n",
              "      <td>0.0</td>\n",
              "      <td>1.0</td>\n",
              "      <td>12356.0</td>\n",
              "      <td>1.000000e+15</td>\n",
              "      <td>1.0</td>\n",
              "      <td>1.000000e+15</td>\n",
              "      <td>1.0</td>\n",
              "    </tr>\n",
              "  </tbody>\n",
              "</table>\n",
              "<p>34554 rows × 10 columns</p>\n",
              "</div>"
            ],
            "text/plain": [
              "          MRNO   AGE  GENDER  ...  RESULT_VALUE      CPT_ID.1  RESULT_TEXT\n",
              "1      10373.0  41.0     1.0  ...           1.0  1.000000e+15          0.0\n",
              "2      10373.0  41.0     1.0  ...           1.0  1.000000e+15          0.0\n",
              "3      10312.0  23.0     1.0  ...           1.0  1.000000e+15          0.0\n",
              "4      10313.0  40.0     1.0  ...           1.0  1.000000e+15          0.0\n",
              "5      10315.0  26.0     0.0  ...           1.0  1.000000e+15          0.0\n",
              "...        ...   ...     ...  ...           ...           ...          ...\n",
              "12343   3001.0  65.0     0.0  ...           1.0  1.000000e+15          1.0\n",
              "15056   2531.0  29.0     0.0  ...           1.0  1.000000e+15          1.0\n",
              "13513   7286.0  84.0     1.0  ...           1.0  1.000000e+15          1.0\n",
              "8974     744.0   9.0     1.0  ...           1.0  1.000000e+15          1.0\n",
              "18480   4737.0  20.0     1.0  ...           1.0  1.000000e+15          1.0\n",
              "\n",
              "[34554 rows x 10 columns]"
            ]
          },
          "metadata": {
            "tags": []
          },
          "execution_count": 26
        }
      ]
    },
    {
      "cell_type": "markdown",
      "metadata": {
        "id": "NPtnA191_xjP"
      },
      "source": [
        "##**3.9 Corelation Detection**"
      ]
    },
    {
      "cell_type": "code",
      "metadata": {
        "id": "hEKJ9nOkcgLa",
        "colab": {
          "base_uri": "https://localhost:8080/",
          "height": 861
        },
        "outputId": "c4e677ef-20ac-43cb-e1a8-3832893c9a61"
      },
      "source": [
        "# Correlation Heatmap\n",
        "import numpy as np\n",
        "import matplotlib.pyplot as plt\n",
        "import seaborn as sns\n",
        "corr = MiceImputed.corr()\n",
        "mask = np.triu(np.ones_like(corr, dtype=np.bool))\n",
        "f, ax = plt.subplots(figsize=(20, 20))\n",
        "cmap = sns.diverging_palette(250, 25, as_cmap=True)\n",
        "sns.heatmap(corr, mask=mask, cmap=cmap, vmax=None, center=0,square=True, annot=True, linewidths=.5, cbar_kws={\"shrink\": .9})"
      ],
      "execution_count": null,
      "outputs": [
        {
          "output_type": "execute_result",
          "data": {
            "text/plain": [
              "<matplotlib.axes._subplots.AxesSubplot at 0x7fe64e02f590>"
            ]
          },
          "metadata": {
            "tags": []
          },
          "execution_count": 27
        },
        {
          "output_type": "display_data",
          "data": {
            "image/png": "[encoded data removed]",
            "text/plain": [
              "<Figure size 1440x1440 with 2 Axes>"
            ]
          },
          "metadata": {
            "tags": [],
            "needs_background": "light"
          }
        }
      ]
    },
    {
      "cell_type": "markdown",
      "metadata": {
        "id": "OI2iMGX6AoVT"
      },
      "source": [
        "##**3.10 Feature Scaling**"
      ]
    },
    {
      "cell_type": "code",
      "metadata": {
        "id": "XTqsjzHYc4W-"
      },
      "source": [
        "# Standardizing data\n",
        "from sklearn import preprocessing\n",
        "r_scaler = preprocessing.MinMaxScaler()\n",
        "r_scaler.fit(MiceImputed)\n",
        "modified_data = pd.DataFrame(r_scaler.transform(MiceImputed), index=MiceImputed.index, columns=MiceImputed.columns)"
      ],
      "execution_count": null,
      "outputs": []
    },
    {
      "cell_type": "code",
      "metadata": {
        "id": "nLGB3COlA7Mt",
        "colab": {
          "base_uri": "https://localhost:8080/",
          "height": 419
        },
        "outputId": "c28a1755-74ca-42b5-d33a-3d8231e9b7bf"
      },
      "source": [
        "modified_data"
      ],
      "execution_count": null,
      "outputs": [
        {
          "output_type": "execute_result",
          "data": {
            "text/html": [
              "<div>\n",
              "<style scoped>\n",
              "    .dataframe tbody tr th:only-of-type {\n",
              "        vertical-align: middle;\n",
              "    }\n",
              "\n",
              "    .dataframe tbody tr th {\n",
              "        vertical-align: top;\n",
              "    }\n",
              "\n",
              "    .dataframe thead th {\n",
              "        text-align: right;\n",
              "    }\n",
              "</style>\n",
              "<table border=\"1\" class=\"dataframe\">\n",
              "  <thead>\n",
              "    <tr style=\"text-align: right;\">\n",
              "      <th></th>\n",
              "      <th>MRNO</th>\n",
              "      <th>AGE</th>\n",
              "      <th>GENDER</th>\n",
              "      <th>DISTRICT</th>\n",
              "      <th>TEHSIL</th>\n",
              "      <th>REPORT_VERIFIED</th>\n",
              "      <th>CPT_ID</th>\n",
              "      <th>RESULT_VALUE</th>\n",
              "      <th>CPT_ID.1</th>\n",
              "      <th>RESULT_TEXT</th>\n",
              "    </tr>\n",
              "  </thead>\n",
              "  <tbody>\n",
              "    <tr>\n",
              "      <th>1</th>\n",
              "      <td>0.893454</td>\n",
              "      <td>0.482353</td>\n",
              "      <td>0.5</td>\n",
              "      <td>0.0</td>\n",
              "      <td>0.0</td>\n",
              "      <td>0.947134</td>\n",
              "      <td>1.000000</td>\n",
              "      <td>0.0</td>\n",
              "      <td>0.0</td>\n",
              "      <td>0.0</td>\n",
              "    </tr>\n",
              "    <tr>\n",
              "      <th>2</th>\n",
              "      <td>0.893454</td>\n",
              "      <td>0.482353</td>\n",
              "      <td>0.5</td>\n",
              "      <td>0.0</td>\n",
              "      <td>0.0</td>\n",
              "      <td>0.947090</td>\n",
              "      <td>0.481995</td>\n",
              "      <td>0.0</td>\n",
              "      <td>0.0</td>\n",
              "      <td>0.0</td>\n",
              "    </tr>\n",
              "    <tr>\n",
              "      <th>3</th>\n",
              "      <td>0.888200</td>\n",
              "      <td>0.270588</td>\n",
              "      <td>0.5</td>\n",
              "      <td>0.0</td>\n",
              "      <td>0.0</td>\n",
              "      <td>0.476987</td>\n",
              "      <td>0.481995</td>\n",
              "      <td>0.0</td>\n",
              "      <td>0.0</td>\n",
              "      <td>0.0</td>\n",
              "    </tr>\n",
              "    <tr>\n",
              "      <th>4</th>\n",
              "      <td>0.888286</td>\n",
              "      <td>0.470588</td>\n",
              "      <td>0.5</td>\n",
              "      <td>0.0</td>\n",
              "      <td>0.0</td>\n",
              "      <td>0.552535</td>\n",
              "      <td>0.481995</td>\n",
              "      <td>0.0</td>\n",
              "      <td>0.0</td>\n",
              "      <td>0.0</td>\n",
              "    </tr>\n",
              "    <tr>\n",
              "      <th>5</th>\n",
              "      <td>0.888458</td>\n",
              "      <td>0.305882</td>\n",
              "      <td>0.0</td>\n",
              "      <td>0.0</td>\n",
              "      <td>0.0</td>\n",
              "      <td>0.091037</td>\n",
              "      <td>0.481995</td>\n",
              "      <td>0.0</td>\n",
              "      <td>0.0</td>\n",
              "      <td>0.0</td>\n",
              "    </tr>\n",
              "    <tr>\n",
              "      <th>...</th>\n",
              "      <td>...</td>\n",
              "      <td>...</td>\n",
              "      <td>...</td>\n",
              "      <td>...</td>\n",
              "      <td>...</td>\n",
              "      <td>...</td>\n",
              "      <td>...</td>\n",
              "      <td>...</td>\n",
              "      <td>...</td>\n",
              "      <td>...</td>\n",
              "    </tr>\n",
              "    <tr>\n",
              "      <th>12343</th>\n",
              "      <td>0.258484</td>\n",
              "      <td>0.764706</td>\n",
              "      <td>0.0</td>\n",
              "      <td>0.0</td>\n",
              "      <td>0.0</td>\n",
              "      <td>0.161908</td>\n",
              "      <td>0.481995</td>\n",
              "      <td>0.0</td>\n",
              "      <td>0.0</td>\n",
              "      <td>1.0</td>\n",
              "    </tr>\n",
              "    <tr>\n",
              "      <th>15056</th>\n",
              "      <td>0.218002</td>\n",
              "      <td>0.341176</td>\n",
              "      <td>0.0</td>\n",
              "      <td>0.0</td>\n",
              "      <td>0.0</td>\n",
              "      <td>0.862010</td>\n",
              "      <td>1.000000</td>\n",
              "      <td>0.0</td>\n",
              "      <td>0.0</td>\n",
              "      <td>1.0</td>\n",
              "    </tr>\n",
              "    <tr>\n",
              "      <th>13513</th>\n",
              "      <td>0.627562</td>\n",
              "      <td>0.988235</td>\n",
              "      <td>0.5</td>\n",
              "      <td>0.0</td>\n",
              "      <td>0.0</td>\n",
              "      <td>0.372402</td>\n",
              "      <td>0.633636</td>\n",
              "      <td>0.0</td>\n",
              "      <td>0.0</td>\n",
              "      <td>1.0</td>\n",
              "    </tr>\n",
              "    <tr>\n",
              "      <th>8974</th>\n",
              "      <td>0.064083</td>\n",
              "      <td>0.105882</td>\n",
              "      <td>0.5</td>\n",
              "      <td>0.0</td>\n",
              "      <td>0.0</td>\n",
              "      <td>0.468029</td>\n",
              "      <td>1.000000</td>\n",
              "      <td>0.0</td>\n",
              "      <td>0.0</td>\n",
              "      <td>1.0</td>\n",
              "    </tr>\n",
              "    <tr>\n",
              "      <th>18480</th>\n",
              "      <td>0.408010</td>\n",
              "      <td>0.235294</td>\n",
              "      <td>0.5</td>\n",
              "      <td>0.0</td>\n",
              "      <td>0.0</td>\n",
              "      <td>0.545254</td>\n",
              "      <td>0.481995</td>\n",
              "      <td>0.0</td>\n",
              "      <td>0.0</td>\n",
              "      <td>1.0</td>\n",
              "    </tr>\n",
              "  </tbody>\n",
              "</table>\n",
              "<p>34554 rows × 10 columns</p>\n",
              "</div>"
            ],
            "text/plain": [
              "           MRNO       AGE  GENDER  ...  RESULT_VALUE  CPT_ID.1  RESULT_TEXT\n",
              "1      0.893454  0.482353     0.5  ...           0.0       0.0          0.0\n",
              "2      0.893454  0.482353     0.5  ...           0.0       0.0          0.0\n",
              "3      0.888200  0.270588     0.5  ...           0.0       0.0          0.0\n",
              "4      0.888286  0.470588     0.5  ...           0.0       0.0          0.0\n",
              "5      0.888458  0.305882     0.0  ...           0.0       0.0          0.0\n",
              "...         ...       ...     ...  ...           ...       ...          ...\n",
              "12343  0.258484  0.764706     0.0  ...           0.0       0.0          1.0\n",
              "15056  0.218002  0.341176     0.0  ...           0.0       0.0          1.0\n",
              "13513  0.627562  0.988235     0.5  ...           0.0       0.0          1.0\n",
              "8974   0.064083  0.105882     0.5  ...           0.0       0.0          1.0\n",
              "18480  0.408010  0.235294     0.5  ...           0.0       0.0          1.0\n",
              "\n",
              "[34554 rows x 10 columns]"
            ]
          },
          "metadata": {
            "tags": []
          },
          "execution_count": 29
        }
      ]
    },
    {
      "cell_type": "markdown",
      "metadata": {
        "id": "RHmdNwU_CgFj"
      },
      "source": [
        "#**4 Data spliting**"
      ]
    },
    {
      "cell_type": "code",
      "metadata": {
        "id": "5pcJs0LfeI4Q"
      },
      "source": [
        "X=modified_data.drop('RESULT_TEXT',axis=1)"
      ],
      "execution_count": null,
      "outputs": []
    },
    {
      "cell_type": "code",
      "metadata": {
        "id": "52fY-DzqfFV1"
      },
      "source": [
        "y=modified_data[['RESULT_TEXT']]"
      ],
      "execution_count": null,
      "outputs": []
    },
    {
      "cell_type": "code",
      "metadata": {
        "id": "k1fyz1VYfhP7"
      },
      "source": [
        "# y\n",
        "X"
      ],
      "execution_count": null,
      "outputs": []
    },
    {
      "cell_type": "code",
      "metadata": {
        "id": "CXR6isVQgl8O"
      },
      "source": [
        "y"
      ],
      "execution_count": null,
      "outputs": []
    },
    {
      "cell_type": "code",
      "metadata": {
        "id": "qX6xRBwGivHV"
      },
      "source": [
        "X_train, X_test, y_train, y_test = train_test_split(X, y, test_size=0.30, random_state=100)"
      ],
      "execution_count": null,
      "outputs": []
    },
    {
      "cell_type": "markdown",
      "metadata": {
        "id": "aKQGzCOUcW5Y"
      },
      "source": [
        "# **Feature Selection**"
      ]
    },
    {
      "cell_type": "code",
      "metadata": {
        "id": "Xj-Pl3rycexA"
      },
      "source": [
        "!pip install boruta"
      ],
      "execution_count": null,
      "outputs": []
    },
    {
      "cell_type": "code",
      "metadata": {
        "id": "u1lRoF71c--p"
      },
      "source": [
        "from boruta import BorutaPy\n",
        "from sklearn.ensemble import RandomForestRegressor\n",
        "import numpy as np\n"
      ],
      "execution_count": null,
      "outputs": []
    },
    {
      "cell_type": "code",
      "metadata": {
        "id": "CMamsenle8Yk"
      },
      "source": [
        "forest = RandomForestRegressor(n_jobs=-1,max_depth=5)"
      ],
      "execution_count": null,
      "outputs": []
    },
    {
      "cell_type": "code",
      "metadata": {
        "id": "7dKNAi-bdYEU"
      },
      "source": [
        "\n",
        "boruta= BorutaPy(estimator= forest, n_estimators='auto',max_iter=100)\n",
        "boruta.fit(np.array(X),np.array(y) )\n"
      ],
      "execution_count": null,
      "outputs": []
    },
    {
      "cell_type": "code",
      "metadata": {
        "id": "Q5bMIqcDiU7p"
      },
      "source": [
        "green_area= X.columns[boruta.support_].to_list()\n",
        "blue_area= X.columns[boruta.support_weak_].to_list()"
      ],
      "execution_count": null,
      "outputs": []
    },
    {
      "cell_type": "code",
      "metadata": {
        "colab": {
          "base_uri": "https://localhost:8080/"
        },
        "id": "sTFUbttRjMzg",
        "outputId": "9c1ee199-d4e4-446f-ece4-a8851eeff6f8"
      },
      "source": [
        "print('Feature in green ara:',green_area)\n",
        "print('Feature in blue ara:',blue_area)"
      ],
      "execution_count": null,
      "outputs": [
        {
          "output_type": "stream",
          "text": [
            "Feature in green ara: ['MRNO', 'AGE', 'GENDER', 'DISTRICT', 'TEHSIL', 'REPORT_VERIFIED', 'CPT_ID']\n",
            "Feature in blue ara: []\n"
          ],
          "name": "stdout"
        }
      ]
    },
    {
      "cell_type": "markdown",
      "metadata": {
        "id": "DLp67Y5hivHV"
      },
      "source": [
        "# **5- Model Training**"
      ]
    },
    {
      "cell_type": "markdown",
      "metadata": {
        "id": "ABiBgAIWivHV"
      },
      "source": [
        "##**5.1-Decision Trees**"
      ]
    },
    {
      "cell_type": "code",
      "metadata": {
        "id": "9-6H4JqkivHV",
        "colab": {
          "base_uri": "https://localhost:8080/"
        },
        "outputId": "9a062d0a-6641-4b90-c6f8-ee15df5ade84"
      },
      "source": [
        "DTC=DecisionTreeClassifier(random_state=0, max_depth=2)\n",
        "DTC= DTC.fit(X_train , y_train)\n",
        "DTC"
      ],
      "execution_count": null,
      "outputs": [
        {
          "output_type": "execute_result",
          "data": {
            "text/plain": [
              "DecisionTreeClassifier(ccp_alpha=0.0, class_weight=None, criterion='gini',\n",
              "                       max_depth=2, max_features=None, max_leaf_nodes=None,\n",
              "                       min_impurity_decrease=0.0, min_impurity_split=None,\n",
              "                       min_samples_leaf=1, min_samples_split=2,\n",
              "                       min_weight_fraction_leaf=0.0, presort='deprecated',\n",
              "                       random_state=0, splitter='best')"
            ]
          },
          "metadata": {
            "tags": []
          },
          "execution_count": 35
        }
      ]
    },
    {
      "cell_type": "code",
      "metadata": {
        "id": "Rzz9yX-OivHW",
        "colab": {
          "base_uri": "https://localhost:8080/"
        },
        "outputId": "47f6b5a5-5f11-440d-b524-ccc4fb27861b"
      },
      "source": [
        "y_pred1 = DTC.predict(X_test)\n",
        "dt=DTC.score(X_test, y_test)\n",
        "print('Accuracy score= {:.4f}'.format(DTC.score(X_test, y_test)))"
      ],
      "execution_count": null,
      "outputs": [
        {
          "output_type": "stream",
          "text": [
            "Accuracy score= 0.6189\n"
          ],
          "name": "stdout"
        }
      ]
    },
    {
      "cell_type": "markdown",
      "metadata": {
        "id": "PEgb1l9IivHW"
      },
      "source": [
        "### **5.1.1 -Confusion Matrix**"
      ]
    },
    {
      "cell_type": "code",
      "metadata": {
        "id": "VYupk1X9ivHW",
        "colab": {
          "base_uri": "https://localhost:8080/",
          "height": 727
        },
        "outputId": "7f5b4aeb-03b6-435e-84ec-8602747621e9"
      },
      "source": [
        "print('\\n')\n",
        "print(\"confusion matrix\")\n",
        "print('\\n')\n",
        "CR=confusion_matrix(y_test, y_pred1)\n",
        "print(CR)\n",
        "print('\\n')\n",
        "\n",
        "fig, ax = plot_confusion_matrix(conf_mat=CR,figsize=(10, 10),\n",
        "                                show_absolute=True,\n",
        "                                show_normed=True,\n",
        "                                colorbar=True)\n",
        "plt.show()"
      ],
      "execution_count": null,
      "outputs": [
        {
          "output_type": "stream",
          "text": [
            "\n",
            "\n",
            "confusion matrix\n",
            "\n",
            "\n",
            "[[5826   45]\n",
            " [3906  590]]\n",
            "\n",
            "\n"
          ],
          "name": "stdout"
        },
        {
          "output_type": "display_data",
          "data": {
            "image/png": "[encoded data removed]",
            "text/plain": [
              "<Figure size 720x720 with 2 Axes>"
            ]
          },
          "metadata": {
            "tags": [],
            "needs_background": "light"
          }
        }
      ]
    },
    {
      "cell_type": "markdown",
      "metadata": {
        "id": "TpVfPBk8ivHX"
      },
      "source": [
        "### **5.1.2-Precision, Recall, F1**"
      ]
    },
    {
      "cell_type": "code",
      "metadata": {
        "id": "Tg-r4N3RivHX",
        "colab": {
          "base_uri": "https://localhost:8080/"
        },
        "outputId": "48ccdde4-7baa-41ff-ac9a-d33b88bf307f"
      },
      "source": [
        "print('\\n')\n",
        "print(\"Precision, Recall, F1\")\n",
        "print('\\n')\n",
        "CR=classification_report(y_test, y_pred1)\n",
        "print(CR)\n",
        "print('\\n')"
      ],
      "execution_count": null,
      "outputs": [
        {
          "output_type": "stream",
          "text": [
            "\n",
            "\n",
            "Precision, Recall, F1\n",
            "\n",
            "\n",
            "              precision    recall  f1-score   support\n",
            "\n",
            "         0.0       0.60      0.99      0.75      5871\n",
            "         1.0       0.93      0.13      0.23      4496\n",
            "\n",
            "    accuracy                           0.62     10367\n",
            "   macro avg       0.76      0.56      0.49     10367\n",
            "weighted avg       0.74      0.62      0.52     10367\n",
            "\n",
            "\n",
            "\n"
          ],
          "name": "stdout"
        }
      ]
    },
    {
      "cell_type": "markdown",
      "metadata": {
        "id": "zLGxK16DivHX"
      },
      "source": [
        "### **5.1.3-ROC CURVE**"
      ]
    },
    {
      "cell_type": "code",
      "metadata": {
        "id": "iKQ5whx5ivHX",
        "colab": {
          "base_uri": "https://localhost:8080/",
          "height": 295
        },
        "outputId": "37190300-37d8-49c9-c9be-8ca7c63abc38"
      },
      "source": [
        "fpr1, tpr1, thresholds = roc_curve(y_test, y_pred1)\n",
        "roc_auc = auc(fpr1, tpr1)\n",
        "plt.figure()\n",
        "plt.plot(fpr1, tpr1, color='darkorange', lw=1, label='ROC curve (area = %0.4f)' % roc_auc)\n",
        "plt.xlim([0.0, 1.0])\n",
        "plt.ylim([0.0, 1.05])\n",
        "plt.xlabel('False Positive Rate')\n",
        "plt.ylabel('True Positive Rate')\n",
        "plt.title('ROC CURVE')\n",
        "plt.legend(loc=\"lower right\")\n",
        "plt.show()"
      ],
      "execution_count": null,
      "outputs": [
        {
          "output_type": "display_data",
          "data": {
            "image/png": "[encoded data removed]",
            "text/plain": [
              "<Figure size 432x288 with 1 Axes>"
            ]
          },
          "metadata": {
            "tags": [],
            "needs_background": "light"
          }
        }
      ]
    },
    {
      "cell_type": "markdown",
      "metadata": {
        "id": "BmhGaJq6ivHY"
      },
      "source": [
        "## **5.2-Random Forest**"
      ]
    },
    {
      "cell_type": "code",
      "metadata": {
        "id": "RYz_jvGQivHY",
        "colab": {
          "base_uri": "https://localhost:8080/"
        },
        "outputId": "bdb1bf20-2179-4bca-d370-0820a57d1f90"
      },
      "source": [
        "Ran_For= RandomForestClassifier(n_estimators=100,max_depth=15, random_state=11,max_leaf_nodes=10)\n",
        "Ran_For= Ran_For.fit(X_train , y_train)\n",
        "Ran_For"
      ],
      "execution_count": null,
      "outputs": [
        {
          "output_type": "execute_result",
          "data": {
            "text/plain": [
              "RandomForestClassifier(bootstrap=True, ccp_alpha=0.0, class_weight=None,\n",
              "                       criterion='gini', max_depth=15, max_features='auto',\n",
              "                       max_leaf_nodes=10, max_samples=None,\n",
              "                       min_impurity_decrease=0.0, min_impurity_split=None,\n",
              "                       min_samples_leaf=1, min_samples_split=2,\n",
              "                       min_weight_fraction_leaf=0.0, n_estimators=100,\n",
              "                       n_jobs=None, oob_score=False, random_state=11, verbose=0,\n",
              "                       warm_start=False)"
            ]
          },
          "metadata": {
            "tags": []
          },
          "execution_count": 40
        }
      ]
    },
    {
      "cell_type": "code",
      "metadata": {
        "id": "uKbH4wscivHZ",
        "colab": {
          "base_uri": "https://localhost:8080/"
        },
        "outputId": "e55c9d41-888c-4a7d-d55d-3561386fd30e"
      },
      "source": [
        "y_pred1 = Ran_For.predict(X_test)\n",
        "rn=Ran_For.score(X_test, y_test)\n",
        "print('Accuracy score= {:.4f}'.format(Ran_For.score(X_test, y_test)))"
      ],
      "execution_count": null,
      "outputs": [
        {
          "output_type": "stream",
          "text": [
            "Accuracy score= 0.7750\n"
          ],
          "name": "stdout"
        }
      ]
    },
    {
      "cell_type": "markdown",
      "metadata": {
        "id": "vf3lwlPXivHa"
      },
      "source": [
        "### **5.2.1-Confusion Matrix**"
      ]
    },
    {
      "cell_type": "code",
      "metadata": {
        "id": "dDQtBRopivHb",
        "colab": {
          "base_uri": "https://localhost:8080/",
          "height": 727
        },
        "outputId": "3d2fe6dc-fd53-4b14-9d66-e3c3564e208d"
      },
      "source": [
        "print('\\n')\n",
        "print(\"confusion matrix\")\n",
        "print('\\n')\n",
        "CR=confusion_matrix(y_test, y_pred1)\n",
        "print(CR)\n",
        "print('\\n')\n",
        "\n",
        "fig, ax = plot_confusion_matrix(conf_mat=CR,figsize=(10, 10),\n",
        "                                show_absolute=True,\n",
        "                                show_normed=True,\n",
        "                                colorbar=True)\n",
        "plt.show()"
      ],
      "execution_count": null,
      "outputs": [
        {
          "output_type": "stream",
          "text": [
            "\n",
            "\n",
            "confusion matrix\n",
            "\n",
            "\n",
            "[[5441  430]\n",
            " [1903 2593]]\n",
            "\n",
            "\n"
          ],
          "name": "stdout"
        },
        {
          "output_type": "display_data",
          "data": {
            "image/png": "[encoded data removed]",
            "text/plain": [
              "<Figure size 720x720 with 2 Axes>"
            ]
          },
          "metadata": {
            "tags": [],
            "needs_background": "light"
          }
        }
      ]
    },
    {
      "cell_type": "markdown",
      "metadata": {
        "id": "0EUpZCpSivHc"
      },
      "source": [
        "### **5.2.2  Precision, Recall, F1**"
      ]
    },
    {
      "cell_type": "code",
      "metadata": {
        "id": "uB_LMqHBivHc",
        "colab": {
          "base_uri": "https://localhost:8080/"
        },
        "outputId": "bc14f966-6445-4e3d-bf52-59daf5de87d7"
      },
      "source": [
        "print('\\n')\n",
        "print(\"Precision, Recall, F1\")\n",
        "print('\\n')\n",
        "CR=classification_report(y_test, y_pred1)\n",
        "print(CR)\n",
        "print('\\n')"
      ],
      "execution_count": null,
      "outputs": [
        {
          "output_type": "stream",
          "text": [
            "\n",
            "\n",
            "Precision, Recall, F1\n",
            "\n",
            "\n",
            "              precision    recall  f1-score   support\n",
            "\n",
            "         0.0       0.74      0.93      0.82      5871\n",
            "         1.0       0.86      0.58      0.69      4496\n",
            "\n",
            "    accuracy                           0.77     10367\n",
            "   macro avg       0.80      0.75      0.76     10367\n",
            "weighted avg       0.79      0.77      0.77     10367\n",
            "\n",
            "\n",
            "\n"
          ],
          "name": "stdout"
        }
      ]
    },
    {
      "cell_type": "markdown",
      "metadata": {
        "id": "dmv1lmT2ivHd"
      },
      "source": [
        "### **5.2.3 ROC CURVE**"
      ]
    },
    {
      "cell_type": "code",
      "metadata": {
        "id": "CRnE4Qan4RY_",
        "colab": {
          "base_uri": "https://localhost:8080/",
          "height": 295
        },
        "outputId": "05c543c4-9ff2-4c4d-f5ee-e4183b191c9d"
      },
      "source": [
        "fpr2, tpr2, thresholds = roc_curve(y_test, y_pred1)\n",
        "roc_auc = auc(fpr2, tpr2)\n",
        "plt.figure()\n",
        "plt.plot(fpr2, tpr2, color='darkorange', lw=1, label='ROC curve (area = %0.4f)' % roc_auc)\n",
        "plt.xlim([0.0, 1.0])\n",
        "plt.ylim([0.0, 1.05])\n",
        "plt.xlabel('False Positive Rate')\n",
        "plt.ylabel('True Positive Rate')\n",
        "plt.title('ROC CURVE')\n",
        "plt.legend(loc=\"lower right\")\n",
        "plt.show()"
      ],
      "execution_count": null,
      "outputs": [
        {
          "output_type": "display_data",
          "data": {
            "image/png": "[encoded data removed]",
            "text/plain": [
              "<Figure size 432x288 with 1 Axes>"
            ]
          },
          "metadata": {
            "tags": [],
            "needs_background": "light"
          }
        }
      ]
    },
    {
      "cell_type": "markdown",
      "metadata": {
        "id": "RtbZ54akivHe"
      },
      "source": [
        "## **5.3 SVM Support Vector Machine**"
      ]
    },
    {
      "cell_type": "code",
      "metadata": {
        "id": "eOrqJJrtivHf",
        "colab": {
          "base_uri": "https://localhost:8080/"
        },
        "outputId": "be8f8576-a124-4373-8be4-d9c67f969da1"
      },
      "source": [
        "svc=LinearSVC(random_state=0, tol=1e-5)\n",
        "svc= svc.fit(X_train , y_train)\n",
        "svc"
      ],
      "execution_count": null,
      "outputs": [
        {
          "output_type": "execute_result",
          "data": {
            "text/plain": [
              "LinearSVC(C=1.0, class_weight=None, dual=True, fit_intercept=True,\n",
              "          intercept_scaling=1, loss='squared_hinge', max_iter=1000,\n",
              "          multi_class='ovr', penalty='l2', random_state=0, tol=1e-05,\n",
              "          verbose=0)"
            ]
          },
          "metadata": {
            "tags": []
          },
          "execution_count": 45
        }
      ]
    },
    {
      "cell_type": "code",
      "metadata": {
        "id": "Ft9KWrFlivHg",
        "colab": {
          "base_uri": "https://localhost:8080/"
        },
        "outputId": "619b51a6-1f54-4702-e0e8-55114bbfc6a4"
      },
      "source": [
        "y_pred1 = svc.predict(X_test)\n",
        "sv=svc.score(X_test, y_test)\n",
        "print('Accuracy score= {:.4f}'.format(svc.score(X_test, y_test)))"
      ],
      "execution_count": null,
      "outputs": [
        {
          "output_type": "stream",
          "text": [
            "Accuracy score= 0.6095\n"
          ],
          "name": "stdout"
        }
      ]
    },
    {
      "cell_type": "markdown",
      "metadata": {
        "id": "ypDgzVWtivHg"
      },
      "source": [
        "### **5.3.1- Confusion Matrix**"
      ]
    },
    {
      "cell_type": "code",
      "metadata": {
        "id": "NrKVKuFxivHh",
        "colab": {
          "base_uri": "https://localhost:8080/",
          "height": 730
        },
        "outputId": "b023c70d-207b-4b63-d3ac-1705815ceb23"
      },
      "source": [
        "print('\\n')\n",
        "print(\"confusion matrix\")\n",
        "print('\\n')\n",
        "CR=confusion_matrix(y_test, y_pred1)\n",
        "print(CR)\n",
        "print('\\n')\n",
        "\n",
        "fig, ax = plot_confusion_matrix(conf_mat=CR,figsize=(10, 10),\n",
        "                                show_absolute=True,\n",
        "                                show_normed=True,\n",
        "                                colorbar=True)\n",
        "plt.show()"
      ],
      "execution_count": null,
      "outputs": [
        {
          "output_type": "stream",
          "text": [
            "\n",
            "\n",
            "confusion matrix\n",
            "\n",
            "\n",
            "[[5015  856]\n",
            " [3192 1304]]\n",
            "\n",
            "\n"
          ],
          "name": "stdout"
        },
        {
          "output_type": "display_data",
          "data": {
            "image/png": "[encoded data removed]",
            "text/plain": [
              "<Figure size 720x720 with 2 Axes>"
            ]
          },
          "metadata": {
            "tags": [],
            "needs_background": "light"
          }
        }
      ]
    },
    {
      "cell_type": "markdown",
      "metadata": {
        "id": "pZOKrEXoivHi"
      },
      "source": [
        "### **5.3.2-Precision, Recall, F1**"
      ]
    },
    {
      "cell_type": "code",
      "metadata": {
        "id": "WiwurndwivHi",
        "colab": {
          "base_uri": "https://localhost:8080/"
        },
        "outputId": "a9652ab7-4f98-42a4-d76a-72e862e94695"
      },
      "source": [
        "print('\\n')\n",
        "print(\"Precision, Recall, F1\")\n",
        "print('\\n')\n",
        "CR=classification_report(y_test, y_pred1)\n",
        "print(CR)\n",
        "print('\\n')"
      ],
      "execution_count": null,
      "outputs": [
        {
          "output_type": "stream",
          "text": [
            "\n",
            "\n",
            "Precision, Recall, F1\n",
            "\n",
            "\n",
            "              precision    recall  f1-score   support\n",
            "\n",
            "         0.0       0.61      0.85      0.71      5871\n",
            "         1.0       0.60      0.29      0.39      4496\n",
            "\n",
            "    accuracy                           0.61     10367\n",
            "   macro avg       0.61      0.57      0.55     10367\n",
            "weighted avg       0.61      0.61      0.57     10367\n",
            "\n",
            "\n",
            "\n"
          ],
          "name": "stdout"
        }
      ]
    },
    {
      "cell_type": "markdown",
      "metadata": {
        "id": "VwjfODVXivHj"
      },
      "source": [
        "### **5.3.3-ROC CURVE**"
      ]
    },
    {
      "cell_type": "code",
      "metadata": {
        "scrolled": true,
        "id": "qH3osxPKivHj",
        "colab": {
          "base_uri": "https://localhost:8080/",
          "height": 295
        },
        "outputId": "2f314412-9302-4ff8-ff21-cd996ec46176"
      },
      "source": [
        "fpr3, tpr3, thresholds = roc_curve(y_test, y_pred1)\n",
        "roc_auc = auc(fpr3, tpr3)\n",
        "plt.figure()\n",
        "plt.plot(fpr3, tpr3, color='darkorange', lw=1, label='ROC curve (area = %0.4f)' % roc_auc)\n",
        "plt.xlim([0.0, 1.0])\n",
        "plt.ylim([0.0, 1.05])\n",
        "plt.xlabel('False Positive Rate')\n",
        "plt.ylabel('True Positive Rate')\n",
        "plt.title('ROC CURVE')\n",
        "plt.legend(loc=\"lower right\")\n",
        "plt.show()"
      ],
      "execution_count": null,
      "outputs": [
        {
          "output_type": "display_data",
          "data": {
            "image/png": "[encoded data removed]",
            "text/plain": [
              "<Figure size 432x288 with 1 Axes>"
            ]
          },
          "metadata": {
            "tags": [],
            "needs_background": "light"
          }
        }
      ]
    },
    {
      "cell_type": "markdown",
      "metadata": {
        "id": "nr5cNKupivHk"
      },
      "source": [
        "## **5.4-Logistic Regression**"
      ]
    },
    {
      "cell_type": "code",
      "metadata": {
        "id": "tLZ0xAIBivHk",
        "colab": {
          "base_uri": "https://localhost:8080/"
        },
        "outputId": "01205f3a-7ffb-4dbe-aaa4-c5592e33238d"
      },
      "source": [
        "LR= LogisticRegression()\n",
        "LR= LR.fit(X_train , y_train)\n",
        "LR"
      ],
      "execution_count": null,
      "outputs": [
        {
          "output_type": "execute_result",
          "data": {
            "text/plain": [
              "LogisticRegression(C=1.0, class_weight=None, dual=False, fit_intercept=True,\n",
              "                   intercept_scaling=1, l1_ratio=None, max_iter=100,\n",
              "                   multi_class='auto', n_jobs=None, penalty='l2',\n",
              "                   random_state=None, solver='lbfgs', tol=0.0001, verbose=0,\n",
              "                   warm_start=False)"
            ]
          },
          "metadata": {
            "tags": []
          },
          "execution_count": 50
        }
      ]
    },
    {
      "cell_type": "code",
      "metadata": {
        "id": "I7F0kNEKivHl",
        "colab": {
          "base_uri": "https://localhost:8080/"
        },
        "outputId": "5d2dcb3b-2de1-4aca-ad01-8cc62c43d54e"
      },
      "source": [
        "y_pred1 = LR.predict(X_test)\n",
        "lr=LR.score(X_test, y_test)\n",
        "print('Accuracy score= {:.4f}'.format(LR.score(X_test, y_test)))"
      ],
      "execution_count": null,
      "outputs": [
        {
          "output_type": "stream",
          "text": [
            "Accuracy score= 0.6152\n"
          ],
          "name": "stdout"
        }
      ]
    },
    {
      "cell_type": "markdown",
      "metadata": {
        "id": "oCLHSkcQivHm"
      },
      "source": [
        "### **5.4.1-Confusion Matrix**"
      ]
    },
    {
      "cell_type": "code",
      "metadata": {
        "id": "h8NtOvLSivHm",
        "colab": {
          "base_uri": "https://localhost:8080/",
          "height": 727
        },
        "outputId": "41e1499a-742d-478d-8eda-3b6f256439b0"
      },
      "source": [
        "print('\\n')\n",
        "print(\"confusion matrix\")\n",
        "print('\\n')\n",
        "CR=confusion_matrix(y_test, y_pred1)\n",
        "print(CR)\n",
        "print('\\n')\n",
        "\n",
        "fig, ax = plot_confusion_matrix(conf_mat=CR,figsize=(10, 10),\n",
        "                                show_absolute=True,\n",
        "                                show_normed=True,\n",
        "                                colorbar=True)\n",
        "plt.show()"
      ],
      "execution_count": null,
      "outputs": [
        {
          "output_type": "stream",
          "text": [
            "\n",
            "\n",
            "confusion matrix\n",
            "\n",
            "\n",
            "[[4980  891]\n",
            " [3098 1398]]\n",
            "\n",
            "\n"
          ],
          "name": "stdout"
        },
        {
          "output_type": "display_data",
          "data": {
            "image/png": "[encoded data removed]",
            "text/plain": [
              "<Figure size 720x720 with 2 Axes>"
            ]
          },
          "metadata": {
            "tags": [],
            "needs_background": "light"
          }
        }
      ]
    },
    {
      "cell_type": "markdown",
      "metadata": {
        "id": "1v0y-c6IivHn"
      },
      "source": [
        "### **5.4.2 Precision, Recall, F1**"
      ]
    },
    {
      "cell_type": "code",
      "metadata": {
        "id": "6qts0FNkivHn",
        "colab": {
          "base_uri": "https://localhost:8080/"
        },
        "outputId": "24997e14-92f5-4c82-aef1-d2c8f49bc366"
      },
      "source": [
        "print('\\n')\n",
        "print(\"Precision, Recall, F1\")\n",
        "print('\\n')\n",
        "CR=classification_report(y_test, y_pred1)\n",
        "print(CR)\n",
        "print('\\n')"
      ],
      "execution_count": null,
      "outputs": [
        {
          "output_type": "stream",
          "text": [
            "\n",
            "\n",
            "Precision, Recall, F1\n",
            "\n",
            "\n",
            "              precision    recall  f1-score   support\n",
            "\n",
            "         0.0       0.62      0.85      0.71      5871\n",
            "         1.0       0.61      0.31      0.41      4496\n",
            "\n",
            "    accuracy                           0.62     10367\n",
            "   macro avg       0.61      0.58      0.56     10367\n",
            "weighted avg       0.61      0.62      0.58     10367\n",
            "\n",
            "\n",
            "\n"
          ],
          "name": "stdout"
        }
      ]
    },
    {
      "cell_type": "markdown",
      "metadata": {
        "id": "YoGWnTBNivHo"
      },
      "source": [
        "### **5.4.3-ROC CURVE**"
      ]
    },
    {
      "cell_type": "code",
      "metadata": {
        "scrolled": true,
        "id": "mcDCjbKDivHp",
        "colab": {
          "base_uri": "https://localhost:8080/",
          "height": 295
        },
        "outputId": "4d460166-7266-4569-f8d3-5f80e0ae0a72"
      },
      "source": [
        "fpr4, tpr4, thresholds = roc_curve(y_test, y_pred1)\n",
        "roc_auc = auc(fpr4, tpr4)\n",
        "plt.figure()\n",
        "plt.plot(fpr4, tpr4, color='darkorange', lw=1, label='ROC curve (area = %0.4f)' % roc_auc)\n",
        "plt.xlim([0.0, 1.0])\n",
        "plt.ylim([0.0, 1.05])\n",
        "plt.xlabel('False Positive Rate')\n",
        "plt.ylabel('True Positive Rate')\n",
        "plt.title('ROC CURVE')\n",
        "plt.legend(loc=\"lower right\")\n",
        "plt.show()"
      ],
      "execution_count": null,
      "outputs": [
        {
          "output_type": "display_data",
          "data": {
            "image/png": "[encoded data removed]",
            "text/plain": [
              "<Figure size 432x288 with 1 Axes>"
            ]
          },
          "metadata": {
            "tags": [],
            "needs_background": "light"
          }
        }
      ]
    },
    {
      "cell_type": "markdown",
      "metadata": {
        "id": "2hrAg8xnivHp"
      },
      "source": [
        "## **5.5-KNN Algorithm**"
      ]
    },
    {
      "cell_type": "code",
      "metadata": {
        "id": "admGEGJbivHq",
        "colab": {
          "base_uri": "https://localhost:8080/"
        },
        "outputId": "b44fcd6a-1381-4247-a84c-b8efee844ee9"
      },
      "source": [
        "from sklearn.naive_bayes import GaussianNB\n",
        "KNN=GaussianNB()\n",
        "KNN= KNN.fit(X_train , y_train)\n",
        "KNN"
      ],
      "execution_count": null,
      "outputs": [
        {
          "output_type": "execute_result",
          "data": {
            "text/plain": [
              "GaussianNB(priors=None, var_smoothing=1e-09)"
            ]
          },
          "metadata": {
            "tags": []
          },
          "execution_count": 56
        }
      ]
    },
    {
      "cell_type": "code",
      "metadata": {
        "id": "GfGcTe-2ivHr",
        "colab": {
          "base_uri": "https://localhost:8080/"
        },
        "outputId": "f91b49db-7a73-4808-f953-cfe6102013a9"
      },
      "source": [
        "y_pred1 = KNN.predict(X_test)\n",
        "kn=KNN.score(X_test, y_test)\n",
        "print('Accuracy score= {:.4f}'.format(KNN.score(X_test, y_test)))"
      ],
      "execution_count": null,
      "outputs": [
        {
          "output_type": "stream",
          "text": [
            "Accuracy score= 0.6155\n"
          ],
          "name": "stdout"
        }
      ]
    },
    {
      "cell_type": "markdown",
      "metadata": {
        "id": "lQ1jq_UIivHs"
      },
      "source": [
        "### **5.5.1-Confusion Matrix**"
      ]
    },
    {
      "cell_type": "code",
      "metadata": {
        "id": "_36SwRtPivHs",
        "colab": {
          "base_uri": "https://localhost:8080/",
          "height": 727
        },
        "outputId": "704cb62b-b085-4176-8b9d-b1565475d992"
      },
      "source": [
        "print('\\n')\n",
        "print(\"confusion matrix\")\n",
        "print('\\n')\n",
        "CR=confusion_matrix(y_test, y_pred1)\n",
        "print(CR)\n",
        "print('\\n')\n",
        "\n",
        "fig, ax = plot_confusion_matrix(conf_mat=CR,figsize=(10, 10),\n",
        "                                show_absolute=True,\n",
        "                                show_normed=True,\n",
        "                                colorbar=True)\n",
        "plt.show()"
      ],
      "execution_count": null,
      "outputs": [
        {
          "output_type": "stream",
          "text": [
            "\n",
            "\n",
            "confusion matrix\n",
            "\n",
            "\n",
            "[[5739  132]\n",
            " [3854  642]]\n",
            "\n",
            "\n"
          ],
          "name": "stdout"
        },
        {
          "output_type": "display_data",
          "data": {
            "image/png": "[encoded data removed]",
            "text/plain": [
              "<Figure size 720x720 with 2 Axes>"
            ]
          },
          "metadata": {
            "tags": [],
            "needs_background": "light"
          }
        }
      ]
    },
    {
      "cell_type": "markdown",
      "metadata": {
        "id": "yewqVaVSivHt"
      },
      "source": [
        "### **5.5.2-Precision, Recall, F1**"
      ]
    },
    {
      "cell_type": "code",
      "metadata": {
        "id": "5ddGNMt-xRL1"
      },
      "source": [
        ""
      ],
      "execution_count": null,
      "outputs": []
    },
    {
      "cell_type": "code",
      "metadata": {
        "id": "L9FgeCRFivHt",
        "colab": {
          "base_uri": "https://localhost:8080/"
        },
        "outputId": "0f21e2d4-3b46-4e90-8116-cfe016437813"
      },
      "source": [
        "print('\\n')\n",
        "print(\"Precision, Recall, F1\")\n",
        "print('\\n')\n",
        "CR=classification_report(y_test, y_pred1)\n",
        "print(CR)\n",
        "print('\\n')"
      ],
      "execution_count": null,
      "outputs": [
        {
          "output_type": "stream",
          "text": [
            "\n",
            "\n",
            "Precision, Recall, F1\n",
            "\n",
            "\n",
            "              precision    recall  f1-score   support\n",
            "\n",
            "         0.0       0.60      0.98      0.74      5871\n",
            "         1.0       0.83      0.14      0.24      4496\n",
            "\n",
            "    accuracy                           0.62     10367\n",
            "   macro avg       0.71      0.56      0.49     10367\n",
            "weighted avg       0.70      0.62      0.53     10367\n",
            "\n",
            "\n",
            "\n"
          ],
          "name": "stdout"
        }
      ]
    },
    {
      "cell_type": "markdown",
      "metadata": {
        "id": "yRQIQ_gsivHu"
      },
      "source": [
        "### **5.5.3-ROC CURVE**"
      ]
    },
    {
      "cell_type": "code",
      "metadata": {
        "scrolled": true,
        "id": "46pXBeEvivHu",
        "colab": {
          "base_uri": "https://localhost:8080/",
          "height": 295
        },
        "outputId": "cdf7ba4a-1cdd-4510-89c3-20fb6c8f5a9d"
      },
      "source": [
        "fpr5, tpr5, thresholds = roc_curve(y_test, y_pred1)\n",
        "roc_auc = auc(fpr5, tpr5)\n",
        "plt.figure()\n",
        "plt.plot(fpr5, tpr5, color='darkorange', lw=1, label='ROC curve (area = %0.4f)' % roc_auc)\n",
        "plt.xlim([0.0, 1.0])\n",
        "plt.ylim([0.0, 1.05])\n",
        "plt.xlabel('False Positive Rate')\n",
        "plt.ylabel('True Positive Rate')\n",
        "plt.title('ROC CURVE')\n",
        "plt.legend(loc=\"lower right\")\n",
        "plt.show()"
      ],
      "execution_count": null,
      "outputs": [
        {
          "output_type": "display_data",
          "data": {
            "image/png": "[encoded data removed]",
            "text/plain": [
              "<Figure size 432x288 with 1 Axes>"
            ]
          },
          "metadata": {
            "tags": [],
            "needs_background": "light"
          }
        }
      ]
    },
    {
      "cell_type": "markdown",
      "metadata": {
        "id": "5adoPTGsaf7Y"
      },
      "source": [
        "# **6-Compare Modle performance** "
      ]
    },
    {
      "cell_type": "markdown",
      "metadata": {
        "id": "PtUNw7SnivHu"
      },
      "source": [
        "## **6.1-ROC Curve for Models**"
      ]
    },
    {
      "cell_type": "code",
      "metadata": {
        "id": "05AZpl4FivHu",
        "colab": {
          "base_uri": "https://localhost:8080/",
          "height": 295
        },
        "outputId": "01bc36ed-2d44-4dea-cf3d-acac3e14568a"
      },
      "source": [
        "plt.plot(fpr1, tpr1, marker='*', label='Decision Trees', color = 'black')\n",
        "plt.plot(fpr2, tpr2, marker='*', label='Random Forest', color = 'Red')\n",
        "plt.plot(fpr3, tpr3, marker='*', label='SVM', color = 'green')\n",
        "plt.plot(fpr4, tpr4, marker='*', label='LogisticRegression', color = 'yellow')\n",
        "plt.plot(fpr5, tpr5, marker='*', label='KNN', color = 'blue')\n",
        "plt.xlabel('False Positive Rate')\n",
        "plt.ylabel('True Positive Rate')\n",
        "plt.title('ROC CURVES OF ALGORITHMS')\n",
        "plt.legend(loc=\"lower right\")\n",
        "plt.show()"
      ],
      "execution_count": null,
      "outputs": [
        {
          "output_type": "display_data",
          "data": {
            "image/png": "[encoded data removed]",
            "text/plain": [
              "<Figure size 432x288 with 1 Axes>"
            ]
          },
          "metadata": {
            "tags": [],
            "needs_background": "light"
          }
        }
      ]
    },
    {
      "cell_type": "markdown",
      "metadata": {
        "id": "DHOCUdIwivHv"
      },
      "source": [
        "## **6.2-Comparison of all algorithms Results**"
      ]
    },
    {
      "cell_type": "code",
      "metadata": {
        "scrolled": true,
        "id": "mgNM2oNSivHv",
        "colab": {
          "base_uri": "https://localhost:8080/"
        },
        "outputId": "6595ce53-24cb-42e0-8e18-6bf5dfda1622"
      },
      "source": [
        "x = PrettyTable()\n",
        "print('\\n')\n",
        "print(\"Comparison of all algorithm results\")\n",
        "x.field_names = [\"Model\", \"Accuracy\"]\n",
        "\n",
        "\n",
        "x.add_row([\"Decision Trees Algorithm\", round(dt,4)])\n",
        "x.add_row([\"Random Forest Algorithm\", round(rn,4)])\n",
        "x.add_row([\"Support Vector Machine Algorithm\", round(sv,4)])\n",
        "x.add_row([\"LogisticRegression Algorithm\", round(lr,4)])\n",
        "x.add_row([\"KNN Algorithm\", round(kn,4)])\n",
        "print(x)\n",
        "print('\\n')"
      ],
      "execution_count": null,
      "outputs": [
        {
          "output_type": "stream",
          "text": [
            "\n",
            "\n",
            "Comparison of all algorithm results\n",
            "+----------------------------------+----------+\n",
            "|              Model               | Accuracy |\n",
            "+----------------------------------+----------+\n",
            "|     Decision Trees Algorithm     |  0.6189  |\n",
            "|     Random Forest Algorithm      |  0.775   |\n",
            "| Support Vector Machine Algorithm |  0.6095  |\n",
            "|   LogisticRegression Algorithm   |  0.6152  |\n",
            "|          KNN Algorithm           |  0.6155  |\n",
            "+----------------------------------+----------+\n",
            "\n",
            "\n"
          ],
          "name": "stdout"
        }
      ]
    },
    {
      "cell_type": "code",
      "metadata": {
        "colab": {
          "base_uri": "https://localhost:8080/"
        },
        "id": "PoTeywcH6mRu",
        "outputId": "d9638bba-f82a-4e11-ba31-96da37dfc128"
      },
      "source": [
        "#  for sep data\n",
        "\n",
        "x = PrettyTable()\n",
        "print('\\n')\n",
        "print(\"Comparison of all algorithm results\")\n",
        "x.field_names = [\"Model\", \"Accuracy\"]\n",
        "\n",
        "\n",
        "x.add_row([\"Decision Trees Algorithm\", round(dt,4)])\n",
        "x.add_row([\"Random Forest Algorithm\", round(rn,4)])\n",
        "x.add_row([\"Support Vector Machine Algorithm\", round(sv,4)])\n",
        "x.add_row([\"LogisticRegression Algorithm\", round(lr,4)])\n",
        "x.add_row([\"KNN Algorithm\", round(kn,4)])\n",
        "print(x)\n",
        "print('\\n')"
      ],
      "execution_count": null,
      "outputs": [
        {
          "output_type": "stream",
          "text": [
            "\n",
            "\n",
            "Comparison of all algorithm results\n",
            "+----------------------------------+----------+\n",
            "|              Model               | Accuracy |\n",
            "+----------------------------------+----------+\n",
            "|     Decision Trees Algorithm     |  0.6189  |\n",
            "|     Random Forest Algorithm      |  0.775   |\n",
            "| Support Vector Machine Algorithm |  0.6095  |\n",
            "|   LogisticRegression Algorithm   |  0.6152  |\n",
            "|          KNN Algorithm           |  0.6155  |\n",
            "+----------------------------------+----------+\n",
            "\n",
            "\n"
          ],
          "name": "stdout"
        }
      ]
    },
    {
      "cell_type": "markdown",
      "metadata": {
        "id": "RDXZdnRNivHv"
      },
      "source": [
        "## **6.3-Best Model with Accuracy and Time of execution**"
      ]
    },
    {
      "cell_type": "code",
      "metadata": {
        "id": "iz4xxk6sivHv",
        "colab": {
          "base_uri": "https://localhost:8080/"
        },
        "outputId": "755e4491-08b3-48f7-9669-4087c7b272bd"
      },
      "source": [
        "x = PrettyTable()\n",
        "print('\\n')\n",
        "print(\"Comparison of all algorithm results\")\n",
        "x.field_names = [\"Model\", \"Accuracy\"]\n",
        "\n",
        "\n",
        "x.add_row([\"Random Forest Algorithm\", round(rn,4)])\n",
        "\n",
        "print(x)\n",
        "print('\\n')"
      ],
      "execution_count": null,
      "outputs": [
        {
          "output_type": "stream",
          "text": [
            "\n",
            "\n",
            "Comparison of all algorithm results\n",
            "+-------------------------+----------+\n",
            "|          Model          | Accuracy |\n",
            "+-------------------------+----------+\n",
            "| Random Forest Algorithm |  0.775   |\n",
            "+-------------------------+----------+\n",
            "\n",
            "\n"
          ],
          "name": "stdout"
        }
      ]
    },
    {
      "cell_type": "markdown",
      "metadata": {
        "id": "bqx2Su7EivHw"
      },
      "source": [
        "#**13- Train on all training data now to make it more good on more data**"
      ]
    },
    {
      "cell_type": "markdown",
      "metadata": {
        "id": "8sYvVAF0c4QC"
      },
      "source": [
        "## **13.1 Logistic Regression**"
      ]
    },
    {
      "cell_type": "code",
      "metadata": {
        "id": "DEXD0VczivHw",
        "colab": {
          "base_uri": "https://localhost:8080/"
        },
        "outputId": "8e87575c-ace2-4e2a-ebd1-4b7c0ecbdfdb"
      },
      "source": [
        "Ran_For= LogisticRegression()\n",
        "Ran_For= Ran_For.fit(X , y)\n",
        "Ran_For"
      ],
      "execution_count": null,
      "outputs": [
        {
          "output_type": "execute_result",
          "data": {
            "text/plain": [
              "LogisticRegression(C=1.0, class_weight=None, dual=False, fit_intercept=True,\n",
              "                   intercept_scaling=1, l1_ratio=None, max_iter=100,\n",
              "                   multi_class='auto', n_jobs=None, penalty='l2',\n",
              "                   random_state=None, solver='lbfgs', tol=0.0001, verbose=0,\n",
              "                   warm_start=False)"
            ]
          },
          "metadata": {
            "tags": []
          },
          "execution_count": 67
        }
      ]
    },
    {
      "cell_type": "markdown",
      "metadata": {
        "id": "tRvE8NScivHw"
      },
      "source": [
        "### **13.1.1 Selecting the Test data of 8997 rows**"
      ]
    },
    {
      "cell_type": "code",
      "metadata": {
        "id": "RNBtOvCoivHx",
        "colab": {
          "base_uri": "https://localhost:8080/",
          "height": 164
        },
        "outputId": "e2adef55-ac2c-46e4-8948-d5c629af04ce"
      },
      "source": [
        "Testdata=normalized_data_with_selected_features.tail(8997)"
      ],
      "execution_count": null,
      "outputs": [
        {
          "output_type": "error",
          "ename": "NameError",
          "evalue": "ignored",
          "traceback": [
            "\u001b[0;31m---------------------------------------------------------------------------\u001b[0m",
            "\u001b[0;31mNameError\u001b[0m                                 Traceback (most recent call last)",
            "\u001b[0;32m<ipython-input-68-95c3bc5071f4>\u001b[0m in \u001b[0;36m<module>\u001b[0;34m()\u001b[0m\n\u001b[0;32m----> 1\u001b[0;31m \u001b[0mTestdata\u001b[0m\u001b[0;34m=\u001b[0m\u001b[0mnormalized_data_with_selected_features\u001b[0m\u001b[0;34m.\u001b[0m\u001b[0mtail\u001b[0m\u001b[0;34m(\u001b[0m\u001b[0;36m8997\u001b[0m\u001b[0;34m)\u001b[0m\u001b[0;34m\u001b[0m\u001b[0;34m\u001b[0m\u001b[0m\n\u001b[0m",
            "\u001b[0;31mNameError\u001b[0m: name 'normalized_data_with_selected_features' is not defined"
          ]
        }
      ]
    },
    {
      "cell_type": "code",
      "metadata": {
        "id": "yYQx4YF0ivHx"
      },
      "source": [
        "Testdata"
      ],
      "execution_count": null,
      "outputs": []
    },
    {
      "cell_type": "markdown",
      "metadata": {
        "id": "i4MpJiL1ivHx"
      },
      "source": [
        "### **13.1.2 As we are going to Predict the 'Termination_Status' so we dont need this**"
      ]
    },
    {
      "cell_type": "code",
      "metadata": {
        "id": "QHw_9Dz5ivHx"
      },
      "source": [
        "Testdata=Testdata.drop(columns=['Termination_Status'])\n",
        "Testdata"
      ],
      "execution_count": null,
      "outputs": []
    },
    {
      "cell_type": "markdown",
      "metadata": {
        "id": "OBdO5dkqivHy"
      },
      "source": [
        "### **13.1.3 Getting Probabilties on the Test data using Decision Trees Trained Model**"
      ]
    },
    {
      "cell_type": "code",
      "metadata": {
        "id": "VxGlEXzCivHy",
        "colab": {
          "base_uri": "https://localhost:8080/"
        },
        "outputId": "34fb8d59-b6e3-4b31-ae53-c88bda16f213"
      },
      "source": [
        "predictions=Ran_For.predict_proba(Testdata)\n",
        "predictions = np.amax(predictions, axis=1)\n",
        "predictions"
      ],
      "execution_count": null,
      "outputs": [
        {
          "output_type": "execute_result",
          "data": {
            "text/plain": [
              "array([0.89484018, 0.99981501, 0.99123215, ..., 0.99817415, 0.99826815,\n",
              "       0.99853741])"
            ]
          },
          "metadata": {
            "tags": []
          },
          "execution_count": 126
        }
      ]
    },
    {
      "cell_type": "code",
      "metadata": {
        "id": "YyJrHOLsivHy",
        "colab": {
          "base_uri": "https://localhost:8080/"
        },
        "outputId": "3907825a-7a42-4503-95ce-86b0353b15f2"
      },
      "source": [
        "Pred=pd.DataFrame()\n",
        "Pred['Test data predictions probabilties']=predictions\n",
        "Pred['Test data predictions probabilties']=round(Pred['Test data predictions probabilties'],2)\n",
        "Pred['Test data predictions probabilties']"
      ],
      "execution_count": null,
      "outputs": [
        {
          "output_type": "execute_result",
          "data": {
            "text/plain": [
              "0       0.89\n",
              "1       1.00\n",
              "2       0.99\n",
              "3       0.98\n",
              "4       0.99\n",
              "        ... \n",
              "8992    1.00\n",
              "8993    1.00\n",
              "8994    1.00\n",
              "8995    1.00\n",
              "8996    1.00\n",
              "Name: Test data predictions probabilties, Length: 8997, dtype: float64"
            ]
          },
          "metadata": {
            "tags": []
          },
          "execution_count": 127
        }
      ]
    },
    {
      "cell_type": "code",
      "metadata": {
        "id": "3anj7pLPivHz",
        "colab": {
          "base_uri": "https://localhost:8080/",
          "height": 483
        },
        "outputId": "125cea00-d527-490a-baba-89e59f5c71de"
      },
      "source": [
        "Pred['Test data predictions probabilties'].value_counts().head(10).plot(kind = 'pie', autopct='%1.1f%%', figsize=(8, 8)).legend()\n"
      ],
      "execution_count": null,
      "outputs": [
        {
          "output_type": "execute_result",
          "data": {
            "text/plain": [
              "<matplotlib.legend.Legend at 0x7efc4b6ab0b8>"
            ]
          },
          "metadata": {
            "tags": []
          },
          "execution_count": 128
        },
        {
          "output_type": "display_data",
          "data": {
            "image/png": "[encoded data removed]",
            "text/plain": [
              "<Figure size 576x576 with 1 Axes>"
            ]
          },
          "metadata": {
            "tags": []
          }
        }
      ]
    },
    {
      "cell_type": "code",
      "metadata": {
        "id": "yVOr04NRivHz",
        "colab": {
          "base_uri": "https://localhost:8080/"
        },
        "outputId": "f1e06e12-1bb8-4a0a-988d-8216743a4ff0"
      },
      "source": [
        "Pred['Test data predictions probabilties'].value_counts()"
      ],
      "execution_count": null,
      "outputs": [
        {
          "output_type": "execute_result",
          "data": {
            "text/plain": [
              "0.99    835\n",
              "0.97    805\n",
              "0.98    780\n",
              "0.96    635\n",
              "0.95    620\n",
              "1.00    519\n",
              "0.94    514\n",
              "0.93    460\n",
              "0.91    441\n",
              "0.92    439\n",
              "0.90    411\n",
              "0.89    332\n",
              "0.88    326\n",
              "0.87    274\n",
              "0.86    256\n",
              "0.85    209\n",
              "0.84    169\n",
              "0.83    158\n",
              "0.82    121\n",
              "0.81    106\n",
              "0.80     85\n",
              "0.79     67\n",
              "0.78     58\n",
              "0.77     44\n",
              "0.76     43\n",
              "0.75     25\n",
              "0.69     23\n",
              "0.74     22\n",
              "0.73     22\n",
              "0.66     19\n",
              "0.70     18\n",
              "0.71     16\n",
              "0.72     16\n",
              "0.59     14\n",
              "0.67     13\n",
              "0.58     10\n",
              "0.51      9\n",
              "0.54      9\n",
              "0.62      9\n",
              "0.65      9\n",
              "0.55      8\n",
              "0.61      7\n",
              "0.52      7\n",
              "0.63      7\n",
              "0.68      6\n",
              "0.64      5\n",
              "0.60      5\n",
              "0.57      4\n",
              "0.56      3\n",
              "0.50      3\n",
              "0.53      1\n",
              "Name: Test data predictions probabilties, dtype: int64"
            ]
          },
          "metadata": {
            "tags": []
          },
          "execution_count": 129
        }
      ]
    },
    {
      "cell_type": "markdown",
      "metadata": {
        "id": "ftINX4SzivHz"
      },
      "source": [
        "## **13.2-Getting Prediction on the Test data using Decision Trees Trained Model**"
      ]
    },
    {
      "cell_type": "code",
      "metadata": {
        "id": "SzgFBwdZivH0",
        "colab": {
          "base_uri": "https://localhost:8080/"
        },
        "outputId": "c9d7d3c4-d346-47d8-d7e6-2c96eac6108c"
      },
      "source": [
        "predictions=DTC.predict(Testdata)\n",
        "predictions"
      ],
      "execution_count": null,
      "outputs": [
        {
          "output_type": "execute_result",
          "data": {
            "text/plain": [
              "array([1, 1, 1, ..., 1, 1, 1])"
            ]
          },
          "metadata": {
            "tags": []
          },
          "execution_count": 130
        }
      ]
    },
    {
      "cell_type": "code",
      "metadata": {
        "id": "ALf-ARfBivH0",
        "colab": {
          "base_uri": "https://localhost:8080/",
          "height": 419
        },
        "outputId": "c8abdad9-7b94-44cc-8200-d11c94b2056d"
      },
      "source": [
        "Pred['Test data predictions']=predictions\n",
        "Pred['Test data predictions']=Pred['Test data predictions'].replace(0,'Yes')\n",
        "Pred['Test data predictions']=Pred['Test data predictions'].replace(1,'No')\n",
        "Pred"
      ],
      "execution_count": null,
      "outputs": [
        {
          "output_type": "execute_result",
          "data": {
            "text/html": [
              "<div>\n",
              "<style scoped>\n",
              "    .dataframe tbody tr th:only-of-type {\n",
              "        vertical-align: middle;\n",
              "    }\n",
              "\n",
              "    .dataframe tbody tr th {\n",
              "        vertical-align: top;\n",
              "    }\n",
              "\n",
              "    .dataframe thead th {\n",
              "        text-align: right;\n",
              "    }\n",
              "</style>\n",
              "<table border=\"1\" class=\"dataframe\">\n",
              "  <thead>\n",
              "    <tr style=\"text-align: right;\">\n",
              "      <th></th>\n",
              "      <th>Test data predictions probabilties</th>\n",
              "      <th>Test data predictions</th>\n",
              "    </tr>\n",
              "  </thead>\n",
              "  <tbody>\n",
              "    <tr>\n",
              "      <th>0</th>\n",
              "      <td>0.89</td>\n",
              "      <td>No</td>\n",
              "    </tr>\n",
              "    <tr>\n",
              "      <th>1</th>\n",
              "      <td>1.00</td>\n",
              "      <td>No</td>\n",
              "    </tr>\n",
              "    <tr>\n",
              "      <th>2</th>\n",
              "      <td>0.99</td>\n",
              "      <td>No</td>\n",
              "    </tr>\n",
              "    <tr>\n",
              "      <th>3</th>\n",
              "      <td>0.98</td>\n",
              "      <td>No</td>\n",
              "    </tr>\n",
              "    <tr>\n",
              "      <th>4</th>\n",
              "      <td>0.99</td>\n",
              "      <td>No</td>\n",
              "    </tr>\n",
              "    <tr>\n",
              "      <th>...</th>\n",
              "      <td>...</td>\n",
              "      <td>...</td>\n",
              "    </tr>\n",
              "    <tr>\n",
              "      <th>8992</th>\n",
              "      <td>1.00</td>\n",
              "      <td>No</td>\n",
              "    </tr>\n",
              "    <tr>\n",
              "      <th>8993</th>\n",
              "      <td>1.00</td>\n",
              "      <td>No</td>\n",
              "    </tr>\n",
              "    <tr>\n",
              "      <th>8994</th>\n",
              "      <td>1.00</td>\n",
              "      <td>No</td>\n",
              "    </tr>\n",
              "    <tr>\n",
              "      <th>8995</th>\n",
              "      <td>1.00</td>\n",
              "      <td>No</td>\n",
              "    </tr>\n",
              "    <tr>\n",
              "      <th>8996</th>\n",
              "      <td>1.00</td>\n",
              "      <td>No</td>\n",
              "    </tr>\n",
              "  </tbody>\n",
              "</table>\n",
              "<p>8997 rows × 2 columns</p>\n",
              "</div>"
            ],
            "text/plain": [
              "      Test data predictions probabilties Test data predictions\n",
              "0                                   0.89                    No\n",
              "1                                   1.00                    No\n",
              "2                                   0.99                    No\n",
              "3                                   0.98                    No\n",
              "4                                   0.99                    No\n",
              "...                                  ...                   ...\n",
              "8992                                1.00                    No\n",
              "8993                                1.00                    No\n",
              "8994                                1.00                    No\n",
              "8995                                1.00                    No\n",
              "8996                                1.00                    No\n",
              "\n",
              "[8997 rows x 2 columns]"
            ]
          },
          "metadata": {
            "tags": []
          },
          "execution_count": 131
        }
      ]
    },
    {
      "cell_type": "markdown",
      "metadata": {
        "id": "qfHe0nx4ivH0"
      },
      "source": [
        "# **14-Percentage of Predictions that are going to terminate is 1% and percentage of predictions that are not going to terminate are 99%**"
      ]
    },
    {
      "cell_type": "code",
      "metadata": {
        "id": "Rivo54NAivH0",
        "colab": {
          "base_uri": "https://localhost:8080/",
          "height": 181
        },
        "outputId": "90700620-ea4b-426b-c814-6220ac844362"
      },
      "source": [
        "Pred['Test data predictions'].value_counts().head(7).plot(kind = 'pie', autopct='%1.1f%%', figsize=(8, 8)).legend()\n"
      ],
      "execution_count": null,
      "outputs": [
        {
          "output_type": "error",
          "ename": "NameError",
          "evalue": "ignored",
          "traceback": [
            "\u001b[0;31m---------------------------------------------------------------------------\u001b[0m",
            "\u001b[0;31mNameError\u001b[0m                                 Traceback (most recent call last)",
            "\u001b[0;32m<ipython-input-100-ec7ae1bb75aa>\u001b[0m in \u001b[0;36m<module>\u001b[0;34m()\u001b[0m\n\u001b[0;32m----> 1\u001b[0;31m \u001b[0mPred\u001b[0m\u001b[0;34m[\u001b[0m\u001b[0;34m'Test data predictions'\u001b[0m\u001b[0;34m]\u001b[0m\u001b[0;34m.\u001b[0m\u001b[0mvalue_counts\u001b[0m\u001b[0;34m(\u001b[0m\u001b[0;34m)\u001b[0m\u001b[0;34m.\u001b[0m\u001b[0mhead\u001b[0m\u001b[0;34m(\u001b[0m\u001b[0;36m7\u001b[0m\u001b[0;34m)\u001b[0m\u001b[0;34m.\u001b[0m\u001b[0mplot\u001b[0m\u001b[0;34m(\u001b[0m\u001b[0mkind\u001b[0m \u001b[0;34m=\u001b[0m \u001b[0;34m'pie'\u001b[0m\u001b[0;34m,\u001b[0m \u001b[0mautopct\u001b[0m\u001b[0;34m=\u001b[0m\u001b[0;34m'%1.1f%%'\u001b[0m\u001b[0;34m,\u001b[0m \u001b[0mfigsize\u001b[0m\u001b[0;34m=\u001b[0m\u001b[0;34m(\u001b[0m\u001b[0;36m8\u001b[0m\u001b[0;34m,\u001b[0m \u001b[0;36m8\u001b[0m\u001b[0;34m)\u001b[0m\u001b[0;34m)\u001b[0m\u001b[0;34m.\u001b[0m\u001b[0mlegend\u001b[0m\u001b[0;34m(\u001b[0m\u001b[0;34m)\u001b[0m\u001b[0;34m\u001b[0m\u001b[0;34m\u001b[0m\u001b[0m\n\u001b[0m",
            "\u001b[0;31mNameError\u001b[0m: name 'Pred' is not defined"
          ]
        }
      ]
    },
    {
      "cell_type": "code",
      "metadata": {
        "id": "PqIkJ5XQivH1",
        "outputId": "4daf4d79-7931-496b-eb0c-903412a68b5b"
      },
      "source": [
        "Pred['Test data predictions'].value_counts()"
      ],
      "execution_count": null,
      "outputs": [
        {
          "output_type": "execute_result",
          "data": {
            "text/plain": [
              "No     8907\n",
              "Yes      90\n",
              "Name: Test data predictions, dtype: int64"
            ]
          },
          "metadata": {
            "tags": []
          },
          "execution_count": 102
        }
      ]
    },
    {
      "cell_type": "markdown",
      "metadata": {
        "id": "VshaZNmdivH1"
      },
      "source": [
        "# **15-Saving the probabilties and predictions in the last column of test data as Predictions**"
      ]
    },
    {
      "cell_type": "code",
      "metadata": {
        "id": "qC8Zcz4XivH1"
      },
      "source": [
        "Test_data['Test data predictions']=Pred['Test data predictions probabilties']\n",
        "Test_data['Test data predictions']=Pred['Test data predictions']"
      ],
      "execution_count": null,
      "outputs": []
    },
    {
      "cell_type": "code",
      "metadata": {
        "id": "XWMxw-g8ivH2",
        "colab": {
          "base_uri": "https://localhost:8080/"
        },
        "outputId": "d7f1f706-645d-48d9-e959-be15c82a8d47"
      },
      "source": [
        "Test_data.to_csv('Headcount Test with Predictions probabilties Sep.csv')\n",
        "print('Headcount Test with Predictions probabilties file saved')"
      ],
      "execution_count": null,
      "outputs": [
        {
          "output_type": "stream",
          "text": [
            "Headcount Test with Predictions probabilties file saved\n"
          ],
          "name": "stdout"
        }
      ]
    },
    {
      "cell_type": "code",
      "metadata": {
        "id": "q8TkTGUJmLXA",
        "colab": {
          "base_uri": "https://localhost:8080/"
        },
        "outputId": "be0d9148-9acb-4a57-cd39-5b2a8149caed"
      },
      "source": [
        "!pip install h2o"
      ],
      "execution_count": null,
      "outputs": [
        {
          "output_type": "stream",
          "text": [
            "Collecting h2o\n",
            "\u001b[?25l  Downloading https://files.pythonhosted.org/packages/23/c9/f24bbb8e7a57097f12c7bef3d277641eddf5160688e442d0eb1b41bf6a67/h2o-3.32.1.3.tar.gz (164.8MB)\n",
            "\u001b[K     |████████████████████████████████| 164.8MB 85kB/s \n",
            "\u001b[?25hRequirement already satisfied: requests in /usr/local/lib/python3.7/dist-packages (from h2o) (2.23.0)\n",
            "Requirement already satisfied: tabulate in /usr/local/lib/python3.7/dist-packages (from h2o) (0.8.9)\n",
            "Requirement already satisfied: future in /usr/local/lib/python3.7/dist-packages (from h2o) (0.16.0)\n",
            "Collecting colorama>=0.3.8\n",
            "  Downloading https://files.pythonhosted.org/packages/44/98/5b86278fbbf250d239ae0ecb724f8572af1c91f4a11edf4d36a206189440/colorama-0.4.4-py2.py3-none-any.whl\n",
            "Requirement already satisfied: chardet<4,>=3.0.2 in /usr/local/lib/python3.7/dist-packages (from requests->h2o) (3.0.4)\n",
            "Requirement already satisfied: urllib3!=1.25.0,!=1.25.1,<1.26,>=1.21.1 in /usr/local/lib/python3.7/dist-packages (from requests->h2o) (1.24.3)\n",
            "Requirement already satisfied: certifi>=2017.4.17 in /usr/local/lib/python3.7/dist-packages (from requests->h2o) (2020.12.5)\n",
            "Requirement already satisfied: idna<3,>=2.5 in /usr/local/lib/python3.7/dist-packages (from requests->h2o) (2.10)\n",
            "Building wheels for collected packages: h2o\n",
            "  Building wheel for h2o (setup.py) ... \u001b[?25l\u001b[?25hdone\n",
            "  Created wheel for h2o: filename=h2o-3.32.1.3-py2.py3-none-any.whl size=164854343 sha256=a773884296b436e69e94d0da1d292cab53d0318ddb20961212b9af84a8f33520\n",
            "  Stored in directory: /root/.cache/pip/wheels/4f/bb/82/0988682f9abd0b5e95109a4aae6793dd427173b6dc671d9252\n",
            "Successfully built h2o\n",
            "Installing collected packages: colorama, h2o\n",
            "Successfully installed colorama-0.4.4 h2o-3.32.1.3\n"
          ],
          "name": "stdout"
        }
      ]
    },
    {
      "cell_type": "markdown",
      "metadata": {
        "id": "6rii17f5u3pF"
      },
      "source": [
        "# **H2O Ranfom Forest**"
      ]
    },
    {
      "cell_type": "code",
      "metadata": {
        "id": "Got6mvDYmHQC"
      },
      "source": [
        "import h2o\n",
        "from h2o.estimators import H2ORandomForestEstimator"
      ],
      "execution_count": null,
      "outputs": []
    },
    {
      "cell_type": "code",
      "metadata": {
        "id": "vuArYzyznv9H",
        "colab": {
          "base_uri": "https://localhost:8080/",
          "height": 545
        },
        "outputId": "9de21734-6a3f-42e5-8ac1-70e6173c3937"
      },
      "source": [
        "h2o.init()"
      ],
      "execution_count": null,
      "outputs": [
        {
          "output_type": "stream",
          "text": [
            "Checking whether there is an H2O instance running at http://localhost:54321 ..... not found.\n",
            "Attempting to start a local H2O server...\n",
            "  Java Version: openjdk version \"11.0.11\" 2021-04-20; OpenJDK Runtime Environment (build 11.0.11+9-Ubuntu-0ubuntu2.18.04); OpenJDK 64-Bit Server VM (build 11.0.11+9-Ubuntu-0ubuntu2.18.04, mixed mode, sharing)\n",
            "  Starting server from /usr/local/lib/python3.7/dist-packages/h2o/backend/bin/h2o.jar\n",
            "  Ice root: /tmp/tmpgqs7xpb5\n",
            "  JVM stdout: /tmp/tmpgqs7xpb5/h2o_unknownUser_started_from_python.out\n",
            "  JVM stderr: /tmp/tmpgqs7xpb5/h2o_unknownUser_started_from_python.err\n",
            "  Server is running at http://127.0.0.1:54321\n",
            "Connecting to H2O server at http://127.0.0.1:54321 ... successful.\n"
          ],
          "name": "stdout"
        },
        {
          "output_type": "display_data",
          "data": {
            "text/html": [
              "<div style=\"overflow:auto\"><table style=\"width:50%\"><tr><td>H2O_cluster_uptime:</td>\n",
              "<td>03 secs</td></tr>\n",
              "<tr><td>H2O_cluster_timezone:</td>\n",
              "<td>Etc/UTC</td></tr>\n",
              "<tr><td>H2O_data_parsing_timezone:</td>\n",
              "<td>UTC</td></tr>\n",
              "<tr><td>H2O_cluster_version:</td>\n",
              "<td>3.32.1.3</td></tr>\n",
              "<tr><td>H2O_cluster_version_age:</td>\n",
              "<td>17 hours and 52 minutes </td></tr>\n",
              "<tr><td>H2O_cluster_name:</td>\n",
              "<td>H2O_from_python_unknownUser_vgh9i9</td></tr>\n",
              "<tr><td>H2O_cluster_total_nodes:</td>\n",
              "<td>1</td></tr>\n",
              "<tr><td>H2O_cluster_free_memory:</td>\n",
              "<td>3.174 Gb</td></tr>\n",
              "<tr><td>H2O_cluster_total_cores:</td>\n",
              "<td>2</td></tr>\n",
              "<tr><td>H2O_cluster_allowed_cores:</td>\n",
              "<td>2</td></tr>\n",
              "<tr><td>H2O_cluster_status:</td>\n",
              "<td>accepting new members, healthy</td></tr>\n",
              "<tr><td>H2O_connection_url:</td>\n",
              "<td>http://127.0.0.1:54321</td></tr>\n",
              "<tr><td>H2O_connection_proxy:</td>\n",
              "<td>{\"http\": null, \"https\": null}</td></tr>\n",
              "<tr><td>H2O_internal_security:</td>\n",
              "<td>False</td></tr>\n",
              "<tr><td>H2O_API_Extensions:</td>\n",
              "<td>Amazon S3, XGBoost, Algos, AutoML, Core V3, TargetEncoder, Core V4</td></tr>\n",
              "<tr><td>Python_version:</td>\n",
              "<td>3.7.10 final</td></tr></table></div>"
            ],
            "text/plain": [
              "--------------------------  ------------------------------------------------------------------\n",
              "H2O_cluster_uptime:         03 secs\n",
              "H2O_cluster_timezone:       Etc/UTC\n",
              "H2O_data_parsing_timezone:  UTC\n",
              "H2O_cluster_version:        3.32.1.3\n",
              "H2O_cluster_version_age:    17 hours and 52 minutes\n",
              "H2O_cluster_name:           H2O_from_python_unknownUser_vgh9i9\n",
              "H2O_cluster_total_nodes:    1\n",
              "H2O_cluster_free_memory:    3.174 Gb\n",
              "H2O_cluster_total_cores:    2\n",
              "H2O_cluster_allowed_cores:  2\n",
              "H2O_cluster_status:         accepting new members, healthy\n",
              "H2O_connection_url:         http://127.0.0.1:54321\n",
              "H2O_connection_proxy:       {\"http\": null, \"https\": null}\n",
              "H2O_internal_security:      False\n",
              "H2O_API_Extensions:         Amazon S3, XGBoost, Algos, AutoML, Core V3, TargetEncoder, Core V4\n",
              "Python_version:             3.7.10 final\n",
              "--------------------------  ------------------------------------------------------------------"
            ]
          },
          "metadata": {
            "tags": []
          }
        }
      ]
    },
    {
      "cell_type": "code",
      "metadata": {
        "id": "VMtB3NhKo9r_",
        "colab": {
          "base_uri": "https://localhost:8080/"
        },
        "outputId": "8c83c6c6-d0cd-4947-a197-d1d5587a8877"
      },
      "source": [
        "Train_data.columns"
      ],
      "execution_count": null,
      "outputs": [
        {
          "output_type": "execute_result",
          "data": {
            "text/plain": [
              "Index(['MRNO', 'AGE', 'GENDER', 'DISTRICT', 'TEHSIL', 'REPORT_VERIFIED',\n",
              "       'CPT_ID', 'RESULT_VALUE', 'CPT_ID.1', 'RESULT_TEXT'],\n",
              "      dtype='object')"
            ]
          },
          "metadata": {
            "tags": []
          },
          "execution_count": 54
        }
      ]
    },
    {
      "cell_type": "code",
      "metadata": {
        "id": "Mz-1c2U1oo9s"
      },
      "source": [
        "training_columns = ['MRNO', 'AGE', 'GENDER', 'DISTRICT', 'TEHSIL', 'REPORT_VERIFIED',\n",
        "       'CPT_ID', 'RESULT_VALUE', 'CPT_ID.1']\n",
        "# Output parameter train against input parameters\n",
        "response_column = 'RESULT_TEXT'"
      ],
      "execution_count": null,
      "outputs": []
    },
    {
      "cell_type": "code",
      "metadata": {
        "id": "VH8pRZA4tTxk"
      },
      "source": [
        "import h2o\n",
        "import pandas as pd"
      ],
      "execution_count": null,
      "outputs": []
    },
    {
      "cell_type": "code",
      "metadata": {
        "id": "6BUWm-XytYQE",
        "colab": {
          "base_uri": "https://localhost:8080/"
        },
        "outputId": "e56f769d-53f1-4e8e-ff03-1994cad17cbd"
      },
      "source": [
        "hf = h2o.H2OFrame(Train_data)"
      ],
      "execution_count": null,
      "outputs": [
        {
          "output_type": "stream",
          "text": [
            "Parse progress: |█████████████████████████████████████████████████████████| 100%\n"
          ],
          "name": "stdout"
        }
      ]
    },
    {
      "cell_type": "code",
      "metadata": {
        "id": "bnHL4RNEtmk7"
      },
      "source": [
        "train, test = hf.split_frame(ratios=[0.8])"
      ],
      "execution_count": null,
      "outputs": []
    },
    {
      "cell_type": "code",
      "metadata": {
        "id": "CMgNiJ72pSMW"
      },
      "source": [
        "model = H2ORandomForestEstimator(ntrees=50, max_depth=20, nfolds=10)"
      ],
      "execution_count": null,
      "outputs": []
    },
    {
      "cell_type": "code",
      "metadata": {
        "id": "8awnuxwhrUm7",
        "colab": {
          "base_uri": "https://localhost:8080/"
        },
        "outputId": "6da58a14-5791-4107-ff99-2077da277376"
      },
      "source": [
        "model.train(x=training_columns, y=response_column, training_frame=train)"
      ],
      "execution_count": null,
      "outputs": [
        {
          "output_type": "stream",
          "text": [
            "drf Model Build progress: |███████████████████████████████████████████████| 100%\n"
          ],
          "name": "stdout"
        }
      ]
    },
    {
      "cell_type": "code",
      "metadata": {
        "id": "3NqBx7wCt9Bx",
        "colab": {
          "base_uri": "https://localhost:8080/"
        },
        "outputId": "5bb82628-a45c-4dd6-c217-318db40f4b8e"
      },
      "source": [
        "# Model performance\n",
        "performance = model.model_performance(test_data=test)\n",
        "\n",
        "print(performance)"
      ],
      "execution_count": null,
      "outputs": [
        {
          "output_type": "stream",
          "text": [
            "\n",
            "ModelMetricsRegression: drf\n",
            "** Reported on test data. **\n",
            "\n",
            "MSE: 0.004735073406490919\n",
            "RMSE: 0.0688118696628054\n",
            "MAE: 0.010082532736872334\n",
            "RMSLE: 0.047543521421204354\n",
            "Mean Residual Deviance: 0.004735073406490919\n",
            "\n"
          ],
          "name": "stdout"
        }
      ]
    },
    {
      "cell_type": "markdown",
      "metadata": {
        "id": "pK4c8nU4uXqE"
      },
      "source": [
        "#**References**\n",
        "\n",
        "[Random Forest Classification with H2O](https://medium.com/tech-vision/random-forest-classification-with-h2o-python-for-beginners-b31f6e4ccf3c)\n",
        "\n",
        "[Build and deploy your first machine learning web app](https://towardsdatascience.com/build-and-deploy-your-first-machine-learning-web-app-e020db344a99)\n"
      ]
    }
  ]
}